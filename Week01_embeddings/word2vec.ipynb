{
  "cells": [
    {
      "cell_type": "markdown",
      "metadata": {
        "id": "nTSf4ro-qU0d"
      },
      "source": [
        "\n",
        "## Bonus Task: word2vec in PyTorch\n",
        "\n",
        "As you may have already noticed, the idea behind [word2vec](https://arxiv.org/pdf/1310.4546) is quite general. In this task, you will implement it yourself.\n",
        "\n",
        "Disclaimer: don't be surprised if the implementation from gensim (or similar libraries) trains faster and is more accurate. It uses many optimizations and accelerations, along with quite efficient code. Your task is to achieve intermediate results within a reasonable time.\n",
        "\n",
        "P.S. Strangely enough, we won't need a GPU for this task."
      ]
    },
    {
      "cell_type": "markdown",
      "metadata": {
        "id": "fth1DSO8AjuC"
      },
      "source": [
        "__Requirements:__ if you're running locally, in the selected environment run the following command:\n",
        "\n",
        "```pip install --upgrade nltk bokeh umap-learn```\n"
      ]
    },
    {
      "cell_type": "code",
      "execution_count": null,
      "metadata": {
        "colab": {
          "base_uri": "https://localhost:8080/"
        },
        "id": "Oipe2DU8qfm7",
        "outputId": "04c9cbfe-e3c4-42a1-d623-2ccde28c94aa"
      },
      "outputs": [
        {
          "name": "stdout",
          "output_type": "stream",
          "text": [
            "Requirement already satisfied: nltk in /usr/local/lib/python3.10/dist-packages (3.9.1)\n",
            "Requirement already satisfied: bokeh in /usr/local/lib/python3.10/dist-packages (3.6.2)\n",
            "Collecting umap-learn\n",
            "  Downloading umap_learn-0.5.7-py3-none-any.whl.metadata (21 kB)\n",
            "Requirement already satisfied: click in /usr/local/lib/python3.10/dist-packages (from nltk) (8.1.8)\n",
            "Requirement already satisfied: joblib in /usr/local/lib/python3.10/dist-packages (from nltk) (1.4.2)\n",
            "Requirement already satisfied: regex>=2021.8.3 in /usr/local/lib/python3.10/dist-packages (from nltk) (2024.11.6)\n",
            "Requirement already satisfied: tqdm in /usr/local/lib/python3.10/dist-packages (from nltk) (4.67.1)\n",
            "Requirement already satisfied: Jinja2>=2.9 in /usr/local/lib/python3.10/dist-packages (from bokeh) (3.1.5)\n",
            "Requirement already satisfied: contourpy>=1.2 in /usr/local/lib/python3.10/dist-packages (from bokeh) (1.3.1)\n",
            "Requirement already satisfied: numpy>=1.16 in /usr/local/lib/python3.10/dist-packages (from bokeh) (1.26.4)\n",
            "Requirement already satisfied: packaging>=16.8 in /usr/local/lib/python3.10/dist-packages (from bokeh) (24.2)\n",
            "Requirement already satisfied: pandas>=1.2 in /usr/local/lib/python3.10/dist-packages (from bokeh) (2.2.2)\n",
            "Requirement already satisfied: pillow>=7.1.0 in /usr/local/lib/python3.10/dist-packages (from bokeh) (11.1.0)\n",
            "Requirement already satisfied: PyYAML>=3.10 in /usr/local/lib/python3.10/dist-packages (from bokeh) (6.0.2)\n",
            "Requirement already satisfied: tornado>=6.2 in /usr/local/lib/python3.10/dist-packages (from bokeh) (6.3.3)\n",
            "Requirement already satisfied: xyzservices>=2021.09.1 in /usr/local/lib/python3.10/dist-packages (from bokeh) (2024.9.0)\n",
            "Requirement already satisfied: scipy>=1.3.1 in /usr/local/lib/python3.10/dist-packages (from umap-learn) (1.13.1)\n",
            "Requirement already satisfied: scikit-learn>=0.22 in /usr/local/lib/python3.10/dist-packages (from umap-learn) (1.6.0)\n",
            "Requirement already satisfied: numba>=0.51.2 in /usr/local/lib/python3.10/dist-packages (from umap-learn) (0.60.0)\n",
            "Collecting pynndescent>=0.5 (from umap-learn)\n",
            "  Downloading pynndescent-0.5.13-py3-none-any.whl.metadata (6.8 kB)\n",
            "Requirement already satisfied: MarkupSafe>=2.0 in /usr/local/lib/python3.10/dist-packages (from Jinja2>=2.9->bokeh) (3.0.2)\n",
            "Requirement already satisfied: llvmlite<0.44,>=0.43.0dev0 in /usr/local/lib/python3.10/dist-packages (from numba>=0.51.2->umap-learn) (0.43.0)\n",
            "Requirement already satisfied: python-dateutil>=2.8.2 in /usr/local/lib/python3.10/dist-packages (from pandas>=1.2->bokeh) (2.8.2)\n",
            "Requirement already satisfied: pytz>=2020.1 in /usr/local/lib/python3.10/dist-packages (from pandas>=1.2->bokeh) (2024.2)\n",
            "Requirement already satisfied: tzdata>=2022.7 in /usr/local/lib/python3.10/dist-packages (from pandas>=1.2->bokeh) (2024.2)\n",
            "Requirement already satisfied: threadpoolctl>=3.1.0 in /usr/local/lib/python3.10/dist-packages (from scikit-learn>=0.22->umap-learn) (3.5.0)\n",
            "Requirement already satisfied: six>=1.5 in /usr/local/lib/python3.10/dist-packages (from python-dateutil>=2.8.2->pandas>=1.2->bokeh) (1.17.0)\n",
            "Downloading umap_learn-0.5.7-py3-none-any.whl (88 kB)\n",
            "\u001b[2K   \u001b[90m━━━━━━━━━━━━━━━━━━━━━━━━━━━━━━━━━━━━━━━━\u001b[0m \u001b[32m88.8/88.8 kB\u001b[0m \u001b[31m4.2 MB/s\u001b[0m eta \u001b[36m0:00:00\u001b[0m\n",
            "\u001b[?25hDownloading pynndescent-0.5.13-py3-none-any.whl (56 kB)\n",
            "\u001b[2K   \u001b[90m━━━━━━━━━━━━━━━━━━━━━━━━━━━━━━━━━━━━━━━━\u001b[0m \u001b[32m56.9/56.9 kB\u001b[0m \u001b[31m5.4 MB/s\u001b[0m eta \u001b[36m0:00:00\u001b[0m\n",
            "\u001b[?25hInstalling collected packages: pynndescent, umap-learn\n",
            "Successfully installed pynndescent-0.5.13 umap-learn-0.5.7\n"
          ]
        }
      ],
      "source": [
        "#!pip install --upgrade nltk bokeh umap-learn"
      ]
    },
    {
      "cell_type": "code",
      "execution_count": null,
      "metadata": {
        "id": "pqPU4Lu2qU0h"
      },
      "outputs": [],
      "source": [
        "import itertools\n",
        "import random\n",
        "import string\n",
        "from collections import Counter\n",
        "from itertools import chain\n",
        "\n",
        "import matplotlib.pyplot as plt\n",
        "import numpy as np\n",
        "import torch\n",
        "import torch.autograd as autograd\n",
        "import torch.nn as nn\n",
        "import torch.nn.functional as F\n",
        "import torch.optim as optim\n",
        "import umap\n",
        "from IPython.display import clear_output\n",
        "from matplotlib import pyplot as plt\n",
        "from nltk.tokenize import WordPunctTokenizer\n",
        "from torch.optim.lr_scheduler import ReduceLROnPlateau, StepLR\n",
        "from tqdm.auto import tqdm as tqdma"
      ]
    },
    {
      "cell_type": "code",
      "execution_count": null,
      "metadata": {
        "colab": {
          "base_uri": "https://localhost:8080/"
        },
        "id": "8Fbx57z3qU0i",
        "outputId": "ffcc18b7-112d-4d47-d43c-2f1e38dcd4b2"
      },
      "outputs": [
        {
          "name": "stdout",
          "output_type": "stream",
          "text": [
            "--2025-01-13 00:15:45--  https://www.dropbox.com/s/obaitrix9jyu84r/quora.txt?dl=1\n",
            "Resolving www.dropbox.com (www.dropbox.com)... 162.125.81.18, 2620:100:6031:18::a27d:5112\n",
            "Connecting to www.dropbox.com (www.dropbox.com)|162.125.81.18|:443... connected.\n",
            "HTTP request sent, awaiting response... 302 Found\n",
            "Location: https://www.dropbox.com/scl/fi/p0t2dw6oqs6oxpd6zz534/quora.txt?rlkey=bjupppwua4zmd4elz8octecy9&dl=1 [following]\n",
            "--2025-01-13 00:15:46--  https://www.dropbox.com/scl/fi/p0t2dw6oqs6oxpd6zz534/quora.txt?rlkey=bjupppwua4zmd4elz8octecy9&dl=1\n",
            "Reusing existing connection to www.dropbox.com:443.\n",
            "HTTP request sent, awaiting response... 302 Found\n",
            "Location: https://uc54bfa53b800cd8bb964c8653e5.dl.dropboxusercontent.com/cd/0/inline/CiH0CMahWGOtAzLumNR3STX201Eu75oLShAzdQb0A4BW0enJ4ZA9xKdanIEs8V_282wlKIk8x48Qq_3ZMe9fXmqLdX_FyRvoz5CdVEm_-QUMctotvhiNb5_M51OEgDWF8jw/file?dl=1# [following]\n",
            "--2025-01-13 00:15:46--  https://uc54bfa53b800cd8bb964c8653e5.dl.dropboxusercontent.com/cd/0/inline/CiH0CMahWGOtAzLumNR3STX201Eu75oLShAzdQb0A4BW0enJ4ZA9xKdanIEs8V_282wlKIk8x48Qq_3ZMe9fXmqLdX_FyRvoz5CdVEm_-QUMctotvhiNb5_M51OEgDWF8jw/file?dl=1\n",
            "Resolving uc54bfa53b800cd8bb964c8653e5.dl.dropboxusercontent.com (uc54bfa53b800cd8bb964c8653e5.dl.dropboxusercontent.com)... 162.125.81.15, 2620:100:6031:15::a27d:510f\n",
            "Connecting to uc54bfa53b800cd8bb964c8653e5.dl.dropboxusercontent.com (uc54bfa53b800cd8bb964c8653e5.dl.dropboxusercontent.com)|162.125.81.15|:443... connected.\n",
            "HTTP request sent, awaiting response... 200 OK\n",
            "Length: 33813903 (32M) [application/binary]\n",
            "Saving to: ‘./quora.txt’\n",
            "\n",
            "./quora.txt         100%[===================>]  32.25M  19.5MB/s    in 1.7s    \n",
            "\n",
            "2025-01-13 00:15:49 (19.5 MB/s) - ‘./quora.txt’ saved [33813903/33813903]\n",
            "\n"
          ]
        }
      ],
      "source": [
        "# download the data:\n",
        "!wget https://www.dropbox.com/s/obaitrix9jyu84r/quora.txt?dl=1 -O ./quora.txt -nc\n",
        "# alternative download link: https://yadi.sk/i/BPQrUu1NaTduEw"
      ]
    },
    {
      "cell_type": "code",
      "execution_count": null,
      "metadata": {
        "colab": {
          "base_uri": "https://localhost:8080/",
          "height": 36
        },
        "id": "8EYy5dQpqU0i",
        "outputId": "e48048e4-4164-4f14-cd17-105250532ed9",
        "scrolled": false
      },
      "outputs": [
        {
          "data": {
            "application/vnd.google.colaboratory.intrinsic+json": {
              "type": "string"
            },
            "text/plain": [
              "\"What TV shows or books help you read people's body language?\\n\""
            ]
          },
          "execution_count": 4,
          "metadata": {},
          "output_type": "execute_result"
        }
      ],
      "source": [
        "data = list(open(\"./quora.txt\", encoding=\"utf-8\"))\n",
        "data[50]"
      ]
    },
    {
      "cell_type": "markdown",
      "metadata": {
        "id": "feBEGI2eqU0j"
      },
      "source": [
        "\n",
        "Tokenization is the first step.\n",
        "The texts we work with include punctuation, emoticons, and other non-standard tokens, so simple `str.split` won't work.\n",
        "\n",
        "Let's turn to `nltk` - a library that has found wide application in the field of NLP."
      ]
    },
    {
      "cell_type": "code",
      "execution_count": null,
      "metadata": {
        "colab": {
          "base_uri": "https://localhost:8080/"
        },
        "id": "7mWTvm50qU0j",
        "outputId": "5220df8d-e48d-4790-c095-9096af125faa"
      },
      "outputs": [
        {
          "name": "stdout",
          "output_type": "stream",
          "text": [
            "['What', 'TV', 'shows', 'or', 'books', 'help', 'you', 'read', 'people', \"'\", 's', 'body', 'language', '?']\n"
          ]
        }
      ],
      "source": [
        "tokenizer = WordPunctTokenizer()\n",
        "\n",
        "print(tokenizer.tokenize(data[50]))"
      ]
    },
    {
      "cell_type": "code",
      "execution_count": null,
      "metadata": {
        "id": "HzC05EHWqU0j"
      },
      "outputs": [],
      "source": [
        "data_tok = [\n",
        "    tokenizer.tokenize(\n",
        "        line.translate(str.maketrans(\"\", \"\", string.punctuation)).lower()\n",
        "    )\n",
        "    for line in data\n",
        "]\n",
        "data_tok = [x for x in data_tok if len(x) >= 3]"
      ]
    },
    {
      "cell_type": "markdown",
      "metadata": {
        "id": "6azRAgHIqU0k"
      },
      "source": [
        "Some checks:"
      ]
    },
    {
      "cell_type": "code",
      "execution_count": null,
      "metadata": {
        "id": "Cp8UpxdWqU0k"
      },
      "outputs": [],
      "source": [
        "assert all(\n",
        "    isinstance(row, (list, tuple)) for row in data_tok\n",
        "), \"please convert each line into a list of tokens (strings)\"\n",
        "assert all(\n",
        "    all(isinstance(tok, str) for tok in row) for row in data_tok\n",
        "), \"please convert each line into a list of tokens (strings)\"\n",
        "is_latin = lambda tok: all(\"a\" <= x.lower() <= \"z\" for x in tok)\n",
        "assert all(\n",
        "    map(lambda l: not is_latin(l) or l.islower(), map(\" \".join, data_tok))\n",
        "), \"please make sure to lowercase the data\""
      ]
    },
    {
      "cell_type": "markdown",
      "metadata": {
        "id": "37e7-MIhqU0x"
      },
      "source": [
        "Define some constants: window size  for skip-gram model."
      ]
    },
    {
      "cell_type": "code",
      "execution_count": null,
      "metadata": {
        "id": "fugc1IomqU0x"
      },
      "outputs": [],
      "source": [
        "min_count = 5\n",
        "window_radius = 5"
      ]
    },
    {
      "cell_type": "code",
      "execution_count": null,
      "metadata": {
        "id": "i2UcNTFVAjuE"
      },
      "outputs": [],
      "source": [
        "vocabulary_with_counter = Counter(chain.from_iterable(data_tok))\n",
        "\n",
        "word_count_dict = dict()\n",
        "for word, counter in vocabulary_with_counter.items():\n",
        "    if counter >= min_count:\n",
        "        word_count_dict[word] = counter\n",
        "\n",
        "vocabulary = set(word_count_dict.keys())\n",
        "del vocabulary_with_counter"
      ]
    },
    {
      "cell_type": "code",
      "execution_count": null,
      "metadata": {
        "id": "KCmNGZp9AjuE"
      },
      "outputs": [],
      "source": [
        "word_to_index = {word: index for index, word in enumerate(vocabulary)}\n",
        "index_to_word = {index: word for word, index in word_to_index.items()}"
      ]
    },
    {
      "cell_type": "code",
      "execution_count": null,
      "metadata": {
        "colab": {
          "base_uri": "https://localhost:8080/",
          "height": 36
        },
        "id": "Ao-ehKnuBScm",
        "outputId": "0c59ee6d-02a4-49f0-b2bd-2ac6ed73e884"
      },
      "outputs": [
        {
          "data": {
            "application/vnd.google.colaboratory.intrinsic+json": {
              "type": "string"
            },
            "text/plain": [
              "'town'"
            ]
          },
          "execution_count": 12,
          "metadata": {},
          "output_type": "execute_result"
        }
      ],
      "source": [
        "index_to_word[10]"
      ]
    },
    {
      "cell_type": "markdown",
      "metadata": {
        "id": "4Y8rlBfqqU0x"
      },
      "source": [
        "Pairs `(word, context)` are generated on the base of our data."
      ]
    },
    {
      "cell_type": "code",
      "execution_count": null,
      "metadata": {
        "colab": {
          "base_uri": "https://localhost:8080/"
        },
        "id": "h2-aqyyaqU0x",
        "outputId": "fdf848fb-fa58-4819-e72d-6bbee68fa79f"
      },
      "outputs": [
        {
          "name": "stdout",
          "output_type": "stream",
          "text": [
            "Generated 40220313 pairs of target and context words.\n"
          ]
        }
      ],
      "source": [
        "context_pairs = []\n",
        "\n",
        "for text in data_tok:\n",
        "    for i, central_word in enumerate(text):\n",
        "        context_indices = range(\n",
        "            max(0, i - window_radius), min(i + window_radius, len(text))\n",
        "        )\n",
        "        for j in context_indices:\n",
        "            if j == i:\n",
        "                continue\n",
        "            context_word = text[j]\n",
        "            if central_word in vocabulary and context_word in vocabulary:\n",
        "                context_pairs.append(\n",
        "                    (word_to_index[central_word], word_to_index[context_word])\n",
        "                )\n",
        "\n",
        "print(f\"Generated {len(context_pairs)} pairs of target and context words.\")"
      ]
    },
    {
      "cell_type": "code",
      "execution_count": null,
      "metadata": {
        "colab": {
          "base_uri": "https://localhost:8080/"
        },
        "id": "T00heFY_CCJ8",
        "outputId": "de1832b2-c1e8-4fab-9c16-72ee3375d2c0"
      },
      "outputs": [
        {
          "data": {
            "text/plain": [
              "(19386, 24381)"
            ]
          },
          "execution_count": 14,
          "metadata": {},
          "output_type": "execute_result"
        }
      ],
      "source": [
        "context_pairs[0]"
      ]
    },
    {
      "cell_type": "markdown",
      "metadata": {
        "id": "YVDMbzeeAjuE"
      },
      "source": [
        "#### Subtask 1: Subsampling\n",
        "To smooth out the differences in word frequencies, you need to implement a subsampling mechanism.\n",
        "For this, you need to implement the function below.\n",
        "\n",
        "The probability of **excluding** a word from training (at a fixed step) is calculated as:\n",
        "$$\n",
        "P_\\text{drop}(w_i)=1 - \\sqrt{\\frac{t}{f(w_i)}},\n",
        "$$\n",
        "where $f(w_i)$ is the normalized frequency of the word, and $t$ is the given threshold."
      ]
    },
    {
      "cell_type": "code",
      "execution_count": null,
      "metadata": {
        "id": "HvkwqLoCAjuE"
      },
      "outputs": [],
      "source": [
        "def subsample_frequent_words(word_count_dict, threshold=1e-5):\n",
        "    \"\"\"\n",
        "    Calculates the subsampling probabilities for words based on their frequencies.\n",
        "\n",
        "    This function is used to determine the probability of keeping a word in the dataset\n",
        "    when subsampling frequent words. The method used is inspired by the subsampling approach\n",
        "    in Word2Vec, where each word's frequency affects its probability of being kept.\n",
        "\n",
        "    Parameters:\n",
        "    - word_count_dict (dict): A dictionary where keys are words and values are the counts of those words.\n",
        "    - threshold (float, optional): A threshold parameter used to adjust the frequency of word subsampling.\n",
        "                                   Defaults to 1e-5.\n",
        "\n",
        "    Returns:\n",
        "    - dict: A dictionary where keys are words and values are the probabilities of keeping each word.\n",
        "\n",
        "    Example:\n",
        "    >>> word_counts = {'the': 5000, 'is': 1000, 'apple': 50}\n",
        "    >>> subsample_frequent_words(word_counts)\n",
        "    {'the': 0.028, 'is': 0.223, 'apple': 1.0}\n",
        "    \"\"\"\n",
        "\n",
        "    ### YOUR CODE HERE\n",
        "    # Total word count in the dataset\n",
        "    total_count = sum(word_count_dict.values())\n",
        "\n",
        "    # Compute normalized frequencies\n",
        "    word_freq_dict = {word: count / total_count for word, count in word_count_dict.items()}\n",
        "\n",
        "    # Compute probabilities of keeping each word\n",
        "    keep_prob_dict = {\n",
        "        word: min(1, (threshold / freq) ** 0.5 + (threshold / freq))\n",
        "        for word, freq in word_freq_dict.items()\n",
        "    }\n",
        "    # keep_prob_dict = {\n",
        "    #     word: 0 for word in word_count_dict.keys()\n",
        "    # }  # THIS IS A PLACEHOLDER!\n",
        "    return keep_prob_dict"
      ]
    },
    {
      "cell_type": "code",
      "execution_count": null,
      "metadata": {
        "colab": {
          "base_uri": "https://localhost:8080/"
        },
        "id": "nr_gvaW6HbUC",
        "outputId": "3c6ca657-d7a9-4c2e-b5d9-c3254d27af8d"
      },
      "outputs": [
        {
          "data": {
            "text/plain": [
              "0.0034785054261852176"
            ]
          },
          "execution_count": 53,
          "metadata": {},
          "output_type": "execute_result"
        }
      ],
      "source": [
        "np.sqrt((1e-5)*6050/5000) #((1e-5/5000*(5000+1000+50))**(-0.5) + 1)* 1e-5/5000*(5000+1000+50)"
      ]
    },
    {
      "cell_type": "code",
      "execution_count": null,
      "metadata": {
        "colab": {
          "base_uri": "https://localhost:8080/"
        },
        "id": "A9eTXnsyFspH",
        "outputId": "45e07dfe-13e8-4ef8-b748-958b67812e52"
      },
      "outputs": [
        {
          "data": {
            "text/plain": [
              "{'the': 0.0034906054261852177,\n",
              " 'is': 0.007838674593052023,\n",
              " 'apple': 0.03599505426185218}"
            ]
          },
          "execution_count": 54,
          "metadata": {},
          "output_type": "execute_result"
        }
      ],
      "source": [
        "word_counts = {'the': 5000, 'is': 1000, 'apple': 50}\n",
        "subsample_frequent_words(word_counts)"
      ]
    },
    {
      "cell_type": "markdown",
      "metadata": {
        "id": "qMd5jMACAjuE"
      },
      "source": [
        "#### Subtask 2: Negative Sampling\n",
        "For more efficient training, it is necessary not only to predict high probabilities for words in the context but also to predict low probabilities for words not seen in the context. To achieve this, you need to calculate the probability of using a word as a negative sample by implementing the function below.\n",
        "\n",
        "In the original paper, it is suggested to evaluate the probability of a word serving as a negative sample according to the distribution\n",
        "$$\n",
        "P_n(w) = \\frac{U(w)^{3/4}}{Z},\n",
        "$$\n",
        "where $U(w)$ is the word distribution by frequency (or, as it is sometimes called, the unigram distribution), and $Z$ is the normalization constant to ensure the total measure equals 1."
      ]
    },
    {
      "cell_type": "code",
      "execution_count": null,
      "metadata": {
        "id": "C6QiaNLEAjuE"
      },
      "outputs": [],
      "source": [
        "def get_negative_sampling_prob(word_count_dict):\n",
        "    \"\"\"\n",
        "    Calculates the negative sampling probabilities for words based on their frequencies.\n",
        "\n",
        "    This function adjusts the frequency of each word raised to the power of 0.75, which is\n",
        "    commonly used in algorithms like Word2Vec to moderate the influence of very frequent words.\n",
        "    It then normalizes these adjusted frequencies to ensure they sum to 1, forming a probability\n",
        "    distribution used for negative sampling.\n",
        "\n",
        "    Parameters:\n",
        "    - word_count_dict (dict): A dictionary where keys are words and values are the counts of those words.\n",
        "\n",
        "    Returns:\n",
        "    - dict: A dictionary where keys are words and values are the probabilities of selecting each word\n",
        "            for negative sampling.\n",
        "\n",
        "    Example:\n",
        "    >>> word_counts = {'the': 5000, 'is': 1000, 'apple': 50}\n",
        "    >>> get_negative_sampling_prob(word_counts)\n",
        "    {'the': 0.298, 'is': 0.160, 'apple': 0.042}\n",
        "    \"\"\"\n",
        "\n",
        "    ### YOUR CODE HERE\n",
        "    # Step 1: Raise counts to the power of 0.75\n",
        "    adjusted_frequencies = {word: count ** 0.75 for word, count in word_count_dict.items()}\n",
        "\n",
        "    # Step 2: Compute the total sum of adjusted frequencies\n",
        "    total_adjusted_frequency = sum(adjusted_frequencies.values())\n",
        "\n",
        "    # Step 3: Normalize to create a probability distribution\n",
        "    negative_sampling_prob_dict = {\n",
        "        word: freq / total_adjusted_frequency\n",
        "        for word, freq in adjusted_frequencies.items()\n",
        "    }\n",
        "    # negative_sampling_prob_dict = {\n",
        "    #     word: 0 for word in word_count_dict.keys()\n",
        "    # }  # THIS IS A PLACEHOLDER!\n",
        "    return negative_sampling_prob_dict"
      ]
    },
    {
      "cell_type": "markdown",
      "metadata": {
        "id": "NJRTYSGaAjuE"
      },
      "source": [
        "For convenience, let's convert the obtained dictionaries into arrays (since all words are already numbered anyway)."
      ]
    },
    {
      "cell_type": "code",
      "execution_count": null,
      "metadata": {
        "id": "nT0eVJJtAjuE"
      },
      "outputs": [],
      "source": [
        "keep_prob_dict = subsample_frequent_words(word_count_dict)\n",
        "assert keep_prob_dict.keys() == word_count_dict.keys()"
      ]
    },
    {
      "cell_type": "code",
      "execution_count": null,
      "metadata": {
        "id": "ErRPAeyGAjuE"
      },
      "outputs": [],
      "source": [
        "negative_sampling_prob_dict = get_negative_sampling_prob(word_count_dict)\n",
        "assert negative_sampling_prob_dict.keys() == negative_sampling_prob_dict.keys()\n",
        "assert np.allclose(sum(negative_sampling_prob_dict.values()), 1)"
      ]
    },
    {
      "cell_type": "code",
      "execution_count": null,
      "metadata": {
        "id": "seo0CbjKAjuE"
      },
      "outputs": [],
      "source": [
        "keep_prob_array = np.array(\n",
        "    [keep_prob_dict[index_to_word[idx]] for idx in range(len(word_to_index))]\n",
        ")\n",
        "negative_sampling_prob_array = np.array(\n",
        "    [\n",
        "        negative_sampling_prob_dict[index_to_word[idx]]\n",
        "        for idx in range(len(word_to_index))\n",
        "    ]\n",
        ")"
      ]
    },
    {
      "cell_type": "markdown",
      "metadata": {
        "id": "2kdKotB_AjuE"
      },
      "source": [
        "If everything went successfully, the function below will help you generate sub-samples (batches)."
      ]
    },
    {
      "cell_type": "code",
      "execution_count": null,
      "metadata": {
        "id": "ht117pG2AjuE"
      },
      "outputs": [],
      "source": [
        "def generate_batch_with_neg_samples(\n",
        "    context_pairs,\n",
        "    batch_size,\n",
        "    keep_prob_array,\n",
        "    word_to_index,\n",
        "    num_negatives,\n",
        "    negative_sampling_prob_array,\n",
        "):\n",
        "    batch = []\n",
        "    neg_samples = []\n",
        "\n",
        "    while len(batch) < batch_size:\n",
        "        center, context = random.choice(context_pairs)\n",
        "        if random.random() < keep_prob_array[center]:\n",
        "            batch.append((center, context))\n",
        "            neg_sample = np.random.choice(\n",
        "                range(len(negative_sampling_prob_array)),\n",
        "                size=num_negatives,\n",
        "                p=negative_sampling_prob_array,\n",
        "            )\n",
        "            neg_samples.append(neg_sample)\n",
        "    batch = np.array(batch)\n",
        "    neg_samples = np.vstack(neg_samples)\n",
        "    return batch, neg_samples"
      ]
    },
    {
      "cell_type": "code",
      "execution_count": null,
      "metadata": {
        "id": "ZGXi5XE6AjuE"
      },
      "outputs": [],
      "source": [
        "batch_size = 4\n",
        "num_negatives = 15\n",
        "batch, neg_samples = generate_batch_with_neg_samples(\n",
        "    context_pairs,\n",
        "    batch_size,\n",
        "    keep_prob_array,\n",
        "    word_to_index,\n",
        "    num_negatives,\n",
        "    negative_sampling_prob_array,\n",
        ")"
      ]
    },
    {
      "cell_type": "markdown",
      "metadata": {
        "id": "SAN0sUvEAjuE"
      },
      "source": [
        "Finally, it's time to implement the model. We would like to point out that using linear layers (`nn.Linear`) is not always justified!\n",
        "\n",
        "Let us remind you that in the case of negative sampling, the task is to maximize the following functional:\n",
        "\n",
        "$$\n",
        "\\mathcal{L} = \\log \\sigma({\\mathbf{v}'_{w_O}}^\\top \\mathbf{v}_{w_I}) + \\sum_{i=1}^{k} \\mathbb{E}_{w_i \\sim P_n(w)} \\left[ \\log \\sigma({-\\mathbf{v}'_{w_i}}^\\top \\mathbf{v}_{w_I}) \\right],\n",
        "$$\n",
        "where\n",
        "- $\\mathbf{v}_{w_I}$ --- centeral word vector,\n",
        "- $\\mathbf{v}'_{w_O}$ --- context vector,\n",
        "- $k$ --- number of negative samples,\n",
        "- $P_n(w)$ --- negative samples distribution,\n",
        "- $\\sigma$ --- sigmoid function."
      ]
    },
    {
      "cell_type": "code",
      "execution_count": null,
      "metadata": {
        "id": "qe5nW8NeAjuE"
      },
      "outputs": [],
      "source": [
        "class SkipGramModelWithNegSampling(nn.Module):\n",
        "    def __init__(self, vocab_size, embedding_dim):\n",
        "        super().__init__()\n",
        "        # Center word embeddings (lookup table)\n",
        "        self.center_embeddings = nn.Embedding(vocab_size, embedding_dim)\n",
        "        # Context word embeddings (lookup table)\n",
        "        self.context_embeddings = nn.Embedding(vocab_size, embedding_dim)\n",
        "\n",
        "    def forward(self, center_words, pos_context_words, neg_context_words):\n",
        "        # YOUR CODE HERE\n",
        "        # Get embeddings for center words\n",
        "        center_embeds = self.center_embeddings(center_words)  # (B, D)\n",
        "\n",
        "        # Get embeddings for positive context words\n",
        "        pos_context_embeds = self.context_embeddings(pos_context_words)  # (B, D)\n",
        "\n",
        "        # Get embeddings for negative context words\n",
        "        neg_context_embeds = self.context_embeddings(neg_context_words)  # (B, K?, D)\n",
        "\n",
        "        pos_scores = torch.sum(center_embeds * pos_context_embeds, dim=1) # 0  # THIS IS A PLACEHOLDER\n",
        "        neg_scores = torch.bmm(\n",
        "            neg_context_embeds, center_embeds.unsqueeze(2)\n",
        "        ).squeeze(2)  # (B, K) #torch.sum(center_embeds * neg_context_embeds, dim=1) # 0  # THIS IS A PLACEHOLDER\n",
        "\n",
        "        return pos_scores, neg_scores"
      ]
    },
    {
      "cell_type": "code",
      "execution_count": null,
      "metadata": {
        "id": "MjiXPzt7AjuF"
      },
      "outputs": [],
      "source": [
        "device = torch.device(\"cpu\")"
      ]
    },
    {
      "cell_type": "code",
      "execution_count": null,
      "metadata": {
        "id": "_MN45BLvAjuF"
      },
      "outputs": [],
      "source": [
        "vocab_size = len(word_to_index)\n",
        "embedding_dim = 32\n",
        "num_negatives = 15\n",
        "\n",
        "model = SkipGramModelWithNegSampling(vocab_size, embedding_dim).to(device)\n",
        "optimizer = optim.Adam(model.parameters(), lr=0.05)\n",
        "lr_scheduler = ReduceLROnPlateau(optimizer, factor=0.5, patience=150)\n",
        "criterion = nn.BCEWithLogitsLoss()"
      ]
    },
    {
      "cell_type": "code",
      "execution_count": null,
      "metadata": {
        "id": "qkavTy-YAjuF"
      },
      "outputs": [],
      "source": [
        "params_counter = 0\n",
        "for weights in model.parameters():\n",
        "    params_counter += weights.shape.numel()\n",
        "assert params_counter == len(word_to_index) * embedding_dim * 2"
      ]
    },
    {
      "cell_type": "code",
      "execution_count": null,
      "metadata": {
        "id": "VA9nnEjxAjuF"
      },
      "outputs": [],
      "source": [
        "def train_skipgram_with_neg_sampling(\n",
        "    model,\n",
        "    context_pairs,\n",
        "    keep_prob_array,\n",
        "    word_to_index,\n",
        "    batch_size,\n",
        "    num_negatives,\n",
        "    negative_sampling_prob_array,\n",
        "    steps,\n",
        "    optimizer=optimizer,\n",
        "    lr_scheduler=lr_scheduler,\n",
        "    device=device,\n",
        "):\n",
        "    pos_labels = torch.ones(batch_size).to(device)\n",
        "    neg_labels = torch.zeros(batch_size, num_negatives).to(device)\n",
        "    loss_history = []\n",
        "    for step in tqdma(range(steps)):\n",
        "        batch, neg_samples = generate_batch_with_neg_samples(\n",
        "            context_pairs,\n",
        "            batch_size,\n",
        "            keep_prob_array,\n",
        "            word_to_index,\n",
        "            num_negatives,\n",
        "            negative_sampling_prob_array,\n",
        "        )\n",
        "        center_words = torch.tensor([pair[0] for pair in batch], dtype=torch.long).to(\n",
        "            device\n",
        "        )\n",
        "        pos_context_words = torch.tensor(\n",
        "            [pair[1] for pair in batch], dtype=torch.long\n",
        "        ).to(device)\n",
        "        neg_context_words = torch.tensor(neg_samples, dtype=torch.long).to(device)\n",
        "\n",
        "        optimizer.zero_grad()\n",
        "        pos_scores, neg_scores = model(\n",
        "            center_words, pos_context_words, neg_context_words\n",
        "        )\n",
        "\n",
        "        loss_pos = criterion(pos_scores, pos_labels)\n",
        "        loss_neg = criterion(neg_scores, neg_labels)\n",
        "\n",
        "        loss = loss_pos + loss_neg\n",
        "        loss.backward()\n",
        "        optimizer.step()\n",
        "\n",
        "        loss_history.append(loss.item())\n",
        "        lr_scheduler.step(loss_history[-1])\n",
        "\n",
        "        if step % 100 == 0:\n",
        "            print(\n",
        "                f\"Step {step}, Loss: {np.mean(loss_history[-100:])}, learning rate: {lr_scheduler._last_lr}\"\n",
        "            )"
      ]
    },
    {
      "cell_type": "code",
      "execution_count": null,
      "metadata": {
        "colab": {
          "base_uri": "https://localhost:8080/",
          "height": 567,
          "referenced_widgets": [
            "64d0f6002a18445d80506930241a1a59",
            "1465561f261746748c29d02b89414ac9",
            "1af895dbbf8e4c2884084ab2b04e1eb8",
            "4e93907128d44cf19bd9746ee970fed7",
            "950c6b6175904c3584d829045edaf225",
            "fc6e2198bc5841689c95bc78c3f9321d",
            "a868a7d95e71479f8b749b99ba0459c3",
            "c7684f95d3784034a44635e57a49f6f5",
            "bba10b679f3a4bfbb086d493ce869bf1",
            "fce22e3ecdf54ef099518873d2e8b6ef",
            "de38044d5915426083d3165444a20e86"
          ]
        },
        "id": "526PvOriAjuF",
        "outputId": "13413cf4-15a3-4b7d-9031-ef6462b0646f"
      },
      "outputs": [
        {
          "output_type": "display_data",
          "data": {
            "text/plain": [
              "  0%|          | 0/1100 [00:00<?, ?it/s]"
            ],
            "application/vnd.jupyter.widget-view+json": {
              "version_major": 2,
              "version_minor": 0,
              "model_id": "64d0f6002a18445d80506930241a1a59"
            }
          },
          "metadata": {}
        },
        {
          "output_type": "stream",
          "name": "stdout",
          "text": [
            "Step 0, Loss: 1.514573335647583, learning rate: [0.00015625]\n",
            "Step 100, Loss: 1.5109843397140503, learning rate: [0.00015625]\n",
            "Step 200, Loss: 1.508030996322632, learning rate: [7.8125e-05]\n",
            "Step 300, Loss: 1.5155027532577514, learning rate: [7.8125e-05]\n",
            "Step 400, Loss: 1.5214697110652924, learning rate: [7.8125e-05]\n",
            "Step 500, Loss: 1.4963977825641632, learning rate: [3.90625e-05]\n",
            "Step 600, Loss: 1.5041557335853577, learning rate: [3.90625e-05]\n"
          ]
        },
        {
          "output_type": "error",
          "ename": "KeyboardInterrupt",
          "evalue": "",
          "traceback": [
            "\u001b[0;31m---------------------------------------------------------------------------\u001b[0m",
            "\u001b[0;31mKeyboardInterrupt\u001b[0m                         Traceback (most recent call last)",
            "\u001b[0;32m<ipython-input-107-0a745e441fce>\u001b[0m in \u001b[0;36m<cell line: 3>\u001b[0;34m()\u001b[0m\n\u001b[1;32m      1\u001b[0m \u001b[0msteps\u001b[0m \u001b[0;34m=\u001b[0m \u001b[0;36m1100\u001b[0m\u001b[0;34m\u001b[0m\u001b[0;34m\u001b[0m\u001b[0m\n\u001b[1;32m      2\u001b[0m \u001b[0mbatch_size\u001b[0m \u001b[0;34m=\u001b[0m \u001b[0;36m512\u001b[0m\u001b[0;34m\u001b[0m\u001b[0;34m\u001b[0m\u001b[0m\n\u001b[0;32m----> 3\u001b[0;31m train_skipgram_with_neg_sampling(\n\u001b[0m\u001b[1;32m      4\u001b[0m     \u001b[0mmodel\u001b[0m\u001b[0;34m,\u001b[0m\u001b[0;34m\u001b[0m\u001b[0;34m\u001b[0m\u001b[0m\n\u001b[1;32m      5\u001b[0m     \u001b[0mcontext_pairs\u001b[0m\u001b[0;34m,\u001b[0m\u001b[0;34m\u001b[0m\u001b[0;34m\u001b[0m\u001b[0m\n",
            "\u001b[0;32m<ipython-input-93-c76531714bc2>\u001b[0m in \u001b[0;36mtrain_skipgram_with_neg_sampling\u001b[0;34m(model, context_pairs, keep_prob_array, word_to_index, batch_size, num_negatives, negative_sampling_prob_array, steps, optimizer, lr_scheduler, device)\u001b[0m\n\u001b[1;32m     16\u001b[0m     \u001b[0mloss_history\u001b[0m \u001b[0;34m=\u001b[0m \u001b[0;34m[\u001b[0m\u001b[0;34m]\u001b[0m\u001b[0;34m\u001b[0m\u001b[0;34m\u001b[0m\u001b[0m\n\u001b[1;32m     17\u001b[0m     \u001b[0;32mfor\u001b[0m \u001b[0mstep\u001b[0m \u001b[0;32min\u001b[0m \u001b[0mtqdma\u001b[0m\u001b[0;34m(\u001b[0m\u001b[0mrange\u001b[0m\u001b[0;34m(\u001b[0m\u001b[0msteps\u001b[0m\u001b[0;34m)\u001b[0m\u001b[0;34m)\u001b[0m\u001b[0;34m:\u001b[0m\u001b[0;34m\u001b[0m\u001b[0;34m\u001b[0m\u001b[0m\n\u001b[0;32m---> 18\u001b[0;31m         batch, neg_samples = generate_batch_with_neg_samples(\n\u001b[0m\u001b[1;32m     19\u001b[0m             \u001b[0mcontext_pairs\u001b[0m\u001b[0;34m,\u001b[0m\u001b[0;34m\u001b[0m\u001b[0;34m\u001b[0m\u001b[0m\n\u001b[1;32m     20\u001b[0m             \u001b[0mbatch_size\u001b[0m\u001b[0;34m,\u001b[0m\u001b[0;34m\u001b[0m\u001b[0;34m\u001b[0m\u001b[0m\n",
            "\u001b[0;32m<ipython-input-59-a164cc7cc22f>\u001b[0m in \u001b[0;36mgenerate_batch_with_neg_samples\u001b[0;34m(context_pairs, batch_size, keep_prob_array, word_to_index, num_negatives, negative_sampling_prob_array)\u001b[0m\n\u001b[1;32m     14\u001b[0m         \u001b[0;32mif\u001b[0m \u001b[0mrandom\u001b[0m\u001b[0;34m.\u001b[0m\u001b[0mrandom\u001b[0m\u001b[0;34m(\u001b[0m\u001b[0;34m)\u001b[0m \u001b[0;34m<\u001b[0m \u001b[0mkeep_prob_array\u001b[0m\u001b[0;34m[\u001b[0m\u001b[0mcenter\u001b[0m\u001b[0;34m]\u001b[0m\u001b[0;34m:\u001b[0m\u001b[0;34m\u001b[0m\u001b[0;34m\u001b[0m\u001b[0m\n\u001b[1;32m     15\u001b[0m             \u001b[0mbatch\u001b[0m\u001b[0;34m.\u001b[0m\u001b[0mappend\u001b[0m\u001b[0;34m(\u001b[0m\u001b[0;34m(\u001b[0m\u001b[0mcenter\u001b[0m\u001b[0;34m,\u001b[0m \u001b[0mcontext\u001b[0m\u001b[0;34m)\u001b[0m\u001b[0;34m)\u001b[0m\u001b[0;34m\u001b[0m\u001b[0;34m\u001b[0m\u001b[0m\n\u001b[0;32m---> 16\u001b[0;31m             neg_sample = np.random.choice(\n\u001b[0m\u001b[1;32m     17\u001b[0m                 \u001b[0mrange\u001b[0m\u001b[0;34m(\u001b[0m\u001b[0mlen\u001b[0m\u001b[0;34m(\u001b[0m\u001b[0mnegative_sampling_prob_array\u001b[0m\u001b[0;34m)\u001b[0m\u001b[0;34m)\u001b[0m\u001b[0;34m,\u001b[0m\u001b[0;34m\u001b[0m\u001b[0;34m\u001b[0m\u001b[0m\n\u001b[1;32m     18\u001b[0m                 \u001b[0msize\u001b[0m\u001b[0;34m=\u001b[0m\u001b[0mnum_negatives\u001b[0m\u001b[0;34m,\u001b[0m\u001b[0;34m\u001b[0m\u001b[0;34m\u001b[0m\u001b[0m\n",
            "\u001b[0;32mnumpy/random/mtrand.pyx\u001b[0m in \u001b[0;36mnumpy.random.mtrand.RandomState.choice\u001b[0;34m()\u001b[0m\n",
            "\u001b[0;32m/usr/local/lib/python3.10/dist-packages/numpy/core/fromnumeric.py\u001b[0m in \u001b[0;36m_prod_dispatcher\u001b[0;34m(a, axis, dtype, out, keepdims, initial, where)\u001b[0m\n\u001b[1;32m   2972\u001b[0m \u001b[0;34m\u001b[0m\u001b[0m\n\u001b[1;32m   2973\u001b[0m \u001b[0;34m\u001b[0m\u001b[0m\n\u001b[0;32m-> 2974\u001b[0;31m def _prod_dispatcher(a, axis=None, dtype=None, out=None, keepdims=None,\n\u001b[0m\u001b[1;32m   2975\u001b[0m                      initial=None, where=None):\n\u001b[1;32m   2976\u001b[0m     \u001b[0;32mreturn\u001b[0m \u001b[0;34m(\u001b[0m\u001b[0ma\u001b[0m\u001b[0;34m,\u001b[0m \u001b[0mout\u001b[0m\u001b[0;34m)\u001b[0m\u001b[0;34m\u001b[0m\u001b[0;34m\u001b[0m\u001b[0m\n",
            "\u001b[0;31mKeyboardInterrupt\u001b[0m: "
          ]
        }
      ],
      "source": [
        "steps = 1100\n",
        "batch_size = 512\n",
        "train_skipgram_with_neg_sampling(\n",
        "    model,\n",
        "    context_pairs,\n",
        "    keep_prob_array,\n",
        "    word_to_index,\n",
        "    batch_size,\n",
        "    num_negatives,\n",
        "    negative_sampling_prob_array,\n",
        "    steps,\n",
        ")"
      ]
    },
    {
      "cell_type": "code",
      "execution_count": null,
      "metadata": {
        "id": "toRW-4wEkpaU"
      },
      "outputs": [],
      "source": [
        "torch.save(model, 'model.pth')"
      ]
    },
    {
      "cell_type": "markdown",
      "metadata": {
        "id": "dhX2SUzAAjuF"
      },
      "source": [
        "Finally, use the obtained weight matrix as the matrix for word vector representations. We recommend using the matrix that corresponds to the context words (i.e., the decoder) for submission."
      ]
    },
    {
      "cell_type": "code",
      "execution_count": null,
      "metadata": {
        "id": "pZSSchOUAjuF"
      },
      "outputs": [],
      "source": [
        "_model_parameters = model.parameters()\n",
        "embedding_matrix_center = next(\n",
        "    _model_parameters\n",
        ").detach()  # Assuming that first matrix was for central word\n",
        "embedding_matrix_context = next(\n",
        "    _model_parameters\n",
        ").detach()  # Assuming that second matrix was for context word"
      ]
    },
    {
      "cell_type": "code",
      "execution_count": null,
      "metadata": {
        "id": "qilE6aDsAjuF"
      },
      "outputs": [],
      "source": [
        "def get_word_vector(word, embedding_matrix, word_to_index=word_to_index):\n",
        "    return embedding_matrix[word_to_index[word]]"
      ]
    },
    {
      "cell_type": "markdown",
      "metadata": {
        "id": "wmhJUvnjAjuF"
      },
      "source": [
        "Simple checks:"
      ]
    },
    {
      "cell_type": "code",
      "execution_count": null,
      "metadata": {
        "colab": {
          "base_uri": "https://localhost:8080/",
          "height": 183
        },
        "id": "s9QF9ObzAjuI",
        "outputId": "e8a6a49f-5fc0-4936-84a8-64e7ba89a5a4"
      },
      "outputs": [
        {
          "output_type": "error",
          "ename": "AssertionError",
          "evalue": "",
          "traceback": [
            "\u001b[0;31m---------------------------------------------------------------------------\u001b[0m",
            "\u001b[0;31mAssertionError\u001b[0m                            Traceback (most recent call last)",
            "\u001b[0;32m<ipython-input-111-16bed20f46b1>\u001b[0m in \u001b[0;36m<cell line: 9>\u001b[0;34m()\u001b[0m\n\u001b[1;32m      7\u001b[0m     \u001b[0mget_word_vector\u001b[0m\u001b[0;34m(\u001b[0m\u001b[0;34m\"dell\"\u001b[0m\u001b[0;34m,\u001b[0m \u001b[0membedding_matrix_context\u001b[0m\u001b[0;34m)\u001b[0m\u001b[0;34m[\u001b[0m\u001b[0;32mNone\u001b[0m\u001b[0;34m,\u001b[0m \u001b[0;34m:\u001b[0m\u001b[0;34m]\u001b[0m\u001b[0;34m,\u001b[0m\u001b[0;34m\u001b[0m\u001b[0;34m\u001b[0m\u001b[0m\n\u001b[1;32m      8\u001b[0m )\n\u001b[0;32m----> 9\u001b[0;31m \u001b[0;32massert\u001b[0m \u001b[0msimilarity_1\u001b[0m \u001b[0;34m>\u001b[0m \u001b[0msimilarity_2\u001b[0m\u001b[0;34m\u001b[0m\u001b[0;34m\u001b[0m\u001b[0m\n\u001b[0m",
            "\u001b[0;31mAssertionError\u001b[0m: "
          ]
        }
      ],
      "source": [
        "similarity_1 = F.cosine_similarity(\n",
        "    get_word_vector(\"iphone\", embedding_matrix_context)[None, :],\n",
        "    get_word_vector(\"apple\", embedding_matrix_context)[None, :],\n",
        ")\n",
        "similarity_2 = F.cosine_similarity(\n",
        "    get_word_vector(\"iphone\", embedding_matrix_context)[None, :],\n",
        "    get_word_vector(\"dell\", embedding_matrix_context)[None, :],\n",
        ")\n",
        "assert similarity_1 > similarity_2"
      ]
    },
    {
      "cell_type": "code",
      "execution_count": null,
      "metadata": {
        "id": "R0hI8sXwAjuI"
      },
      "outputs": [],
      "source": [
        "similarity_1 = F.cosine_similarity(\n",
        "    get_word_vector(\"windows\", embedding_matrix_context)[None, :],\n",
        "    get_word_vector(\"laptop\", embedding_matrix_context)[None, :],\n",
        ")\n",
        "similarity_2 = F.cosine_similarity(\n",
        "    get_word_vector(\"windows\", embedding_matrix_context)[None, :],\n",
        "    get_word_vector(\"macbook\", embedding_matrix_context)[None, :],\n",
        ")\n",
        "assert similarity_1 > similarity_2"
      ]
    },
    {
      "cell_type": "markdown",
      "metadata": {
        "id": "QrDdxymSAjuI"
      },
      "source": [
        "Finally, let's take a look at the words closest by cosine similarity. The function is implemented below."
      ]
    },
    {
      "cell_type": "code",
      "execution_count": null,
      "metadata": {
        "id": "dA0V6rOYtsLk"
      },
      "outputs": [],
      "source": [
        "def find_nearest(word, embedding_matrix, word_to_index=word_to_index, k=10):\n",
        "    word_vector = get_word_vector(word, embedding_matrix)[None, :]\n",
        "    dists = F.cosine_similarity(embedding_matrix, word_vector)\n",
        "    index_sorted = torch.argsort(dists)\n",
        "    top_k = index_sorted[-k:]\n",
        "    return [(index_to_word[x], dists[x].item()) for x in top_k.numpy()]"
      ]
    },
    {
      "cell_type": "code",
      "execution_count": null,
      "metadata": {
        "colab": {
          "base_uri": "https://localhost:8080/"
        },
        "id": "cj35K7YqAjuI",
        "outputId": "795b6c1c-362e-4f52-d5b3-164c0114fa81"
      },
      "outputs": [
        {
          "output_type": "execute_result",
          "data": {
            "text/plain": [
              "[('starvation', 0.6635692119598389),\n",
              " ('java', 0.6666164994239807),\n",
              " ('sector', 0.667748749256134),\n",
              " ('academys', 0.6769938468933105),\n",
              " ('centres', 0.6844515800476074),\n",
              " ('mla', 0.6865198612213135),\n",
              " ('aw', 0.6891686916351318),\n",
              " ('companies', 0.6957893371582031),\n",
              " ('llb', 0.7053821682929993),\n",
              " ('python', 0.9999999403953552)]"
            ]
          },
          "metadata": {},
          "execution_count": 114
        }
      ],
      "source": [
        "find_nearest(\"python\", embedding_matrix_context, k=10)"
      ]
    },
    {
      "cell_type": "markdown",
      "metadata": {
        "id": "W88s4YRcAjuI"
      },
      "source": [
        "\n",
        "You can also visually check how frequently occurring words are represented in the latent space."
      ]
    },
    {
      "cell_type": "code",
      "execution_count": null,
      "metadata": {
        "id": "HBUaqd9yAjuI"
      },
      "outputs": [],
      "source": [
        "top_k = 5000\n",
        "_top_words = sorted([x for x in word_count_dict.items()], key=lambda x: x[1])[\n",
        "    -top_k - 100 : -100\n",
        "]  # ignoring 100 most frequent words\n",
        "top_words = [x[0] for x in _top_words]\n",
        "del _top_words"
      ]
    },
    {
      "cell_type": "code",
      "execution_count": null,
      "metadata": {
        "id": "dWKxDilTAjuI"
      },
      "outputs": [],
      "source": [
        "word_embeddings = torch.cat(\n",
        "    [embedding_matrix_context[word_to_index[x]][None, :] for x in top_words], dim=0\n",
        ").numpy()"
      ]
    },
    {
      "cell_type": "code",
      "execution_count": null,
      "metadata": {
        "id": "9E0T96gyAjuI"
      },
      "outputs": [],
      "source": [
        "import bokeh.models as bm\n",
        "import bokeh.plotting as pl\n",
        "from bokeh.io import output_notebook\n",
        "\n",
        "output_notebook()\n",
        "\n",
        "\n",
        "def draw_vectors(\n",
        "    x,\n",
        "    y,\n",
        "    radius=10,\n",
        "    alpha=0.25,\n",
        "    color=\"blue\",\n",
        "    width=600,\n",
        "    height=400,\n",
        "    show=True,\n",
        "    **kwargs,\n",
        "):\n",
        "    \"\"\"draws an interactive plot for data points with auxilirary info on hover\"\"\"\n",
        "    if isinstance(color, str):\n",
        "        color = [color] * len(x)\n",
        "    data_source = bm.ColumnDataSource({\"x\": x, \"y\": y, \"color\": color, **kwargs})\n",
        "\n",
        "    fig = pl.figure(active_scroll=\"wheel_zoom\", width=width, height=height)\n",
        "    fig.scatter(\"x\", \"y\", size=radius, color=\"color\", alpha=alpha, source=data_source)\n",
        "\n",
        "    fig.add_tools(bm.HoverTool(tooltips=[(key, \"@\" + key) for key in kwargs.keys()]))\n",
        "    if show:\n",
        "        pl.show(fig)\n",
        "    return fig"
      ]
    },
    {
      "cell_type": "code",
      "execution_count": null,
      "metadata": {
        "colab": {
          "base_uri": "https://localhost:8080/"
        },
        "id": "Noswc-_cAjuI",
        "outputId": "8eaf8e03-c37d-435b-e607-927158ec023a"
      },
      "outputs": [
        {
          "output_type": "stream",
          "name": "stderr",
          "text": [
            "/usr/local/lib/python3.10/dist-packages/sklearn/utils/deprecation.py:151: FutureWarning: 'force_all_finite' was renamed to 'ensure_all_finite' in 1.6 and will be removed in 1.8.\n",
            "  warnings.warn(\n"
          ]
        }
      ],
      "source": [
        "embedding = umap.UMAP(n_neighbors=5).fit_transform(word_embeddings)"
      ]
    },
    {
      "cell_type": "code",
      "execution_count": null,
      "metadata": {
        "colab": {
          "base_uri": "https://localhost:8080/",
          "height": 434
        },
        "id": "0Lv3IT7CAjuI",
        "outputId": "3fd56e3d-a350-4d85-f5a5-ef87802a77ec"
      },
      "outputs": [
        {
          "output_type": "display_data",
          "data": {
            "application/javascript": [
              "'use strict';\n",
              "(function(root) {\n",
              "  function now() {\n",
              "    return new Date();\n",
              "  }\n",
              "\n",
              "  const force = true;\n",
              "\n",
              "  if (typeof root._bokeh_onload_callbacks === \"undefined\" || force === true) {\n",
              "    root._bokeh_onload_callbacks = [];\n",
              "    root._bokeh_is_loading = undefined;\n",
              "  }\n",
              "\n",
              "const JS_MIME_TYPE = 'application/javascript';\n",
              "  const HTML_MIME_TYPE = 'text/html';\n",
              "  const EXEC_MIME_TYPE = 'application/vnd.bokehjs_exec.v0+json';\n",
              "  const CLASS_NAME = 'output_bokeh rendered_html';\n",
              "\n",
              "  /**\n",
              "   * Render data to the DOM node\n",
              "   */\n",
              "  function render(props, node) {\n",
              "    const script = document.createElement(\"script\");\n",
              "    node.appendChild(script);\n",
              "  }\n",
              "\n",
              "  /**\n",
              "   * Handle when an output is cleared or removed\n",
              "   */\n",
              "  function handleClearOutput(event, handle) {\n",
              "    function drop(id) {\n",
              "      const view = Bokeh.index.get_by_id(id)\n",
              "      if (view != null) {\n",
              "        view.model.document.clear()\n",
              "        Bokeh.index.delete(view)\n",
              "      }\n",
              "    }\n",
              "\n",
              "    const cell = handle.cell;\n",
              "\n",
              "    const id = cell.output_area._bokeh_element_id;\n",
              "    const server_id = cell.output_area._bokeh_server_id;\n",
              "\n",
              "    // Clean up Bokeh references\n",
              "    if (id != null) {\n",
              "      drop(id)\n",
              "    }\n",
              "\n",
              "    if (server_id !== undefined) {\n",
              "      // Clean up Bokeh references\n",
              "      const cmd_clean = \"from bokeh.io.state import curstate; print(curstate().uuid_to_server['\" + server_id + \"'].get_sessions()[0].document.roots[0]._id)\";\n",
              "      cell.notebook.kernel.execute(cmd_clean, {\n",
              "        iopub: {\n",
              "          output: function(msg) {\n",
              "            const id = msg.content.text.trim()\n",
              "            drop(id)\n",
              "          }\n",
              "        }\n",
              "      });\n",
              "      // Destroy server and session\n",
              "      const cmd_destroy = \"import bokeh.io.notebook as ion; ion.destroy_server('\" + server_id + \"')\";\n",
              "      cell.notebook.kernel.execute(cmd_destroy);\n",
              "    }\n",
              "  }\n",
              "\n",
              "  /**\n",
              "   * Handle when a new output is added\n",
              "   */\n",
              "  function handleAddOutput(event, handle) {\n",
              "    const output_area = handle.output_area;\n",
              "    const output = handle.output;\n",
              "\n",
              "    // limit handleAddOutput to display_data with EXEC_MIME_TYPE content only\n",
              "    if ((output.output_type != \"display_data\") || (!Object.prototype.hasOwnProperty.call(output.data, EXEC_MIME_TYPE))) {\n",
              "      return\n",
              "    }\n",
              "\n",
              "    const toinsert = output_area.element.find(\".\" + CLASS_NAME.split(' ')[0]);\n",
              "\n",
              "    if (output.metadata[EXEC_MIME_TYPE][\"id\"] !== undefined) {\n",
              "      toinsert[toinsert.length - 1].firstChild.textContent = output.data[JS_MIME_TYPE];\n",
              "      // store reference to embed id on output_area\n",
              "      output_area._bokeh_element_id = output.metadata[EXEC_MIME_TYPE][\"id\"];\n",
              "    }\n",
              "    if (output.metadata[EXEC_MIME_TYPE][\"server_id\"] !== undefined) {\n",
              "      const bk_div = document.createElement(\"div\");\n",
              "      bk_div.innerHTML = output.data[HTML_MIME_TYPE];\n",
              "      const script_attrs = bk_div.children[0].attributes;\n",
              "      for (let i = 0; i < script_attrs.length; i++) {\n",
              "        toinsert[toinsert.length - 1].firstChild.setAttribute(script_attrs[i].name, script_attrs[i].value);\n",
              "        toinsert[toinsert.length - 1].firstChild.textContent = bk_div.children[0].textContent\n",
              "      }\n",
              "      // store reference to server id on output_area\n",
              "      output_area._bokeh_server_id = output.metadata[EXEC_MIME_TYPE][\"server_id\"];\n",
              "    }\n",
              "  }\n",
              "\n",
              "  function register_renderer(events, OutputArea) {\n",
              "\n",
              "    function append_mime(data, metadata, element) {\n",
              "      // create a DOM node to render to\n",
              "      const toinsert = this.create_output_subarea(\n",
              "        metadata,\n",
              "        CLASS_NAME,\n",
              "        EXEC_MIME_TYPE\n",
              "      );\n",
              "      this.keyboard_manager.register_events(toinsert);\n",
              "      // Render to node\n",
              "      const props = {data: data, metadata: metadata[EXEC_MIME_TYPE]};\n",
              "      render(props, toinsert[toinsert.length - 1]);\n",
              "      element.append(toinsert);\n",
              "      return toinsert\n",
              "    }\n",
              "\n",
              "    /* Handle when an output is cleared or removed */\n",
              "    events.on('clear_output.CodeCell', handleClearOutput);\n",
              "    events.on('delete.Cell', handleClearOutput);\n",
              "\n",
              "    /* Handle when a new output is added */\n",
              "    events.on('output_added.OutputArea', handleAddOutput);\n",
              "\n",
              "    /**\n",
              "     * Register the mime type and append_mime function with output_area\n",
              "     */\n",
              "    OutputArea.prototype.register_mime_type(EXEC_MIME_TYPE, append_mime, {\n",
              "      /* Is output safe? */\n",
              "      safe: true,\n",
              "      /* Index of renderer in `output_area.display_order` */\n",
              "      index: 0\n",
              "    });\n",
              "  }\n",
              "\n",
              "  // register the mime type if in Jupyter Notebook environment and previously unregistered\n",
              "  if (root.Jupyter !== undefined) {\n",
              "    const events = require('base/js/events');\n",
              "    const OutputArea = require('notebook/js/outputarea').OutputArea;\n",
              "\n",
              "    if (OutputArea.prototype.mime_types().indexOf(EXEC_MIME_TYPE) == -1) {\n",
              "      register_renderer(events, OutputArea);\n",
              "    }\n",
              "  }\n",
              "  if (typeof (root._bokeh_timeout) === \"undefined\" || force === true) {\n",
              "    root._bokeh_timeout = Date.now() + 5000;\n",
              "    root._bokeh_failed_load = false;\n",
              "  }\n",
              "\n",
              "  const NB_LOAD_WARNING = {'data': {'text/html':\n",
              "     \"<div style='background-color: #fdd'>\\n\"+\n",
              "     \"<p>\\n\"+\n",
              "     \"BokehJS does not appear to have successfully loaded. If loading BokehJS from CDN, this \\n\"+\n",
              "     \"may be due to a slow or bad network connection. Possible fixes:\\n\"+\n",
              "     \"</p>\\n\"+\n",
              "     \"<ul>\\n\"+\n",
              "     \"<li>re-rerun `output_notebook()` to attempt to load from CDN again, or</li>\\n\"+\n",
              "     \"<li>use INLINE resources instead, as so:</li>\\n\"+\n",
              "     \"</ul>\\n\"+\n",
              "     \"<code>\\n\"+\n",
              "     \"from bokeh.resources import INLINE\\n\"+\n",
              "     \"output_notebook(resources=INLINE)\\n\"+\n",
              "     \"</code>\\n\"+\n",
              "     \"</div>\"}};\n",
              "\n",
              "  function display_loaded(error = null) {\n",
              "    const el = document.getElementById(null);\n",
              "    if (el != null) {\n",
              "      const html = (() => {\n",
              "        if (typeof root.Bokeh === \"undefined\") {\n",
              "          if (error == null) {\n",
              "            return \"BokehJS is loading ...\";\n",
              "          } else {\n",
              "            return \"BokehJS failed to load.\";\n",
              "          }\n",
              "        } else {\n",
              "          const prefix = `BokehJS ${root.Bokeh.version}`;\n",
              "          if (error == null) {\n",
              "            return `${prefix} successfully loaded.`;\n",
              "          } else {\n",
              "            return `${prefix} <b>encountered errors</b> while loading and may not function as expected.`;\n",
              "          }\n",
              "        }\n",
              "      })();\n",
              "      el.innerHTML = html;\n",
              "\n",
              "      if (error != null) {\n",
              "        const wrapper = document.createElement(\"div\");\n",
              "        wrapper.style.overflow = \"auto\";\n",
              "        wrapper.style.height = \"5em\";\n",
              "        wrapper.style.resize = \"vertical\";\n",
              "        const content = document.createElement(\"div\");\n",
              "        content.style.fontFamily = \"monospace\";\n",
              "        content.style.whiteSpace = \"pre-wrap\";\n",
              "        content.style.backgroundColor = \"rgb(255, 221, 221)\";\n",
              "        content.textContent = error.stack ?? error.toString();\n",
              "        wrapper.append(content);\n",
              "        el.append(wrapper);\n",
              "      }\n",
              "    } else if (Date.now() < root._bokeh_timeout) {\n",
              "      setTimeout(() => display_loaded(error), 100);\n",
              "    }\n",
              "  }\n",
              "\n",
              "  function run_callbacks() {\n",
              "    try {\n",
              "      root._bokeh_onload_callbacks.forEach(function(callback) {\n",
              "        if (callback != null)\n",
              "          callback();\n",
              "      });\n",
              "    } finally {\n",
              "      delete root._bokeh_onload_callbacks\n",
              "    }\n",
              "    console.debug(\"Bokeh: all callbacks have finished\");\n",
              "  }\n",
              "\n",
              "  function load_libs(css_urls, js_urls, callback) {\n",
              "    if (css_urls == null) css_urls = [];\n",
              "    if (js_urls == null) js_urls = [];\n",
              "\n",
              "    root._bokeh_onload_callbacks.push(callback);\n",
              "    if (root._bokeh_is_loading > 0) {\n",
              "      console.debug(\"Bokeh: BokehJS is being loaded, scheduling callback at\", now());\n",
              "      return null;\n",
              "    }\n",
              "    if (js_urls == null || js_urls.length === 0) {\n",
              "      run_callbacks();\n",
              "      return null;\n",
              "    }\n",
              "    console.debug(\"Bokeh: BokehJS not loaded, scheduling load and callback at\", now());\n",
              "    root._bokeh_is_loading = css_urls.length + js_urls.length;\n",
              "\n",
              "    function on_load() {\n",
              "      root._bokeh_is_loading--;\n",
              "      if (root._bokeh_is_loading === 0) {\n",
              "        console.debug(\"Bokeh: all BokehJS libraries/stylesheets loaded\");\n",
              "        run_callbacks()\n",
              "      }\n",
              "    }\n",
              "\n",
              "    function on_error(url) {\n",
              "      console.error(\"failed to load \" + url);\n",
              "    }\n",
              "\n",
              "    for (let i = 0; i < css_urls.length; i++) {\n",
              "      const url = css_urls[i];\n",
              "      const element = document.createElement(\"link\");\n",
              "      element.onload = on_load;\n",
              "      element.onerror = on_error.bind(null, url);\n",
              "      element.rel = \"stylesheet\";\n",
              "      element.type = \"text/css\";\n",
              "      element.href = url;\n",
              "      console.debug(\"Bokeh: injecting link tag for BokehJS stylesheet: \", url);\n",
              "      document.body.appendChild(element);\n",
              "    }\n",
              "\n",
              "    for (let i = 0; i < js_urls.length; i++) {\n",
              "      const url = js_urls[i];\n",
              "      const element = document.createElement('script');\n",
              "      element.onload = on_load;\n",
              "      element.onerror = on_error.bind(null, url);\n",
              "      element.async = false;\n",
              "      element.src = url;\n",
              "      console.debug(\"Bokeh: injecting script tag for BokehJS library: \", url);\n",
              "      document.head.appendChild(element);\n",
              "    }\n",
              "  };\n",
              "\n",
              "  function inject_raw_css(css) {\n",
              "    const element = document.createElement(\"style\");\n",
              "    element.appendChild(document.createTextNode(css));\n",
              "    document.body.appendChild(element);\n",
              "  }\n",
              "\n",
              "  const js_urls = [\"https://cdn.bokeh.org/bokeh/release/bokeh-3.6.2.min.js\", \"https://cdn.bokeh.org/bokeh/release/bokeh-gl-3.6.2.min.js\", \"https://cdn.bokeh.org/bokeh/release/bokeh-widgets-3.6.2.min.js\", \"https://cdn.bokeh.org/bokeh/release/bokeh-tables-3.6.2.min.js\", \"https://cdn.bokeh.org/bokeh/release/bokeh-mathjax-3.6.2.min.js\"];\n",
              "  const css_urls = [];\n",
              "\n",
              "  const inline_js = [    function(Bokeh) {\n",
              "      Bokeh.set_log_level(\"info\");\n",
              "    },\n",
              "function(Bokeh) {\n",
              "    }\n",
              "  ];\n",
              "\n",
              "  function run_inline_js() {\n",
              "    if (root.Bokeh !== undefined || force === true) {\n",
              "      try {\n",
              "            for (let i = 0; i < inline_js.length; i++) {\n",
              "      inline_js[i].call(root, root.Bokeh);\n",
              "    }\n",
              "\n",
              "      } catch (error) {throw error;\n",
              "      }} else if (Date.now() < root._bokeh_timeout) {\n",
              "      setTimeout(run_inline_js, 100);\n",
              "    } else if (!root._bokeh_failed_load) {\n",
              "      console.log(\"Bokeh: BokehJS failed to load within specified timeout.\");\n",
              "      root._bokeh_failed_load = true;\n",
              "    } else if (force !== true) {\n",
              "      const cell = $(document.getElementById(null)).parents('.cell').data().cell;\n",
              "      cell.output_area.append_execute_result(NB_LOAD_WARNING)\n",
              "    }\n",
              "  }\n",
              "\n",
              "  if (root._bokeh_is_loading === 0) {\n",
              "    console.debug(\"Bokeh: BokehJS loaded, going straight to plotting\");\n",
              "    run_inline_js();\n",
              "  } else {\n",
              "    load_libs(css_urls, js_urls, function() {\n",
              "      console.debug(\"Bokeh: BokehJS plotting callback run at\", now());\n",
              "      run_inline_js();\n",
              "    });\n",
              "  }\n",
              "}(window));"
            ],
            "application/vnd.bokehjs_load.v0+json": "'use strict';\n(function(root) {\n  function now() {\n    return new Date();\n  }\n\n  const force = true;\n\n  if (typeof root._bokeh_onload_callbacks === \"undefined\" || force === true) {\n    root._bokeh_onload_callbacks = [];\n    root._bokeh_is_loading = undefined;\n  }\n\n\n  if (typeof (root._bokeh_timeout) === \"undefined\" || force === true) {\n    root._bokeh_timeout = Date.now() + 5000;\n    root._bokeh_failed_load = false;\n  }\n\n  const NB_LOAD_WARNING = {'data': {'text/html':\n     \"<div style='background-color: #fdd'>\\n\"+\n     \"<p>\\n\"+\n     \"BokehJS does not appear to have successfully loaded. If loading BokehJS from CDN, this \\n\"+\n     \"may be due to a slow or bad network connection. Possible fixes:\\n\"+\n     \"</p>\\n\"+\n     \"<ul>\\n\"+\n     \"<li>re-rerun `output_notebook()` to attempt to load from CDN again, or</li>\\n\"+\n     \"<li>use INLINE resources instead, as so:</li>\\n\"+\n     \"</ul>\\n\"+\n     \"<code>\\n\"+\n     \"from bokeh.resources import INLINE\\n\"+\n     \"output_notebook(resources=INLINE)\\n\"+\n     \"</code>\\n\"+\n     \"</div>\"}};\n\n  function display_loaded(error = null) {\n    const el = document.getElementById(null);\n    if (el != null) {\n      const html = (() => {\n        if (typeof root.Bokeh === \"undefined\") {\n          if (error == null) {\n            return \"BokehJS is loading ...\";\n          } else {\n            return \"BokehJS failed to load.\";\n          }\n        } else {\n          const prefix = `BokehJS ${root.Bokeh.version}`;\n          if (error == null) {\n            return `${prefix} successfully loaded.`;\n          } else {\n            return `${prefix} <b>encountered errors</b> while loading and may not function as expected.`;\n          }\n        }\n      })();\n      el.innerHTML = html;\n\n      if (error != null) {\n        const wrapper = document.createElement(\"div\");\n        wrapper.style.overflow = \"auto\";\n        wrapper.style.height = \"5em\";\n        wrapper.style.resize = \"vertical\";\n        const content = document.createElement(\"div\");\n        content.style.fontFamily = \"monospace\";\n        content.style.whiteSpace = \"pre-wrap\";\n        content.style.backgroundColor = \"rgb(255, 221, 221)\";\n        content.textContent = error.stack ?? error.toString();\n        wrapper.append(content);\n        el.append(wrapper);\n      }\n    } else if (Date.now() < root._bokeh_timeout) {\n      setTimeout(() => display_loaded(error), 100);\n    }\n  }\n\n  function run_callbacks() {\n    try {\n      root._bokeh_onload_callbacks.forEach(function(callback) {\n        if (callback != null)\n          callback();\n      });\n    } finally {\n      delete root._bokeh_onload_callbacks\n    }\n    console.debug(\"Bokeh: all callbacks have finished\");\n  }\n\n  function load_libs(css_urls, js_urls, callback) {\n    if (css_urls == null) css_urls = [];\n    if (js_urls == null) js_urls = [];\n\n    root._bokeh_onload_callbacks.push(callback);\n    if (root._bokeh_is_loading > 0) {\n      console.debug(\"Bokeh: BokehJS is being loaded, scheduling callback at\", now());\n      return null;\n    }\n    if (js_urls == null || js_urls.length === 0) {\n      run_callbacks();\n      return null;\n    }\n    console.debug(\"Bokeh: BokehJS not loaded, scheduling load and callback at\", now());\n    root._bokeh_is_loading = css_urls.length + js_urls.length;\n\n    function on_load() {\n      root._bokeh_is_loading--;\n      if (root._bokeh_is_loading === 0) {\n        console.debug(\"Bokeh: all BokehJS libraries/stylesheets loaded\");\n        run_callbacks()\n      }\n    }\n\n    function on_error(url) {\n      console.error(\"failed to load \" + url);\n    }\n\n    for (let i = 0; i < css_urls.length; i++) {\n      const url = css_urls[i];\n      const element = document.createElement(\"link\");\n      element.onload = on_load;\n      element.onerror = on_error.bind(null, url);\n      element.rel = \"stylesheet\";\n      element.type = \"text/css\";\n      element.href = url;\n      console.debug(\"Bokeh: injecting link tag for BokehJS stylesheet: \", url);\n      document.body.appendChild(element);\n    }\n\n    for (let i = 0; i < js_urls.length; i++) {\n      const url = js_urls[i];\n      const element = document.createElement('script');\n      element.onload = on_load;\n      element.onerror = on_error.bind(null, url);\n      element.async = false;\n      element.src = url;\n      console.debug(\"Bokeh: injecting script tag for BokehJS library: \", url);\n      document.head.appendChild(element);\n    }\n  };\n\n  function inject_raw_css(css) {\n    const element = document.createElement(\"style\");\n    element.appendChild(document.createTextNode(css));\n    document.body.appendChild(element);\n  }\n\n  const js_urls = [\"https://cdn.bokeh.org/bokeh/release/bokeh-3.6.2.min.js\", \"https://cdn.bokeh.org/bokeh/release/bokeh-gl-3.6.2.min.js\", \"https://cdn.bokeh.org/bokeh/release/bokeh-widgets-3.6.2.min.js\", \"https://cdn.bokeh.org/bokeh/release/bokeh-tables-3.6.2.min.js\", \"https://cdn.bokeh.org/bokeh/release/bokeh-mathjax-3.6.2.min.js\"];\n  const css_urls = [];\n\n  const inline_js = [    function(Bokeh) {\n      Bokeh.set_log_level(\"info\");\n    },\nfunction(Bokeh) {\n    }\n  ];\n\n  function run_inline_js() {\n    if (root.Bokeh !== undefined || force === true) {\n      try {\n            for (let i = 0; i < inline_js.length; i++) {\n      inline_js[i].call(root, root.Bokeh);\n    }\n\n      } catch (error) {throw error;\n      }} else if (Date.now() < root._bokeh_timeout) {\n      setTimeout(run_inline_js, 100);\n    } else if (!root._bokeh_failed_load) {\n      console.log(\"Bokeh: BokehJS failed to load within specified timeout.\");\n      root._bokeh_failed_load = true;\n    } else if (force !== true) {\n      const cell = $(document.getElementById(null)).parents('.cell').data().cell;\n      cell.output_area.append_execute_result(NB_LOAD_WARNING)\n    }\n  }\n\n  if (root._bokeh_is_loading === 0) {\n    console.debug(\"Bokeh: BokehJS loaded, going straight to plotting\");\n    run_inline_js();\n  } else {\n    load_libs(css_urls, js_urls, function() {\n      console.debug(\"Bokeh: BokehJS plotting callback run at\", now());\n      run_inline_js();\n    });\n  }\n}(window));"
          },
          "metadata": {}
        },
        {
          "output_type": "display_data",
          "data": {
            "text/html": [
              "\n",
              "  <div id=\"d3e5d073-56d0-4512-88dd-710d0ee0e6b9\" data-root-id=\"p1106\" style=\"display: contents;\"></div>\n"
            ]
          },
          "metadata": {}
        },
        {
          "output_type": "display_data",
          "data": {
            "application/javascript": [
              "(function(root) {\n",
              "  function embed_document(root) {\n",
              "  const docs_json = {\"41d0a75c-ec6b-409f-9740-e9bf504dd61a\":{\"version\":\"3.6.2\",\"title\":\"Bokeh Application\",\"roots\":[{\"type\":\"object\",\"name\":\"Figure\",\"id\":\"p1106\",\"attributes\":{\"height\":400,\"x_range\":{\"type\":\"object\",\"name\":\"DataRange1d\",\"id\":\"p1107\"},\"y_range\":{\"type\":\"object\",\"name\":\"DataRange1d\",\"id\":\"p1108\"},\"x_scale\":{\"type\":\"object\",\"name\":\"LinearScale\",\"id\":\"p1115\"},\"y_scale\":{\"type\":\"object\",\"name\":\"LinearScale\",\"id\":\"p1116\"},\"title\":{\"type\":\"object\",\"name\":\"Title\",\"id\":\"p1113\"},\"renderers\":[{\"type\":\"object\",\"name\":\"GlyphRenderer\",\"id\":\"p1146\",\"attributes\":{\"data_source\":{\"type\":\"object\",\"name\":\"ColumnDataSource\",\"id\":\"p1103\",\"attributes\":{\"selected\":{\"type\":\"object\",\"name\":\"Selection\",\"id\":\"p1104\",\"attributes\":{\"indices\":[],\"line_indices\":[]}},\"selection_policy\":{\"type\":\"object\",\"name\":\"UnionRenderers\",\"id\":\"p1105\"},\"data\":{\"type\":\"map\",\"entries\":[[\"x\",{\"type\":\"ndarray\",\"array\":{\"type\":\"bytes\",\"data\":\"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\"},\"shape\":[5000],\"dtype\":\"float32\",\"order\":\"little\"}],[\"y\",{\"type\":\"ndarray\",\"array\":{\"type\":\"bytes\",\"data\":\"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\"},\"shape\":[5000],\"dtype\":\"float32\",\"order\":\"little\"}],[\"color\",[\"blue\",\"blue\",\"blue\",\"blue\",\"blue\",\"blue\",\"blue\",\"blue\",\"blue\",\"blue\",\"blue\",\"blue\",\"blue\",\"blue\",\"blue\",\"blue\",\"blue\",\"blue\",\"blue\",\"blue\",\"blue\",\"blue\",\"blue\",\"blue\",\"blue\",\"blue\",\"blue\",\"blue\",\"blue\",\"blue\",\"blue\",\"blue\",\"blue\",\"blue\",\"blue\",\"blue\",\"blue\",\"blue\",\"blue\",\"blue\",\"blue\",\"blue\",\"blue\",\"blue\",\"blue\",\"blue\",\"blue\",\"blue\",\"blue\",\"blue\",\"blue\",\"blue\",\"blue\",\"blue\",\"blue\",\"blue\",\"blue\",\"blue\",\"blue\",\"blue\",\"blue\",\"blue\",\"blue\",\"blue\",\"blue\",\"blue\",\"blue\",\"blue\",\"blue\",\"blue\",\"blue\",\"blue\",\"blue\",\"blue\",\"blue\",\"blue\",\"blue\",\"blue\",\"blue\",\"blue\",\"blue\",\"blue\",\"blue\",\"blue\",\"blue\",\"blue\",\"blue\",\"blue\",\"blue\",\"blue\",\"blue\",\"blue\",\"blue\",\"blue\",\"blue\",\"blue\",\"blue\",\"blue\",\"blue\",\"blue\",\"blue\",\"blue\",\"blue\",\"blue\",\"blue\",\"blue\",\"blue\",\"blue\",\"blue\",\"blue\",\"blue\",\"blue\",\"blue\",\"blue\",\"blue\",\"blue\",\"blue\",\"blue\",\"blue\",\"blue\",\"blue\",\"blue\",\"blue\",\"blue\",\"blue\",\"blue\",\"blue\",\"blue\",\"blue\",\"blue\",\"blue\",\"blue\",\"blue\",\"blue\",\"blue\",\"blue\",\"blue\",\"blue\",\"blue\",\"blue\",\"blue\",\"blue\",\"blue\",\"blue\",\"blue\",\"blue\",\"blue\",\"blue\",\"blue\",\"blue\",\"blue\",\"blue\",\"blue\",\"blue\",\"blue\",\"blue\",\"blue\",\"blue\",\"blue\",\"blue\",\"blue\",\"blue\",\"blue\",\"blue\",\"blue\",\"blue\",\"blue\",\"blue\",\"blue\",\"blue\",\"blue\",\"blue\",\"blue\",\"blue\",\"blue\",\"blue\",\"blue\",\"blue\",\"blue\",\"blue\",\"blue\",\"blue\",\"blue\",\"blue\",\"blue\",\"blue\",\"blue\",\"blue\",\"blue\",\"blue\",\"blue\",\"blue\",\"blue\",\"blue\",\"blue\",\"blue\",\"blue\",\"blue\",\"blue\",\"blue\",\"blue\",\"blue\",\"blue\",\"blue\",\"blue\",\"blue\",\"blue\",\"blue\",\"blue\",\"blue\",\"blue\",\"blue\",\"blue\",\"blue\",\"blue\",\"blue\",\"blue\",\"blue\",\"blue\",\"blue\",\"blue\",\"blue\",\"blue\",\"blue\",\"blue\",\"blue\",\"blue\",\"blue\",\"blue\",\"blue\",\"blue\",\"blue\",\"blue\",\"blue\",\"blue\",\"blue\",\"blue\",\"blue\",\"blue\",\"blue\",\"blue\",\"blue\",\"blue\",\"blue\",\"blue\",\"blue\",\"blue\",\"blue\",\"blue\",\"blue\",\"blue\",\"blue\",\"blue\",\"blue\",\"blue\",\"blue\",\"blue\",\"blue\",\"blue\",\"blue\",\"blue\",\"blue\",\"blue\",\"blue\",\"blue\",\"blue\",\"blue\",\"blue\",\"blue\",\"blue\",\"blue\",\"blue\",\"blue\",\"blue\",\"blue\",\"blue\",\"blue\",\"blue\",\"blue\",\"blue\",\"blue\",\"blue\",\"blue\",\"blue\",\"blue\",\"blue\",\"blue\",\"blue\",\"blue\",\"blue\",\"blue\",\"blue\",\"blue\",\"blue\",\"blue\",\"blue\",\"blue\",\"blue\",\"blue\",\"blue\",\"blue\",\"blue\",\"blue\",\"blue\",\"blue\",\"blue\",\"blue\",\"blue\",\"blue\",\"blue\",\"blue\",\"blue\",\"blue\",\"blue\",\"blue\",\"blue\",\"blue\",\"blue\",\"blue\",\"blue\",\"blue\",\"blue\",\"blue\",\"blue\",\"blue\",\"blue\",\"blue\",\"blue\",\"blue\",\"blue\",\"blue\",\"blue\",\"blue\",\"blue\",\"blue\",\"blue\",\"blue\",\"blue\",\"blue\",\"blue\",\"blue\",\"blue\",\"blue\",\"blue\",\"blue\",\"blue\",\"blue\",\"blue\",\"blue\",\"blue\",\"blue\",\"blue\",\"blue\",\"blue\",\"blue\",\"blue\",\"blue\",\"blue\",\"blue\",\"blue\",\"blue\",\"blue\",\"blue\",\"blue\",\"blue\",\"blue\",\"blue\",\"blue\",\"blue\",\"blue\",\"blue\",\"blue\",\"blue\",\"blue\",\"blue\",\"blue\",\"blue\",\"blue\",\"blue\",\"blue\",\"blue\",\"blue\",\"blue\",\"blue\",\"blue\",\"blue\",\"blue\",\"blue\",\"blue\",\"blue\",\"blue\",\"blue\",\"blue\",\"blue\",\"blue\",\"blue\",\"blue\",\"blue\",\"blue\",\"blue\",\"blue\",\"blue\",\"blue\",\"blue\",\"blue\",\"blue\",\"blue\",\"blue\",\"blue\",\"blue\",\"blue\",\"blue\",\"blue\",\"blue\",\"blue\",\"blue\",\"blue\",\"blue\",\"blue\",\"blue\",\"blue\",\"blue\",\"blue\",\"blue\",\"blue\",\"blue\",\"blue\",\"blue\",\"blue\",\"blue\",\"blue\",\"blue\",\"blue\",\"blue\",\"blue\",\"blue\",\"blue\",\"blue\",\"blue\",\"blue\",\"blue\",\"blue\",\"blue\",\"blue\",\"blue\",\"blue\",\"blue\",\"blue\",\"blue\",\"blue\",\"blue\",\"blue\",\"blue\",\"blue\",\"blue\",\"blue\",\"blue\",\"blue\",\"blue\",\"blue\",\"blue\",\"blue\",\"blue\",\"blue\",\"blue\",\"blue\",\"blue\",\"blue\",\"blue\",\"blue\",\"blue\",\"blue\",\"blue\",\"blue\",\"blue\",\"blue\",\"blue\",\"blue\",\"blue\",\"blue\",\"blue\",\"blue\",\"blue\",\"blue\",\"blue\",\"blue\",\"blue\",\"blue\",\"blue\",\"blue\",\"blue\",\"blue\",\"blue\",\"blue\",\"blue\",\"blue\",\"blue\",\"blue\",\"blue\",\"blue\",\"blue\",\"blue\",\"blue\",\"blue\",\"blue\",\"blue\",\"blue\",\"blue\",\"blue\",\"blue\",\"blue\",\"blue\",\"blue\",\"blue\",\"blue\",\"blue\",\"blue\",\"blue\",\"blue\",\"blue\",\"blue\",\"blue\",\"blue\",\"blue\",\"blue\",\"blue\",\"blue\",\"blue\",\"blue\",\"blue\",\"blue\",\"blue\",\"blue\",\"blue\",\"blue\",\"blue\",\"blue\",\"blue\",\"blue\",\"blue\",\"blue\",\"blue\",\"blue\",\"blue\",\"blue\",\"blue\",\"blue\",\"blue\",\"blue\",\"blue\",\"blue\",\"blue\",\"blue\",\"blue\",\"blue\",\"blue\",\"blue\",\"blue\",\"blue\",\"blue\",\"blue\",\"blue\",\"blue\",\"blue\",\"blue\",\"blue\",\"blue\",\"blue\",\"blue\",\"blue\",\"blue\",\"blue\",\"blue\",\"blue\",\"blue\",\"blue\",\"blue\",\"blue\",\"blue\",\"blue\",\"blue\",\"blue\",\"blue\",\"blue\",\"blue\",\"blue\",\"blue\",\"blue\",\"blue\",\"blue\",\"blue\",\"blue\",\"blue\",\"blue\",\"blue\",\"blue\",\"blue\",\"blue\",\"blue\",\"blue\",\"blue\",\"blue\",\"blue\",\"blue\",\"blue\",\"blue\",\"blue\",\"blue\",\"blue\",\"blue\",\"blue\",\"blue\",\"blue\",\"blue\",\"blue\",\"blue\",\"blue\",\"blue\",\"blue\",\"blue\",\"blue\",\"blue\",\"blue\",\"blue\",\"blue\",\"blue\",\"blue\",\"blue\",\"blue\",\"blue\",\"blue\",\"blue\",\"blue\",\"blue\",\"blue\",\"blue\",\"blue\",\"blue\",\"blue\",\"blue\",\"blue\",\"blue\",\"blue\",\"blue\",\"blue\",\"blue\",\"blue\",\"blue\",\"blue\",\"blue\",\"blue\",\"blue\",\"blue\",\"blue\",\"blue\",\"blue\",\"blue\",\"blue\",\"blue\",\"blue\",\"blue\",\"blue\",\"blue\",\"blue\",\"blue\",\"blue\",\"blue\",\"blue\",\"blue\",\"blue\",\"blue\",\"blue\",\"blue\",\"blue\",\"blue\",\"blue\",\"blue\",\"blue\",\"blue\",\"blue\",\"blue\",\"blue\",\"blue\",\"blue\",\"blue\",\"blue\",\"blue\",\"blue\",\"blue\",\"blue\",\"blue\",\"blue\",\"blue\",\"blue\",\"blue\",\"blue\",\"blue\",\"blue\",\"blue\",\"blue\",\"blue\",\"blue\",\"blue\",\"blue\",\"blue\",\"blue\",\"blue\",\"blue\",\"blue\",\"blue\",\"blue\",\"blue\",\"blue\",\"blue\",\"blue\",\"blue\",\"blue\",\"blue\",\"blue\",\"blue\",\"blue\",\"blue\",\"blue\",\"blue\",\"blue\",\"blue\",\"blue\",\"blue\",\"blue\",\"blue\",\"blue\",\"blue\",\"blue\",\"blue\",\"blue\",\"blue\",\"blue\",\"blue\",\"blue\",\"blue\",\"blue\",\"blue\",\"blue\",\"blue\",\"blue\",\"blue\",\"blue\",\"blue\",\"blue\",\"blue\",\"blue\",\"blue\",\"blue\",\"blue\",\"blue\",\"blue\",\"blue\",\"blue\",\"blue\",\"blue\",\"blue\",\"blue\",\"blue\",\"blue\",\"blue\",\"blue\",\"blue\",\"blue\",\"blue\",\"blue\",\"blue\",\"blue\",\"blue\",\"blue\",\"blue\",\"blue\",\"blue\",\"blue\",\"blue\",\"blue\",\"blue\",\"blue\",\"blue\",\"blue\",\"blue\",\"blue\",\"blue\",\"blue\",\"blue\",\"blue\",\"blue\",\"blue\",\"blue\",\"blue\",\"blue\",\"blue\",\"blue\",\"blue\",\"blue\",\"blue\",\"blue\",\"blue\",\"blue\",\"blue\",\"blue\",\"blue\",\"blue\",\"blue\",\"blue\",\"blue\",\"blue\",\"blue\",\"blue\",\"blue\",\"blue\",\"blue\",\"blue\",\"blue\",\"blue\",\"blue\",\"blue\",\"blue\",\"blue\",\"blue\",\"blue\",\"blue\",\"blue\",\"blue\",\"blue\",\"blue\",\"blue\",\"blue\",\"blue\",\"blue\",\"blue\",\"blue\",\"blue\",\"blue\",\"blue\",\"blue\",\"blue\",\"blue\",\"blue\",\"blue\",\"blue\",\"blue\",\"blue\",\"blue\",\"blue\",\"blue\",\"blue\",\"blue\",\"blue\",\"blue\",\"blue\",\"blue\",\"blue\",\"blue\",\"blue\",\"blue\",\"blue\",\"blue\",\"blue\",\"blue\",\"blue\",\"blue\",\"blue\",\"blue\",\"blue\",\"blue\",\"blue\",\"blue\",\"blue\",\"blue\",\"blue\",\"blue\",\"blue\",\"blue\",\"blue\",\"blue\",\"blue\",\"blue\",\"blue\",\"blue\",\"blue\",\"blue\",\"blue\",\"blue\",\"blue\",\"blue\",\"blue\",\"blue\",\"blue\",\"blue\",\"blue\",\"blue\",\"blue\",\"blue\",\"blue\",\"blue\",\"blue\",\"blue\",\"blue\",\"blue\",\"blue\",\"blue\",\"blue\",\"blue\",\"blue\",\"blue\",\"blue\",\"blue\",\"blue\",\"blue\",\"blue\",\"blue\",\"blue\",\"blue\",\"blue\",\"blue\",\"blue\",\"blue\",\"blue\",\"blue\",\"blue\",\"blue\",\"blue\",\"blue\",\"blue\",\"blue\",\"blue\",\"blue\",\"blue\",\"blue\",\"blue\",\"blue\",\"blue\",\"blue\",\"blue\",\"blue\",\"blue\",\"blue\",\"blue\",\"blue\",\"blue\",\"blue\",\"blue\",\"blue\",\"blue\",\"blue\",\"blue\",\"blue\",\"blue\",\"blue\",\"blue\",\"blue\",\"blue\",\"blue\",\"blue\",\"blue\",\"blue\",\"blue\",\"blue\",\"blue\",\"blue\",\"blue\",\"blue\",\"blue\",\"blue\",\"blue\",\"blue\",\"blue\",\"blue\",\"blue\",\"blue\",\"blue\",\"blue\",\"blue\",\"blue\",\"blue\",\"blue\",\"blue\",\"blue\",\"blue\",\"blue\",\"blue\",\"blue\",\"blue\",\"blue\",\"blue\",\"blue\",\"blue\",\"blue\",\"blue\",\"blue\",\"blue\",\"blue\",\"blue\",\"blue\",\"blue\",\"blue\",\"blue\",\"blue\",\"blue\",\"blue\",\"blue\",\"blue\",\"blue\",\"blue\",\"blue\",\"blue\",\"blue\",\"blue\",\"blue\",\"blue\",\"blue\",\"blue\",\"blue\",\"blue\",\"blue\",\"blue\",\"blue\",\"blue\",\"blue\",\"blue\",\"blue\",\"blue\",\"blue\",\"blue\",\"blue\",\"blue\",\"blue\",\"blue\",\"blue\",\"blue\",\"blue\",\"blue\",\"blue\",\"blue\",\"blue\",\"blue\",\"blue\",\"blue\",\"blue\",\"blue\",\"blue\",\"blue\",\"blue\",\"blue\",\"blue\",\"blue\",\"blue\",\"blue\",\"blue\",\"blue\",\"blue\",\"blue\",\"blue\",\"blue\",\"blue\",\"blue\",\"blue\",\"blue\",\"blue\",\"blue\",\"blue\",\"blue\",\"blue\",\"blue\",\"blue\",\"blue\",\"blue\",\"blue\",\"blue\",\"blue\",\"blue\",\"blue\",\"blue\",\"blue\",\"blue\",\"blue\",\"blue\",\"blue\",\"blue\",\"blue\",\"blue\",\"blue\",\"blue\",\"blue\",\"blue\",\"blue\",\"blue\",\"blue\",\"blue\",\"blue\",\"blue\",\"blue\",\"blue\",\"blue\",\"blue\",\"blue\",\"blue\",\"blue\",\"blue\",\"blue\",\"blue\",\"blue\",\"blue\",\"blue\",\"blue\",\"blue\",\"blue\",\"blue\",\"blue\",\"blue\",\"blue\",\"blue\",\"blue\",\"blue\",\"blue\",\"blue\",\"blue\",\"blue\",\"blue\",\"blue\",\"blue\",\"blue\",\"blue\",\"blue\",\"blue\",\"blue\",\"blue\",\"blue\",\"blue\",\"blue\",\"blue\",\"blue\",\"blue\",\"blue\",\"blue\",\"blue\",\"blue\",\"blue\",\"blue\",\"blue\",\"blue\",\"blue\",\"blue\",\"blue\",\"blue\",\"blue\",\"blue\",\"blue\",\"blue\",\"blue\",\"blue\",\"blue\",\"blue\",\"blue\",\"blue\",\"blue\",\"blue\",\"blue\",\"blue\",\"blue\",\"blue\",\"blue\",\"blue\",\"blue\",\"blue\",\"blue\",\"blue\",\"blue\",\"blue\",\"blue\",\"blue\",\"blue\",\"blue\",\"blue\",\"blue\",\"blue\",\"blue\",\"blue\",\"blue\",\"blue\",\"blue\",\"blue\",\"blue\",\"blue\",\"blue\",\"blue\",\"blue\",\"blue\",\"blue\",\"blue\",\"blue\",\"blue\",\"blue\",\"blue\",\"blue\",\"blue\",\"blue\",\"blue\",\"blue\",\"blue\",\"blue\",\"blue\",\"blue\",\"blue\",\"blue\",\"blue\",\"blue\",\"blue\",\"blue\",\"blue\",\"blue\",\"blue\",\"blue\",\"blue\",\"blue\",\"blue\",\"blue\",\"blue\",\"blue\",\"blue\",\"blue\",\"blue\",\"blue\",\"blue\",\"blue\",\"blue\",\"blue\",\"blue\",\"blue\",\"blue\",\"blue\",\"blue\",\"blue\",\"blue\",\"blue\",\"blue\",\"blue\",\"blue\",\"blue\",\"blue\",\"blue\",\"blue\",\"blue\",\"blue\",\"blue\",\"blue\",\"blue\",\"blue\",\"blue\",\"blue\",\"blue\",\"blue\",\"blue\",\"blue\",\"blue\",\"blue\",\"blue\",\"blue\",\"blue\",\"blue\",\"blue\",\"blue\",\"blue\",\"blue\",\"blue\",\"blue\",\"blue\",\"blue\",\"blue\",\"blue\",\"blue\",\"blue\",\"blue\",\"blue\",\"blue\",\"blue\",\"blue\",\"blue\",\"blue\",\"blue\",\"blue\",\"blue\",\"blue\",\"blue\",\"blue\",\"blue\",\"blue\",\"blue\",\"blue\",\"blue\",\"blue\",\"blue\",\"blue\",\"blue\",\"blue\",\"blue\",\"blue\",\"blue\",\"blue\",\"blue\",\"blue\",\"blue\",\"blue\",\"blue\",\"blue\",\"blue\",\"blue\",\"blue\",\"blue\",\"blue\",\"blue\",\"blue\",\"blue\",\"blue\",\"blue\",\"blue\",\"blue\",\"blue\",\"blue\",\"blue\",\"blue\",\"blue\",\"blue\",\"blue\",\"blue\",\"blue\",\"blue\",\"blue\",\"blue\",\"blue\",\"blue\",\"blue\",\"blue\",\"blue\",\"blue\",\"blue\",\"blue\",\"blue\",\"blue\",\"blue\",\"blue\",\"blue\",\"blue\",\"blue\",\"blue\",\"blue\",\"blue\",\"blue\",\"blue\",\"blue\",\"blue\",\"blue\",\"blue\",\"blue\",\"blue\",\"blue\",\"blue\",\"blue\",\"blue\",\"blue\",\"blue\",\"blue\",\"blue\",\"blue\",\"blue\",\"blue\",\"blue\",\"blue\",\"blue\",\"blue\",\"blue\",\"blue\",\"blue\",\"blue\",\"blue\",\"blue\",\"blue\",\"blue\",\"blue\",\"blue\",\"blue\",\"blue\",\"blue\",\"blue\",\"blue\",\"blue\",\"blue\",\"blue\",\"blue\",\"blue\",\"blue\",\"blue\",\"blue\",\"blue\",\"blue\",\"blue\",\"blue\",\"blue\",\"blue\",\"blue\",\"blue\",\"blue\",\"blue\",\"blue\",\"blue\",\"blue\",\"blue\",\"blue\",\"blue\",\"blue\",\"blue\",\"blue\",\"blue\",\"blue\",\"blue\",\"blue\",\"blue\",\"blue\",\"blue\",\"blue\",\"blue\",\"blue\",\"blue\",\"blue\",\"blue\",\"blue\",\"blue\",\"blue\",\"blue\",\"blue\",\"blue\",\"blue\",\"blue\",\"blue\",\"blue\",\"blue\",\"blue\",\"blue\",\"blue\",\"blue\",\"blue\",\"blue\",\"blue\",\"blue\",\"blue\",\"blue\",\"blue\",\"blue\",\"blue\",\"blue\",\"blue\",\"blue\",\"blue\",\"blue\",\"blue\",\"blue\",\"blue\",\"blue\",\"blue\",\"blue\",\"blue\",\"blue\",\"blue\",\"blue\",\"blue\",\"blue\",\"blue\",\"blue\",\"blue\",\"blue\",\"blue\",\"blue\",\"blue\",\"blue\",\"blue\",\"blue\",\"blue\",\"blue\",\"blue\",\"blue\",\"blue\",\"blue\",\"blue\",\"blue\",\"blue\",\"blue\",\"blue\",\"blue\",\"blue\",\"blue\",\"blue\",\"blue\",\"blue\",\"blue\",\"blue\",\"blue\",\"blue\",\"blue\",\"blue\",\"blue\",\"blue\",\"blue\",\"blue\",\"blue\",\"blue\",\"blue\",\"blue\",\"blue\",\"blue\",\"blue\",\"blue\",\"blue\",\"blue\",\"blue\",\"blue\",\"blue\",\"blue\",\"blue\",\"blue\",\"blue\",\"blue\",\"blue\",\"blue\",\"blue\",\"blue\",\"blue\",\"blue\",\"blue\",\"blue\",\"blue\",\"blue\",\"blue\",\"blue\",\"blue\",\"blue\",\"blue\",\"blue\",\"blue\",\"blue\",\"blue\",\"blue\",\"blue\",\"blue\",\"blue\",\"blue\",\"blue\",\"blue\",\"blue\",\"blue\",\"blue\",\"blue\",\"blue\",\"blue\",\"blue\",\"blue\",\"blue\",\"blue\",\"blue\",\"blue\",\"blue\",\"blue\",\"blue\",\"blue\",\"blue\",\"blue\",\"blue\",\"blue\",\"blue\",\"blue\",\"blue\",\"blue\",\"blue\",\"blue\",\"blue\",\"blue\",\"blue\",\"blue\",\"blue\",\"blue\",\"blue\",\"blue\",\"blue\",\"blue\",\"blue\",\"blue\",\"blue\",\"blue\",\"blue\",\"blue\",\"blue\",\"blue\",\"blue\",\"blue\",\"blue\",\"blue\",\"blue\",\"blue\",\"blue\",\"blue\",\"blue\",\"blue\",\"blue\",\"blue\",\"blue\",\"blue\",\"blue\",\"blue\",\"blue\",\"blue\",\"blue\",\"blue\",\"blue\",\"blue\",\"blue\",\"blue\",\"blue\",\"blue\",\"blue\",\"blue\",\"blue\",\"blue\",\"blue\",\"blue\",\"blue\",\"blue\",\"blue\",\"blue\",\"blue\",\"blue\",\"blue\",\"blue\",\"blue\",\"blue\",\"blue\",\"blue\",\"blue\",\"blue\",\"blue\",\"blue\",\"blue\",\"blue\",\"blue\",\"blue\",\"blue\",\"blue\",\"blue\",\"blue\",\"blue\",\"blue\",\"blue\",\"blue\",\"blue\",\"blue\",\"blue\",\"blue\",\"blue\",\"blue\",\"blue\",\"blue\",\"blue\",\"blue\",\"blue\",\"blue\",\"blue\",\"blue\",\"blue\",\"blue\",\"blue\",\"blue\",\"blue\",\"blue\",\"blue\",\"blue\",\"blue\",\"blue\",\"blue\",\"blue\",\"blue\",\"blue\",\"blue\",\"blue\",\"blue\",\"blue\",\"blue\",\"blue\",\"blue\",\"blue\",\"blue\",\"blue\",\"blue\",\"blue\",\"blue\",\"blue\",\"blue\",\"blue\",\"blue\",\"blue\",\"blue\",\"blue\",\"blue\",\"blue\",\"blue\",\"blue\",\"blue\",\"blue\",\"blue\",\"blue\",\"blue\",\"blue\",\"blue\",\"blue\",\"blue\",\"blue\",\"blue\",\"blue\",\"blue\",\"blue\",\"blue\",\"blue\",\"blue\",\"blue\",\"blue\",\"blue\",\"blue\",\"blue\",\"blue\",\"blue\",\"blue\",\"blue\",\"blue\",\"blue\",\"blue\",\"blue\",\"blue\",\"blue\",\"blue\",\"blue\",\"blue\",\"blue\",\"blue\",\"blue\",\"blue\",\"blue\",\"blue\",\"blue\",\"blue\",\"blue\",\"blue\",\"blue\",\"blue\",\"blue\",\"blue\",\"blue\",\"blue\",\"blue\",\"blue\",\"blue\",\"blue\",\"blue\",\"blue\",\"blue\",\"blue\",\"blue\",\"blue\",\"blue\",\"blue\",\"blue\",\"blue\",\"blue\",\"blue\",\"blue\",\"blue\",\"blue\",\"blue\",\"blue\",\"blue\",\"blue\",\"blue\",\"blue\",\"blue\",\"blue\",\"blue\",\"blue\",\"blue\",\"blue\",\"blue\",\"blue\",\"blue\",\"blue\",\"blue\",\"blue\",\"blue\",\"blue\",\"blue\",\"blue\",\"blue\",\"blue\",\"blue\",\"blue\",\"blue\",\"blue\",\"blue\",\"blue\",\"blue\",\"blue\",\"blue\",\"blue\",\"blue\",\"blue\",\"blue\",\"blue\",\"blue\",\"blue\",\"blue\",\"blue\",\"blue\",\"blue\",\"blue\",\"blue\",\"blue\",\"blue\",\"blue\",\"blue\",\"blue\",\"blue\",\"blue\",\"blue\",\"blue\",\"blue\",\"blue\",\"blue\",\"blue\",\"blue\",\"blue\",\"blue\",\"blue\",\"blue\",\"blue\",\"blue\",\"blue\",\"blue\",\"blue\",\"blue\",\"blue\",\"blue\",\"blue\",\"blue\",\"blue\",\"blue\",\"blue\",\"blue\",\"blue\",\"blue\",\"blue\",\"blue\",\"blue\",\"blue\",\"blue\",\"blue\",\"blue\",\"blue\",\"blue\",\"blue\",\"blue\",\"blue\",\"blue\",\"blue\",\"blue\",\"blue\",\"blue\",\"blue\",\"blue\",\"blue\",\"blue\",\"blue\",\"blue\",\"blue\",\"blue\",\"blue\",\"blue\",\"blue\",\"blue\",\"blue\",\"blue\",\"blue\",\"blue\",\"blue\",\"blue\",\"blue\",\"blue\",\"blue\",\"blue\",\"blue\",\"blue\",\"blue\",\"blue\",\"blue\",\"blue\",\"blue\",\"blue\",\"blue\",\"blue\",\"blue\",\"blue\",\"blue\",\"blue\",\"blue\",\"blue\",\"blue\",\"blue\",\"blue\",\"blue\",\"blue\",\"blue\",\"blue\",\"blue\",\"blue\",\"blue\",\"blue\",\"blue\",\"blue\",\"blue\",\"blue\",\"blue\",\"blue\",\"blue\",\"blue\",\"blue\",\"blue\",\"blue\",\"blue\",\"blue\",\"blue\",\"blue\",\"blue\",\"blue\",\"blue\",\"blue\",\"blue\",\"blue\",\"blue\",\"blue\",\"blue\",\"blue\",\"blue\",\"blue\",\"blue\",\"blue\",\"blue\",\"blue\",\"blue\",\"blue\",\"blue\",\"blue\",\"blue\",\"blue\",\"blue\",\"blue\",\"blue\",\"blue\",\"blue\",\"blue\",\"blue\",\"blue\",\"blue\",\"blue\",\"blue\",\"blue\",\"blue\",\"blue\",\"blue\",\"blue\",\"blue\",\"blue\",\"blue\",\"blue\",\"blue\",\"blue\",\"blue\",\"blue\",\"blue\",\"blue\",\"blue\",\"blue\",\"blue\",\"blue\",\"blue\",\"blue\",\"blue\",\"blue\",\"blue\",\"blue\",\"blue\",\"blue\",\"blue\",\"blue\",\"blue\",\"blue\",\"blue\",\"blue\",\"blue\",\"blue\",\"blue\",\"blue\",\"blue\",\"blue\",\"blue\",\"blue\",\"blue\",\"blue\",\"blue\",\"blue\",\"blue\",\"blue\",\"blue\",\"blue\",\"blue\",\"blue\",\"blue\",\"blue\",\"blue\",\"blue\",\"blue\",\"blue\",\"blue\",\"blue\",\"blue\",\"blue\",\"blue\",\"blue\",\"blue\",\"blue\",\"blue\",\"blue\",\"blue\",\"blue\",\"blue\",\"blue\",\"blue\",\"blue\",\"blue\",\"blue\",\"blue\",\"blue\",\"blue\",\"blue\",\"blue\",\"blue\",\"blue\",\"blue\",\"blue\",\"blue\",\"blue\",\"blue\",\"blue\",\"blue\",\"blue\",\"blue\",\"blue\",\"blue\",\"blue\",\"blue\",\"blue\",\"blue\",\"blue\",\"blue\",\"blue\",\"blue\",\"blue\",\"blue\",\"blue\",\"blue\",\"blue\",\"blue\",\"blue\",\"blue\",\"blue\",\"blue\",\"blue\",\"blue\",\"blue\",\"blue\",\"blue\",\"blue\",\"blue\",\"blue\",\"blue\",\"blue\",\"blue\",\"blue\",\"blue\",\"blue\",\"blue\",\"blue\",\"blue\",\"blue\",\"blue\",\"blue\",\"blue\",\"blue\",\"blue\",\"blue\",\"blue\",\"blue\",\"blue\",\"blue\",\"blue\",\"blue\",\"blue\",\"blue\",\"blue\",\"blue\",\"blue\",\"blue\",\"blue\",\"blue\",\"blue\",\"blue\",\"blue\",\"blue\",\"blue\",\"blue\",\"blue\",\"blue\",\"blue\",\"blue\",\"blue\",\"blue\",\"blue\",\"blue\",\"blue\",\"blue\",\"blue\",\"blue\",\"blue\",\"blue\",\"blue\",\"blue\",\"blue\",\"blue\",\"blue\",\"blue\",\"blue\",\"blue\",\"blue\",\"blue\",\"blue\",\"blue\",\"blue\",\"blue\",\"blue\",\"blue\",\"blue\",\"blue\",\"blue\",\"blue\",\"blue\",\"blue\",\"blue\",\"blue\",\"blue\",\"blue\",\"blue\",\"blue\",\"blue\",\"blue\",\"blue\",\"blue\",\"blue\",\"blue\",\"blue\",\"blue\",\"blue\",\"blue\",\"blue\",\"blue\",\"blue\",\"blue\",\"blue\",\"blue\",\"blue\",\"blue\",\"blue\",\"blue\",\"blue\",\"blue\",\"blue\",\"blue\",\"blue\",\"blue\",\"blue\",\"blue\",\"blue\",\"blue\",\"blue\",\"blue\",\"blue\",\"blue\",\"blue\",\"blue\",\"blue\",\"blue\",\"blue\",\"blue\",\"blue\",\"blue\",\"blue\",\"blue\",\"blue\",\"blue\",\"blue\",\"blue\",\"blue\",\"blue\",\"blue\",\"blue\",\"blue\",\"blue\",\"blue\",\"blue\",\"blue\",\"blue\",\"blue\",\"blue\",\"blue\",\"blue\",\"blue\",\"blue\",\"blue\",\"blue\",\"blue\",\"blue\",\"blue\",\"blue\",\"blue\",\"blue\",\"blue\",\"blue\",\"blue\",\"blue\",\"blue\",\"blue\",\"blue\",\"blue\",\"blue\",\"blue\",\"blue\",\"blue\",\"blue\",\"blue\",\"blue\",\"blue\",\"blue\",\"blue\",\"blue\",\"blue\",\"blue\",\"blue\",\"blue\",\"blue\",\"blue\",\"blue\",\"blue\",\"blue\",\"blue\",\"blue\",\"blue\",\"blue\",\"blue\",\"blue\",\"blue\",\"blue\",\"blue\",\"blue\",\"blue\",\"blue\",\"blue\",\"blue\",\"blue\",\"blue\",\"blue\",\"blue\",\"blue\",\"blue\",\"blue\",\"blue\",\"blue\",\"blue\",\"blue\",\"blue\",\"blue\",\"blue\",\"blue\",\"blue\",\"blue\",\"blue\",\"blue\",\"blue\",\"blue\",\"blue\",\"blue\",\"blue\",\"blue\",\"blue\",\"blue\",\"blue\",\"blue\",\"blue\",\"blue\",\"blue\",\"blue\",\"blue\",\"blue\",\"blue\",\"blue\",\"blue\",\"blue\",\"blue\",\"blue\",\"blue\",\"blue\",\"blue\",\"blue\",\"blue\",\"blue\",\"blue\",\"blue\",\"blue\",\"blue\",\"blue\",\"blue\",\"blue\",\"blue\",\"blue\",\"blue\",\"blue\",\"blue\",\"blue\",\"blue\",\"blue\",\"blue\",\"blue\",\"blue\",\"blue\",\"blue\",\"blue\",\"blue\",\"blue\",\"blue\",\"blue\",\"blue\",\"blue\",\"blue\",\"blue\",\"blue\",\"blue\",\"blue\",\"blue\",\"blue\",\"blue\",\"blue\",\"blue\",\"blue\",\"blue\",\"blue\",\"blue\",\"blue\",\"blue\",\"blue\",\"blue\",\"blue\",\"blue\",\"blue\",\"blue\",\"blue\",\"blue\",\"blue\",\"blue\",\"blue\",\"blue\",\"blue\",\"blue\",\"blue\",\"blue\",\"blue\",\"blue\",\"blue\",\"blue\",\"blue\",\"blue\",\"blue\",\"blue\",\"blue\",\"blue\",\"blue\",\"blue\",\"blue\",\"blue\",\"blue\",\"blue\",\"blue\",\"blue\",\"blue\",\"blue\",\"blue\",\"blue\",\"blue\",\"blue\",\"blue\",\"blue\",\"blue\",\"blue\",\"blue\",\"blue\",\"blue\",\"blue\",\"blue\",\"blue\",\"blue\",\"blue\",\"blue\",\"blue\",\"blue\",\"blue\",\"blue\",\"blue\",\"blue\",\"blue\",\"blue\",\"blue\",\"blue\",\"blue\",\"blue\",\"blue\",\"blue\",\"blue\",\"blue\",\"blue\",\"blue\",\"blue\",\"blue\",\"blue\",\"blue\",\"blue\",\"blue\",\"blue\",\"blue\",\"blue\",\"blue\",\"blue\",\"blue\",\"blue\",\"blue\",\"blue\",\"blue\",\"blue\",\"blue\",\"blue\",\"blue\",\"blue\",\"blue\",\"blue\",\"blue\",\"blue\",\"blue\",\"blue\",\"blue\",\"blue\",\"blue\",\"blue\",\"blue\",\"blue\",\"blue\",\"blue\",\"blue\",\"blue\",\"blue\",\"blue\",\"blue\",\"blue\",\"blue\",\"blue\",\"blue\",\"blue\",\"blue\",\"blue\",\"blue\",\"blue\",\"blue\",\"blue\",\"blue\",\"blue\",\"blue\",\"blue\",\"blue\",\"blue\",\"blue\",\"blue\",\"blue\",\"blue\",\"blue\",\"blue\",\"blue\",\"blue\",\"blue\",\"blue\",\"blue\",\"blue\",\"blue\",\"blue\",\"blue\",\"blue\",\"blue\",\"blue\",\"blue\",\"blue\",\"blue\",\"blue\",\"blue\",\"blue\",\"blue\",\"blue\",\"blue\",\"blue\",\"blue\",\"blue\",\"blue\",\"blue\",\"blue\",\"blue\",\"blue\",\"blue\",\"blue\",\"blue\",\"blue\",\"blue\",\"blue\",\"blue\",\"blue\",\"blue\",\"blue\",\"blue\",\"blue\",\"blue\",\"blue\",\"blue\",\"blue\",\"blue\",\"blue\",\"blue\",\"blue\",\"blue\",\"blue\",\"blue\",\"blue\",\"blue\",\"blue\",\"blue\",\"blue\",\"blue\",\"blue\",\"blue\",\"blue\",\"blue\",\"blue\",\"blue\",\"blue\",\"blue\",\"blue\",\"blue\",\"blue\",\"blue\",\"blue\",\"blue\",\"blue\",\"blue\",\"blue\",\"blue\",\"blue\",\"blue\",\"blue\",\"blue\",\"blue\",\"blue\",\"blue\",\"blue\",\"blue\",\"blue\",\"blue\",\"blue\",\"blue\",\"blue\",\"blue\",\"blue\",\"blue\",\"blue\",\"blue\",\"blue\",\"blue\",\"blue\",\"blue\",\"blue\",\"blue\",\"blue\",\"blue\",\"blue\",\"blue\",\"blue\",\"blue\",\"blue\",\"blue\",\"blue\",\"blue\",\"blue\",\"blue\",\"blue\",\"blue\",\"blue\",\"blue\",\"blue\",\"blue\",\"blue\",\"blue\",\"blue\",\"blue\",\"blue\",\"blue\",\"blue\",\"blue\",\"blue\",\"blue\",\"blue\",\"blue\",\"blue\",\"blue\",\"blue\",\"blue\",\"blue\",\"blue\",\"blue\",\"blue\",\"blue\",\"blue\",\"blue\",\"blue\",\"blue\",\"blue\",\"blue\",\"blue\",\"blue\",\"blue\",\"blue\",\"blue\",\"blue\",\"blue\",\"blue\",\"blue\",\"blue\",\"blue\",\"blue\",\"blue\",\"blue\",\"blue\",\"blue\",\"blue\",\"blue\",\"blue\",\"blue\",\"blue\",\"blue\",\"blue\",\"blue\",\"blue\",\"blue\",\"blue\",\"blue\",\"blue\",\"blue\",\"blue\",\"blue\",\"blue\",\"blue\",\"blue\",\"blue\",\"blue\",\"blue\",\"blue\",\"blue\",\"blue\",\"blue\",\"blue\",\"blue\",\"blue\",\"blue\",\"blue\",\"blue\",\"blue\",\"blue\",\"blue\",\"blue\",\"blue\",\"blue\",\"blue\",\"blue\",\"blue\",\"blue\",\"blue\",\"blue\",\"blue\",\"blue\",\"blue\",\"blue\",\"blue\",\"blue\",\"blue\",\"blue\",\"blue\",\"blue\",\"blue\",\"blue\",\"blue\",\"blue\",\"blue\",\"blue\",\"blue\",\"blue\",\"blue\",\"blue\",\"blue\",\"blue\",\"blue\",\"blue\",\"blue\",\"blue\",\"blue\",\"blue\",\"blue\",\"blue\",\"blue\",\"blue\",\"blue\",\"blue\",\"blue\",\"blue\",\"blue\",\"blue\",\"blue\",\"blue\",\"blue\",\"blue\",\"blue\",\"blue\",\"blue\",\"blue\",\"blue\",\"blue\",\"blue\",\"blue\",\"blue\",\"blue\",\"blue\",\"blue\",\"blue\",\"blue\",\"blue\",\"blue\",\"blue\",\"blue\",\"blue\",\"blue\",\"blue\",\"blue\",\"blue\",\"blue\",\"blue\",\"blue\",\"blue\",\"blue\",\"blue\",\"blue\",\"blue\",\"blue\",\"blue\",\"blue\",\"blue\",\"blue\",\"blue\",\"blue\",\"blue\",\"blue\",\"blue\",\"blue\",\"blue\",\"blue\",\"blue\",\"blue\",\"blue\",\"blue\",\"blue\",\"blue\",\"blue\",\"blue\",\"blue\",\"blue\",\"blue\",\"blue\",\"blue\",\"blue\",\"blue\",\"blue\",\"blue\",\"blue\",\"blue\",\"blue\",\"blue\",\"blue\",\"blue\",\"blue\",\"blue\",\"blue\",\"blue\",\"blue\",\"blue\",\"blue\",\"blue\",\"blue\",\"blue\",\"blue\",\"blue\",\"blue\",\"blue\",\"blue\",\"blue\",\"blue\",\"blue\",\"blue\",\"blue\",\"blue\",\"blue\",\"blue\",\"blue\",\"blue\",\"blue\",\"blue\",\"blue\",\"blue\",\"blue\",\"blue\",\"blue\",\"blue\",\"blue\",\"blue\",\"blue\",\"blue\",\"blue\",\"blue\",\"blue\",\"blue\",\"blue\",\"blue\",\"blue\",\"blue\",\"blue\",\"blue\",\"blue\",\"blue\",\"blue\",\"blue\",\"blue\",\"blue\",\"blue\",\"blue\",\"blue\",\"blue\",\"blue\",\"blue\",\"blue\",\"blue\",\"blue\",\"blue\",\"blue\",\"blue\",\"blue\",\"blue\",\"blue\",\"blue\",\"blue\",\"blue\",\"blue\",\"blue\",\"blue\",\"blue\",\"blue\",\"blue\",\"blue\",\"blue\",\"blue\",\"blue\",\"blue\",\"blue\",\"blue\",\"blue\",\"blue\",\"blue\",\"blue\",\"blue\",\"blue\",\"blue\",\"blue\",\"blue\",\"blue\",\"blue\",\"blue\",\"blue\",\"blue\",\"blue\",\"blue\",\"blue\",\"blue\",\"blue\",\"blue\",\"blue\",\"blue\",\"blue\",\"blue\",\"blue\",\"blue\",\"blue\",\"blue\",\"blue\",\"blue\",\"blue\",\"blue\",\"blue\",\"blue\",\"blue\",\"blue\",\"blue\",\"blue\",\"blue\",\"blue\",\"blue\",\"blue\",\"blue\",\"blue\",\"blue\",\"blue\",\"blue\",\"blue\",\"blue\",\"blue\",\"blue\",\"blue\",\"blue\",\"blue\",\"blue\",\"blue\",\"blue\",\"blue\",\"blue\",\"blue\",\"blue\",\"blue\",\"blue\",\"blue\",\"blue\",\"blue\",\"blue\",\"blue\",\"blue\",\"blue\",\"blue\",\"blue\",\"blue\",\"blue\",\"blue\",\"blue\",\"blue\",\"blue\",\"blue\",\"blue\",\"blue\",\"blue\",\"blue\",\"blue\",\"blue\",\"blue\",\"blue\",\"blue\",\"blue\",\"blue\",\"blue\",\"blue\",\"blue\",\"blue\",\"blue\",\"blue\",\"blue\",\"blue\",\"blue\",\"blue\",\"blue\",\"blue\",\"blue\",\"blue\",\"blue\",\"blue\",\"blue\",\"blue\",\"blue\",\"blue\",\"blue\",\"blue\",\"blue\",\"blue\",\"blue\",\"blue\",\"blue\",\"blue\",\"blue\",\"blue\",\"blue\",\"blue\",\"blue\",\"blue\",\"blue\",\"blue\",\"blue\",\"blue\",\"blue\",\"blue\",\"blue\",\"blue\",\"blue\",\"blue\",\"blue\",\"blue\",\"blue\",\"blue\",\"blue\",\"blue\",\"blue\",\"blue\",\"blue\",\"blue\",\"blue\",\"blue\",\"blue\",\"blue\",\"blue\",\"blue\",\"blue\",\"blue\",\"blue\",\"blue\",\"blue\",\"blue\",\"blue\",\"blue\",\"blue\",\"blue\",\"blue\",\"blue\",\"blue\",\"blue\",\"blue\",\"blue\",\"blue\",\"blue\",\"blue\",\"blue\",\"blue\",\"blue\",\"blue\",\"blue\",\"blue\",\"blue\",\"blue\",\"blue\",\"blue\",\"blue\",\"blue\",\"blue\",\"blue\",\"blue\",\"blue\",\"blue\",\"blue\",\"blue\",\"blue\",\"blue\",\"blue\",\"blue\",\"blue\",\"blue\",\"blue\",\"blue\",\"blue\",\"blue\",\"blue\",\"blue\",\"blue\",\"blue\",\"blue\",\"blue\",\"blue\",\"blue\",\"blue\",\"blue\",\"blue\",\"blue\",\"blue\",\"blue\",\"blue\",\"blue\",\"blue\",\"blue\",\"blue\",\"blue\",\"blue\",\"blue\",\"blue\",\"blue\",\"blue\",\"blue\",\"blue\",\"blue\",\"blue\",\"blue\",\"blue\",\"blue\",\"blue\",\"blue\",\"blue\",\"blue\",\"blue\",\"blue\",\"blue\",\"blue\",\"blue\",\"blue\",\"blue\",\"blue\",\"blue\",\"blue\",\"blue\",\"blue\",\"blue\",\"blue\",\"blue\",\"blue\",\"blue\",\"blue\",\"blue\",\"blue\",\"blue\",\"blue\",\"blue\",\"blue\",\"blue\",\"blue\",\"blue\",\"blue\",\"blue\",\"blue\",\"blue\",\"blue\",\"blue\",\"blue\",\"blue\",\"blue\",\"blue\",\"blue\",\"blue\",\"blue\",\"blue\",\"blue\",\"blue\",\"blue\",\"blue\",\"blue\",\"blue\",\"blue\",\"blue\",\"blue\",\"blue\",\"blue\",\"blue\",\"blue\",\"blue\",\"blue\",\"blue\",\"blue\",\"blue\",\"blue\",\"blue\",\"blue\",\"blue\",\"blue\",\"blue\",\"blue\",\"blue\",\"blue\",\"blue\",\"blue\",\"blue\",\"blue\",\"blue\",\"blue\",\"blue\",\"blue\",\"blue\",\"blue\",\"blue\",\"blue\",\"blue\",\"blue\",\"blue\",\"blue\",\"blue\",\"blue\",\"blue\",\"blue\",\"blue\",\"blue\",\"blue\",\"blue\",\"blue\",\"blue\",\"blue\",\"blue\",\"blue\",\"blue\",\"blue\",\"blue\",\"blue\",\"blue\",\"blue\",\"blue\",\"blue\",\"blue\",\"blue\",\"blue\",\"blue\",\"blue\",\"blue\",\"blue\",\"blue\",\"blue\",\"blue\",\"blue\",\"blue\",\"blue\",\"blue\",\"blue\",\"blue\",\"blue\",\"blue\",\"blue\",\"blue\",\"blue\",\"blue\",\"blue\",\"blue\",\"blue\",\"blue\",\"blue\",\"blue\",\"blue\",\"blue\",\"blue\",\"blue\",\"blue\",\"blue\",\"blue\",\"blue\",\"blue\",\"blue\",\"blue\",\"blue\",\"blue\",\"blue\",\"blue\",\"blue\",\"blue\",\"blue\",\"blue\",\"blue\",\"blue\",\"blue\",\"blue\",\"blue\",\"blue\",\"blue\",\"blue\",\"blue\",\"blue\",\"blue\",\"blue\",\"blue\",\"blue\",\"blue\",\"blue\",\"blue\",\"blue\",\"blue\",\"blue\",\"blue\",\"blue\",\"blue\",\"blue\",\"blue\",\"blue\",\"blue\",\"blue\",\"blue\",\"blue\",\"blue\",\"blue\",\"blue\",\"blue\",\"blue\",\"blue\",\"blue\",\"blue\",\"blue\",\"blue\",\"blue\",\"blue\",\"blue\",\"blue\",\"blue\",\"blue\",\"blue\",\"blue\",\"blue\",\"blue\",\"blue\",\"blue\",\"blue\",\"blue\",\"blue\",\"blue\",\"blue\",\"blue\",\"blue\",\"blue\",\"blue\",\"blue\",\"blue\",\"blue\",\"blue\",\"blue\",\"blue\",\"blue\",\"blue\",\"blue\",\"blue\",\"blue\",\"blue\",\"blue\",\"blue\",\"blue\",\"blue\",\"blue\",\"blue\",\"blue\",\"blue\",\"blue\",\"blue\",\"blue\",\"blue\",\"blue\",\"blue\",\"blue\",\"blue\",\"blue\",\"blue\",\"blue\",\"blue\",\"blue\",\"blue\",\"blue\",\"blue\",\"blue\",\"blue\",\"blue\",\"blue\",\"blue\",\"blue\",\"blue\",\"blue\",\"blue\",\"blue\",\"blue\",\"blue\",\"blue\",\"blue\",\"blue\",\"blue\",\"blue\",\"blue\",\"blue\",\"blue\",\"blue\",\"blue\",\"blue\",\"blue\",\"blue\",\"blue\",\"blue\",\"blue\",\"blue\",\"blue\",\"blue\",\"blue\",\"blue\",\"blue\",\"blue\",\"blue\",\"blue\",\"blue\",\"blue\",\"blue\",\"blue\",\"blue\",\"blue\",\"blue\",\"blue\",\"blue\",\"blue\",\"blue\",\"blue\",\"blue\",\"blue\",\"blue\",\"blue\",\"blue\",\"blue\",\"blue\",\"blue\",\"blue\",\"blue\",\"blue\",\"blue\",\"blue\",\"blue\",\"blue\",\"blue\",\"blue\",\"blue\",\"blue\",\"blue\",\"blue\",\"blue\",\"blue\",\"blue\",\"blue\",\"blue\",\"blue\",\"blue\",\"blue\",\"blue\",\"blue\",\"blue\",\"blue\",\"blue\",\"blue\",\"blue\",\"blue\",\"blue\",\"blue\",\"blue\",\"blue\",\"blue\",\"blue\",\"blue\",\"blue\",\"blue\",\"blue\",\"blue\",\"blue\",\"blue\",\"blue\",\"blue\",\"blue\",\"blue\",\"blue\",\"blue\",\"blue\",\"blue\",\"blue\",\"blue\",\"blue\",\"blue\",\"blue\",\"blue\",\"blue\",\"blue\",\"blue\",\"blue\",\"blue\",\"blue\",\"blue\",\"blue\",\"blue\",\"blue\",\"blue\",\"blue\",\"blue\",\"blue\",\"blue\",\"blue\",\"blue\",\"blue\",\"blue\",\"blue\",\"blue\",\"blue\",\"blue\",\"blue\",\"blue\",\"blue\",\"blue\",\"blue\",\"blue\",\"blue\",\"blue\",\"blue\",\"blue\",\"blue\",\"blue\",\"blue\",\"blue\",\"blue\",\"blue\",\"blue\",\"blue\",\"blue\",\"blue\",\"blue\",\"blue\",\"blue\",\"blue\",\"blue\",\"blue\",\"blue\",\"blue\",\"blue\",\"blue\",\"blue\",\"blue\",\"blue\",\"blue\",\"blue\",\"blue\",\"blue\",\"blue\",\"blue\",\"blue\",\"blue\",\"blue\",\"blue\",\"blue\",\"blue\",\"blue\",\"blue\",\"blue\",\"blue\",\"blue\",\"blue\",\"blue\",\"blue\",\"blue\",\"blue\",\"blue\",\"blue\",\"blue\",\"blue\",\"blue\",\"blue\",\"blue\",\"blue\",\"blue\",\"blue\",\"blue\",\"blue\",\"blue\",\"blue\",\"blue\",\"blue\",\"blue\",\"blue\",\"blue\",\"blue\",\"blue\",\"blue\",\"blue\",\"blue\",\"blue\",\"blue\",\"blue\",\"blue\",\"blue\",\"blue\",\"blue\",\"blue\",\"blue\",\"blue\",\"blue\",\"blue\",\"blue\",\"blue\",\"blue\",\"blue\",\"blue\",\"blue\",\"blue\",\"blue\",\"blue\",\"blue\",\"blue\",\"blue\",\"blue\",\"blue\",\"blue\",\"blue\",\"blue\",\"blue\",\"blue\",\"blue\",\"blue\",\"blue\",\"blue\",\"blue\",\"blue\",\"blue\",\"blue\",\"blue\",\"blue\",\"blue\",\"blue\",\"blue\",\"blue\",\"blue\",\"blue\",\"blue\",\"blue\",\"blue\",\"blue\",\"blue\",\"blue\",\"blue\",\"blue\",\"blue\",\"blue\",\"blue\",\"blue\",\"blue\",\"blue\",\"blue\",\"blue\",\"blue\",\"blue\",\"blue\",\"blue\",\"blue\",\"blue\",\"blue\",\"blue\",\"blue\",\"blue\",\"blue\",\"blue\",\"blue\",\"blue\",\"blue\",\"blue\",\"blue\",\"blue\",\"blue\",\"blue\",\"blue\",\"blue\",\"blue\",\"blue\",\"blue\",\"blue\",\"blue\",\"blue\",\"blue\",\"blue\",\"blue\",\"blue\",\"blue\",\"blue\",\"blue\",\"blue\",\"blue\",\"blue\",\"blue\",\"blue\",\"blue\",\"blue\",\"blue\",\"blue\",\"blue\",\"blue\",\"blue\",\"blue\",\"blue\",\"blue\",\"blue\",\"blue\",\"blue\",\"blue\",\"blue\",\"blue\",\"blue\",\"blue\",\"blue\",\"blue\",\"blue\",\"blue\",\"blue\",\"blue\",\"blue\",\"blue\",\"blue\",\"blue\",\"blue\",\"blue\",\"blue\",\"blue\",\"blue\",\"blue\",\"blue\",\"blue\",\"blue\",\"blue\",\"blue\",\"blue\",\"blue\",\"blue\",\"blue\",\"blue\",\"blue\",\"blue\",\"blue\",\"blue\",\"blue\",\"blue\",\"blue\",\"blue\",\"blue\",\"blue\",\"blue\",\"blue\",\"blue\",\"blue\",\"blue\",\"blue\",\"blue\",\"blue\",\"blue\",\"blue\",\"blue\",\"blue\",\"blue\",\"blue\",\"blue\",\"blue\",\"blue\",\"blue\",\"blue\",\"blue\",\"blue\",\"blue\",\"blue\",\"blue\",\"blue\",\"blue\",\"blue\",\"blue\",\"blue\",\"blue\",\"blue\",\"blue\",\"blue\",\"blue\",\"blue\",\"blue\",\"blue\",\"blue\",\"blue\",\"blue\",\"blue\",\"blue\",\"blue\",\"blue\",\"blue\",\"blue\",\"blue\",\"blue\",\"blue\",\"blue\",\"blue\",\"blue\",\"blue\",\"blue\",\"blue\",\"blue\",\"blue\",\"blue\",\"blue\",\"blue\",\"blue\",\"blue\",\"blue\",\"blue\",\"blue\",\"blue\",\"blue\",\"blue\",\"blue\",\"blue\",\"blue\",\"blue\",\"blue\",\"blue\",\"blue\",\"blue\",\"blue\",\"blue\",\"blue\",\"blue\",\"blue\",\"blue\",\"blue\",\"blue\",\"blue\",\"blue\",\"blue\",\"blue\",\"blue\",\"blue\",\"blue\",\"blue\",\"blue\",\"blue\",\"blue\",\"blue\",\"blue\",\"blue\",\"blue\",\"blue\",\"blue\",\"blue\",\"blue\",\"blue\",\"blue\",\"blue\",\"blue\",\"blue\",\"blue\",\"blue\",\"blue\",\"blue\",\"blue\",\"blue\",\"blue\",\"blue\",\"blue\",\"blue\",\"blue\",\"blue\",\"blue\",\"blue\",\"blue\",\"blue\",\"blue\",\"blue\",\"blue\",\"blue\",\"blue\",\"blue\",\"blue\",\"blue\",\"blue\",\"blue\",\"blue\",\"blue\",\"blue\",\"blue\",\"blue\",\"blue\",\"blue\",\"blue\",\"blue\",\"blue\",\"blue\",\"blue\",\"blue\",\"blue\",\"blue\",\"blue\",\"blue\",\"blue\",\"blue\",\"blue\",\"blue\",\"blue\",\"blue\",\"blue\",\"blue\",\"blue\",\"blue\",\"blue\",\"blue\",\"blue\",\"blue\",\"blue\",\"blue\",\"blue\",\"blue\",\"blue\",\"blue\",\"blue\",\"blue\",\"blue\",\"blue\",\"blue\",\"blue\",\"blue\",\"blue\",\"blue\",\"blue\",\"blue\",\"blue\",\"blue\",\"blue\",\"blue\",\"blue\",\"blue\",\"blue\",\"blue\",\"blue\",\"blue\",\"blue\",\"blue\",\"blue\",\"blue\",\"blue\",\"blue\",\"blue\",\"blue\",\"blue\",\"blue\",\"blue\",\"blue\",\"blue\",\"blue\",\"blue\",\"blue\",\"blue\",\"blue\",\"blue\",\"blue\",\"blue\",\"blue\",\"blue\",\"blue\",\"blue\",\"blue\",\"blue\",\"blue\",\"blue\",\"blue\",\"blue\",\"blue\",\"blue\",\"blue\",\"blue\",\"blue\",\"blue\",\"blue\",\"blue\",\"blue\",\"blue\",\"blue\",\"blue\",\"blue\",\"blue\",\"blue\",\"blue\",\"blue\",\"blue\",\"blue\",\"blue\",\"blue\",\"blue\",\"blue\",\"blue\",\"blue\",\"blue\",\"blue\",\"blue\",\"blue\",\"blue\",\"blue\",\"blue\",\"blue\",\"blue\",\"blue\",\"blue\",\"blue\",\"blue\",\"blue\",\"blue\",\"blue\",\"blue\",\"blue\",\"blue\",\"blue\",\"blue\",\"blue\",\"blue\",\"blue\",\"blue\",\"blue\",\"blue\",\"blue\",\"blue\",\"blue\",\"blue\",\"blue\",\"blue\",\"blue\",\"blue\",\"blue\",\"blue\",\"blue\",\"blue\",\"blue\",\"blue\",\"blue\",\"blue\",\"blue\",\"blue\",\"blue\",\"blue\",\"blue\",\"blue\",\"blue\",\"blue\",\"blue\",\"blue\",\"blue\",\"blue\",\"blue\",\"blue\",\"blue\",\"blue\",\"blue\",\"blue\",\"blue\",\"blue\",\"blue\",\"blue\",\"blue\",\"blue\",\"blue\",\"blue\",\"blue\",\"blue\",\"blue\",\"blue\",\"blue\",\"blue\",\"blue\",\"blue\",\"blue\",\"blue\",\"blue\",\"blue\",\"blue\",\"blue\",\"blue\",\"blue\",\"blue\",\"blue\",\"blue\",\"blue\",\"blue\",\"blue\",\"blue\",\"blue\",\"blue\",\"blue\",\"blue\",\"blue\",\"blue\",\"blue\",\"blue\",\"blue\",\"blue\",\"blue\",\"blue\",\"blue\",\"blue\",\"blue\",\"blue\",\"blue\",\"blue\",\"blue\",\"blue\",\"blue\",\"blue\",\"blue\",\"blue\",\"blue\",\"blue\",\"blue\",\"blue\",\"blue\",\"blue\",\"blue\",\"blue\",\"blue\",\"blue\",\"blue\",\"blue\",\"blue\",\"blue\",\"blue\",\"blue\",\"blue\",\"blue\",\"blue\",\"blue\",\"blue\",\"blue\",\"blue\",\"blue\",\"blue\",\"blue\",\"blue\",\"blue\",\"blue\",\"blue\",\"blue\",\"blue\",\"blue\",\"blue\",\"blue\",\"blue\",\"blue\",\"blue\",\"blue\",\"blue\",\"blue\",\"blue\",\"blue\",\"blue\",\"blue\",\"blue\",\"blue\",\"blue\",\"blue\",\"blue\",\"blue\",\"blue\",\"blue\",\"blue\",\"blue\",\"blue\",\"blue\",\"blue\",\"blue\",\"blue\",\"blue\",\"blue\",\"blue\",\"blue\",\"blue\",\"blue\",\"blue\",\"blue\",\"blue\",\"blue\",\"blue\",\"blue\",\"blue\",\"blue\",\"blue\",\"blue\",\"blue\",\"blue\",\"blue\",\"blue\",\"blue\",\"blue\",\"blue\",\"blue\",\"blue\",\"blue\",\"blue\",\"blue\",\"blue\",\"blue\",\"blue\",\"blue\",\"blue\",\"blue\",\"blue\",\"blue\",\"blue\",\"blue\",\"blue\",\"blue\",\"blue\",\"blue\",\"blue\",\"blue\",\"blue\",\"blue\",\"blue\",\"blue\",\"blue\",\"blue\",\"blue\",\"blue\",\"blue\",\"blue\",\"blue\",\"blue\",\"blue\",\"blue\",\"blue\",\"blue\",\"blue\",\"blue\",\"blue\",\"blue\",\"blue\",\"blue\",\"blue\",\"blue\",\"blue\",\"blue\",\"blue\",\"blue\",\"blue\",\"blue\",\"blue\",\"blue\",\"blue\",\"blue\",\"blue\",\"blue\",\"blue\",\"blue\",\"blue\",\"blue\",\"blue\",\"blue\",\"blue\",\"blue\",\"blue\",\"blue\",\"blue\",\"blue\",\"blue\",\"blue\",\"blue\",\"blue\",\"blue\",\"blue\",\"blue\",\"blue\",\"blue\",\"blue\",\"blue\",\"blue\",\"blue\",\"blue\",\"blue\",\"blue\",\"blue\",\"blue\",\"blue\",\"blue\",\"blue\",\"blue\",\"blue\",\"blue\",\"blue\",\"blue\",\"blue\",\"blue\",\"blue\",\"blue\",\"blue\",\"blue\",\"blue\",\"blue\",\"blue\",\"blue\",\"blue\",\"blue\",\"blue\",\"blue\",\"blue\",\"blue\",\"blue\",\"blue\",\"blue\",\"blue\",\"blue\",\"blue\",\"blue\",\"blue\",\"blue\",\"blue\",\"blue\",\"blue\",\"blue\",\"blue\",\"blue\",\"blue\",\"blue\",\"blue\",\"blue\",\"blue\",\"blue\",\"blue\",\"blue\",\"blue\",\"blue\",\"blue\",\"blue\",\"blue\",\"blue\",\"blue\",\"blue\",\"blue\",\"blue\",\"blue\",\"blue\",\"blue\",\"blue\",\"blue\",\"blue\",\"blue\",\"blue\",\"blue\",\"blue\",\"blue\",\"blue\",\"blue\",\"blue\",\"blue\",\"blue\",\"blue\",\"blue\",\"blue\",\"blue\",\"blue\",\"blue\",\"blue\",\"blue\",\"blue\",\"blue\",\"blue\",\"blue\",\"blue\",\"blue\",\"blue\",\"blue\",\"blue\",\"blue\",\"blue\",\"blue\",\"blue\",\"blue\",\"blue\",\"blue\",\"blue\",\"blue\",\"blue\",\"blue\",\"blue\",\"blue\",\"blue\",\"blue\",\"blue\",\"blue\",\"blue\",\"blue\",\"blue\",\"blue\",\"blue\",\"blue\",\"blue\",\"blue\",\"blue\",\"blue\",\"blue\",\"blue\",\"blue\",\"blue\",\"blue\",\"blue\",\"blue\",\"blue\",\"blue\",\"blue\",\"blue\",\"blue\",\"blue\",\"blue\",\"blue\",\"blue\",\"blue\",\"blue\",\"blue\",\"blue\",\"blue\",\"blue\",\"blue\",\"blue\",\"blue\",\"blue\",\"blue\",\"blue\",\"blue\",\"blue\",\"blue\",\"blue\",\"blue\",\"blue\",\"blue\",\"blue\",\"blue\",\"blue\",\"blue\",\"blue\",\"blue\",\"blue\",\"blue\",\"blue\",\"blue\",\"blue\",\"blue\",\"blue\",\"blue\",\"blue\",\"blue\",\"blue\",\"blue\",\"blue\",\"blue\",\"blue\",\"blue\",\"blue\",\"blue\",\"blue\",\"blue\",\"blue\",\"blue\",\"blue\",\"blue\",\"blue\",\"blue\",\"blue\",\"blue\",\"blue\",\"blue\",\"blue\",\"blue\",\"blue\",\"blue\",\"blue\",\"blue\",\"blue\",\"blue\",\"blue\",\"blue\",\"blue\",\"blue\",\"blue\",\"blue\",\"blue\",\"blue\",\"blue\",\"blue\",\"blue\",\"blue\",\"blue\",\"blue\",\"blue\",\"blue\",\"blue\",\"blue\",\"blue\",\"blue\",\"blue\",\"blue\",\"blue\",\"blue\",\"blue\",\"blue\",\"blue\",\"blue\",\"blue\",\"blue\",\"blue\",\"blue\",\"blue\",\"blue\",\"blue\",\"blue\",\"blue\",\"blue\",\"blue\",\"blue\",\"blue\",\"blue\",\"blue\",\"blue\",\"blue\",\"blue\",\"blue\",\"blue\",\"blue\",\"blue\",\"blue\",\"blue\",\"blue\",\"blue\",\"blue\",\"blue\",\"blue\",\"blue\",\"blue\",\"blue\",\"blue\",\"blue\",\"blue\",\"blue\",\"blue\",\"blue\",\"blue\",\"blue\",\"blue\",\"blue\",\"blue\",\"blue\",\"blue\",\"blue\",\"blue\",\"blue\",\"blue\",\"blue\",\"blue\",\"blue\",\"blue\",\"blue\",\"blue\",\"blue\",\"blue\",\"blue\",\"blue\",\"blue\",\"blue\",\"blue\",\"blue\",\"blue\",\"blue\",\"blue\",\"blue\",\"blue\",\"blue\",\"blue\",\"blue\",\"blue\",\"blue\",\"blue\",\"blue\",\"blue\",\"blue\",\"blue\",\"blue\",\"blue\",\"blue\",\"blue\",\"blue\",\"blue\",\"blue\",\"blue\",\"blue\",\"blue\",\"blue\",\"blue\",\"blue\",\"blue\",\"blue\",\"blue\",\"blue\",\"blue\",\"blue\",\"blue\",\"blue\",\"blue\",\"blue\",\"blue\",\"blue\",\"blue\",\"blue\",\"blue\",\"blue\",\"blue\",\"blue\",\"blue\",\"blue\",\"blue\",\"blue\",\"blue\",\"blue\",\"blue\",\"blue\",\"blue\",\"blue\",\"blue\",\"blue\",\"blue\",\"blue\",\"blue\",\"blue\",\"blue\",\"blue\",\"blue\",\"blue\",\"blue\",\"blue\",\"blue\",\"blue\",\"blue\",\"blue\",\"blue\",\"blue\",\"blue\",\"blue\",\"blue\",\"blue\",\"blue\",\"blue\",\"blue\",\"blue\",\"blue\",\"blue\",\"blue\",\"blue\",\"blue\",\"blue\",\"blue\",\"blue\",\"blue\",\"blue\",\"blue\",\"blue\",\"blue\",\"blue\",\"blue\",\"blue\",\"blue\",\"blue\",\"blue\",\"blue\",\"blue\",\"blue\",\"blue\",\"blue\",\"blue\",\"blue\",\"blue\",\"blue\",\"blue\",\"blue\",\"blue\",\"blue\",\"blue\",\"blue\",\"blue\",\"blue\",\"blue\",\"blue\",\"blue\",\"blue\",\"blue\",\"blue\",\"blue\",\"blue\",\"blue\",\"blue\",\"blue\",\"blue\",\"blue\",\"blue\",\"blue\",\"blue\",\"blue\",\"blue\",\"blue\",\"blue\",\"blue\",\"blue\",\"blue\",\"blue\",\"blue\",\"blue\",\"blue\",\"blue\",\"blue\",\"blue\",\"blue\",\"blue\",\"blue\",\"blue\",\"blue\",\"blue\",\"blue\",\"blue\",\"blue\",\"blue\",\"blue\",\"blue\",\"blue\",\"blue\",\"blue\",\"blue\",\"blue\",\"blue\",\"blue\",\"blue\",\"blue\",\"blue\",\"blue\",\"blue\",\"blue\",\"blue\",\"blue\",\"blue\",\"blue\",\"blue\",\"blue\",\"blue\",\"blue\",\"blue\",\"blue\",\"blue\",\"blue\",\"blue\",\"blue\",\"blue\",\"blue\",\"blue\",\"blue\",\"blue\",\"blue\",\"blue\",\"blue\",\"blue\",\"blue\",\"blue\",\"blue\",\"blue\",\"blue\",\"blue\",\"blue\",\"blue\",\"blue\",\"blue\",\"blue\",\"blue\",\"blue\",\"blue\",\"blue\",\"blue\",\"blue\",\"blue\",\"blue\",\"blue\",\"blue\",\"blue\",\"blue\",\"blue\",\"blue\",\"blue\",\"blue\",\"blue\",\"blue\",\"blue\",\"blue\",\"blue\",\"blue\",\"blue\",\"blue\",\"blue\",\"blue\",\"blue\",\"blue\",\"blue\",\"blue\",\"blue\",\"blue\",\"blue\",\"blue\",\"blue\",\"blue\",\"blue\",\"blue\",\"blue\",\"blue\",\"blue\",\"blue\",\"blue\",\"blue\",\"blue\",\"blue\",\"blue\",\"blue\",\"blue\",\"blue\",\"blue\",\"blue\",\"blue\",\"blue\",\"blue\",\"blue\",\"blue\",\"blue\",\"blue\",\"blue\",\"blue\",\"blue\",\"blue\",\"blue\",\"blue\",\"blue\",\"blue\",\"blue\",\"blue\",\"blue\",\"blue\",\"blue\",\"blue\",\"blue\",\"blue\",\"blue\",\"blue\",\"blue\",\"blue\",\"blue\",\"blue\",\"blue\",\"blue\",\"blue\",\"blue\",\"blue\",\"blue\",\"blue\",\"blue\",\"blue\",\"blue\",\"blue\",\"blue\",\"blue\",\"blue\",\"blue\",\"blue\",\"blue\",\"blue\",\"blue\",\"blue\",\"blue\",\"blue\",\"blue\",\"blue\",\"blue\",\"blue\",\"blue\",\"blue\",\"blue\",\"blue\",\"blue\",\"blue\",\"blue\",\"blue\",\"blue\",\"blue\",\"blue\",\"blue\",\"blue\",\"blue\",\"blue\",\"blue\",\"blue\",\"blue\",\"blue\",\"blue\",\"blue\",\"blue\",\"blue\",\"blue\",\"blue\",\"blue\",\"blue\",\"blue\",\"blue\",\"blue\",\"blue\",\"blue\",\"blue\",\"blue\",\"blue\",\"blue\",\"blue\",\"blue\",\"blue\",\"blue\",\"blue\",\"blue\",\"blue\",\"blue\",\"blue\",\"blue\",\"blue\",\"blue\",\"blue\",\"blue\",\"blue\",\"blue\",\"blue\",\"blue\",\"blue\",\"blue\",\"blue\",\"blue\",\"blue\",\"blue\",\"blue\",\"blue\",\"blue\",\"blue\",\"blue\",\"blue\",\"blue\",\"blue\",\"blue\",\"blue\",\"blue\",\"blue\",\"blue\",\"blue\",\"blue\",\"blue\",\"blue\",\"blue\",\"blue\",\"blue\",\"blue\",\"blue\",\"blue\",\"blue\",\"blue\",\"blue\",\"blue\",\"blue\",\"blue\",\"blue\",\"blue\",\"blue\",\"blue\",\"blue\",\"blue\",\"blue\",\"blue\",\"blue\",\"blue\",\"blue\",\"blue\",\"blue\",\"blue\",\"blue\"]],[\"token\",[\"verified\",\"2gb\",\"illinois\",\"jazz\",\"checking\",\"telescope\",\"seasons\",\"astrologer\",\"contribution\",\"homemade\",\"heroes\",\"warcraft\",\"kumar\",\"tester\",\"politically\",\"conquer\",\"columbia\",\"quiet\",\"repeat\",\"kapil\",\"involve\",\"mckinsey\",\"switched\",\"att\",\"instance\",\"innocent\",\"portuguese\",\"subscribers\",\"cabinet\",\"terror\",\"85\",\"rotation\",\"shirts\",\"drawn\",\"bi\",\"aspergers\",\"inspiration\",\"beats\",\"\\u00a3\",\"approximately\",\"asset\",\"empathy\",\"rooting\",\"ia\",\"dandruff\",\"slab\",\"operator\",\"horrible\",\"dominant\",\"ocd\",\"spacetime\",\"blow\",\"installing\",\"learnt\",\"separation\",\"institution\",\"temples\",\"hons\",\"pound\",\"removing\",\"unemployment\",\"greenlit\",\"audit\",\"supplement\",\"roller\",\"dota\",\"tiny\",\"equally\",\"braces\",\"aggressive\",\"corn\",\"camps\",\"additional\",\"consent\",\"granted\",\"welfare\",\"myths\",\"stations\",\"timeline\",\"psychologist\",\"nagpur\",\"herself\",\"cooper\",\"exgirlfriend\",\"intercourse\",\"flip\",\"hurts\",\"lpa\",\"nerve\",\"tvs\",\"halloween\",\"screenshot\",\"biomedical\",\"covered\",\"milky\",\"onsite\",\"aside\",\"meaningful\",\"stretch\",\"joker\",\"encounter\",\"tone\",\"founders\",\"talked\",\"respectively\",\"downloads\",\"cocaine\",\"toxic\",\"sword\",\"fuck\",\"trainer\",\"partition\",\"boxing\",\"grid\",\"practicing\",\"menu\",\"cms\",\"indore\",\"ate\",\"volunteer\",\"misconceptions\",\"pics\",\"flies\",\"instantly\",\"trans\",\"friday\",\"sociopaths\",\"ctc\",\"hoax\",\"detailed\",\"sizes\",\"rejection\",\"limitations\",\"bharat\",\"kissing\",\"renewable\",\"oriented\",\"countrys\",\"dumps\",\"spiders\",\"technological\",\"advertisement\",\"headache\",\"zodiac\",\"accommodation\",\"venus\",\"calcium\",\"passenger\",\"falls\",\"overnight\",\"pickup\",\"gary\",\"transportation\",\"odds\",\"jupiter\",\"purchasing\",\"fluently\",\"flu\",\"photons\",\"conductor\",\"ohio\",\"balaji\",\"mcdonalds\",\"betting\",\"irrational\",\"sachin\",\"deactivate\",\"estimate\",\"hairs\",\"fluent\",\"errors\",\"remaining\",\"marriages\",\"medieval\",\"charles\",\"spider\",\"oxford\",\"gita\",\"races\",\"liquor\",\"poland\",\"lease\",\"co2\",\"selenium\",\"attempts\",\"crystal\",\"manaphy\",\"knight\",\"collapsed\",\"wheels\",\"behaviour\",\"bitcoins\",\"parliament\",\"himher\",\"handsome\",\"thousands\",\"caring\",\"kings\",\"lucky\",\"workplace\",\"condom\",\"intuitive\",\"chronic\",\"eyesight\",\"simulation\",\"prank\",\"quickest\",\"concert\",\"popularity\",\"connections\",\"disorders\",\"scripting\",\"appearance\",\"js\",\"depth\",\"cheque\",\"longterm\",\"documentaries\",\"dioxide\",\"bright\",\"info\",\"diseases\",\"appeal\",\"snap\",\"smoked\",\"singers\",\"boil\",\"probably\",\"temperatures\",\"appearing\",\"olive\",\"ntse\",\"telecom\",\"brief\",\"discrimination\",\"ethnic\",\"cache\",\"passionate\",\"shoulder\",\"assault\",\"marshmallow\",\"momentum\",\"yr\",\"migrate\",\"retire\",\"cet\",\"canvas\",\"vietnamese\",\"institutions\",\"meter\",\"roots\",\"integer\",\"imported\",\"ants\",\"lyft\",\"piercing\",\"il\",\"poop\",\"organisms\",\"ve\",\"entropy\",\"calm\",\"saddest\",\"toward\",\"myth\",\"sight\",\"filling\",\"hdmi\",\"satisfied\",\"transactions\",\"pharmacy\",\"nursing\",\"correlation\",\"regression\",\"awake\",\"md\",\"nri\",\"recommendations\",\"bin\",\"finland\",\"multi\",\"voted\",\"discovery\",\"edward\",\"touching\",\"immigrant\",\"geometry\",\"indicate\",\"ourselves\",\"texting\",\"seek\",\"expecting\",\"dj\",\"brake\",\"helicopter\",\"blonde\",\"triple\",\"ladies\",\"vivekananda\",\"switching\",\"prostitution\",\"banana\",\"magazines\",\"shippuden\",\"lucknow\",\"2019\",\"failing\",\"elizabeth\",\"irish\",\"ebook\",\"temporary\",\"governor\",\"wasting\",\"weekends\",\"cpt\",\"wax\",\"labor\",\"instruments\",\"instrumentation\",\"hates\",\"hip\",\"arnab\",\"bubble\",\"employers\",\"aadhaar\",\"boyfriends\",\"jake\",\"explained\",\"yesterday\",\"beta\",\"extrovert\",\"andhra\",\"micromax\",\"vertical\",\"lay\",\"nonprofit\",\"dubbed\",\"typing\",\"automotive\",\"thomas\",\"procedures\",\"priority\",\"funded\",\"arabs\",\"siblings\",\"guinea\",\"missile\",\"luck\",\"strategic\",\"defend\",\"module\",\"tuition\",\"acids\",\"controller\",\"committee\",\"housing\",\"integral\",\"peaceful\",\"refugees\",\"prescription\",\"interns\",\"supported\",\"womans\",\"dentist\",\"wives\",\"village\",\"affecting\",\"lte\",\"beaches\",\"austin\",\"substance\",\"engagement\",\"trainee\",\"measures\",\"trailer\",\"purchased\",\"15000\",\"uttar\",\"glue\",\"dtu\",\"medal\",\"photon\",\"engg\",\"violin\",\"column\",\"somehow\",\"rotate\",\"3000\",\"virat\",\"forgotten\",\"fingers\",\"slim\",\"arrest\",\"covalent\",\"ncert\",\"kernel\",\"da\",\"alarm\",\"ngo\",\"4gb\",\"productivity\",\"planned\",\"district\",\"berlin\",\"lists\",\"leads\",\"slang\",\"defence\",\"aspiring\",\"56\",\"enemy\",\"farming\",\"muller\",\"pays\",\"liver\",\"membrane\",\"secretly\",\"plug\",\"gum\",\"eclipse\",\"chewing\",\"labs\",\"zombie\",\"authority\",\"males\",\"argentina\",\"tasks\",\"fell\",\"nails\",\"palestine\",\"tanks\",\"identical\",\"deck\",\"qualification\",\"leadership\",\"kohli\",\"pronunciation\",\"hello\",\"violent\",\"sabha\",\"respiration\",\"transform\",\"warranty\",\"faculty\",\"adolf\",\"expenses\",\"jersey\",\"mercury\",\"whiskey\",\"tackle\",\"tweet\",\"blame\",\"cruise\",\"mahindra\",\"discharge\",\"reduced\",\"vodka\",\"mahatma\",\"bass\",\"compete\",\"stains\",\"pill\",\"swim\",\"ali\",\"gf\",\"ford\",\"prince\",\"sweat\",\"performing\",\"limits\",\"leonardo\",\"cow\",\"resolve\",\"matters\",\"pharmaceutical\",\"ray\",\"remotely\",\"pf\",\"clinical\",\"bpo\",\"homeless\",\"husbands\",\"rising\",\"newtons\",\"outcome\",\"derivative\",\"alpha\",\"grown\",\"capitalism\",\"astronaut\",\"hybrid\",\"palm\",\"teens\",\"hits\",\"airplanes\",\"none\",\"admin\",\"applicable\",\"amcat\",\"spam\",\"neutrality\",\"pixel\",\"festival\",\"faces\",\"molar\",\"snakes\",\"sip\",\"kik\",\"farm\",\"ltd\",\"votes\",\"publishing\",\"comfort\",\"frontend\",\"spin\",\"diagnosed\",\"buildings\",\"\\u00b0\",\"cashless\",\"addictive\",\"extinct\",\"ugc\",\"coke\",\"llb\",\"phrases\",\"struggle\",\"drives\",\"fiber\",\"grocery\",\"achieved\",\"penny\",\"bath\",\"allies\",\"uninstall\",\"ny\",\"appears\",\"effort\",\"satellites\",\"confirmed\",\"loneliness\",\"illuminati\",\"uri\",\"lucid\",\"preferably\",\"neither\",\"\\u221a\",\"pacific\",\"americas\",\"bs\",\"graduated\",\"bills\",\"tube\",\"germans\",\"assume\",\"cleared\",\"mate\",\"divide\",\"versions\",\"fallen\",\"journey\",\"anthem\",\"certificates\",\"looked\",\"sponsor\",\"useless\",\"dependent\",\"invite\",\"guru\",\"keyword\",\"aipmt\",\"clone\",\"kgs\",\"chip\",\"origins\",\"wide\",\"motivational\",\"elite\",\"wanna\",\"unity\",\"cough\",\"connecting\",\"mystery\",\"kim\",\"syrian\",\"voldemort\",\"responsibilities\",\"molecules\",\"boobs\",\"holidays\",\"tutorial\",\"circumstances\",\"fiitjee\",\"islands\",\"bypass\",\"slowly\",\"mixture\",\"aluminum\",\"salesforce\",\"twin\",\"iot\",\"remedy\",\"sheets\",\"pole\",\"hated\",\"females\",\"protected\",\"irs\",\"insecure\",\"entering\",\"neuroscience\",\"offices\",\"delta\",\"suggestion\",\"snapdeal\",\"backstory\",\"periodic\",\"cancelled\",\"mans\",\"complicated\",\"bitsat\",\"pleasure\",\"loop\",\"dropbox\",\"selfish\",\"nude\",\"20000\",\"voter\",\"variables\",\"victory\",\"closest\",\"compensation\",\"extended\",\"locations\",\"cracked\",\"perks\",\"ended\",\"exit\",\"awareness\",\"pakistanis\",\"ebooks\",\"bull\",\"unblock\",\"100000\",\"entrepreneurship\",\"infrastructure\",\"scotland\",\"guest\",\"attacked\",\"hurting\",\"lion\",\"reject\",\"purposes\",\"knife\",\"thai\",\"ipl\",\"knee\",\"accepting\",\"spent\",\"punjabi\",\"tab\",\"quoras\",\"caffeine\",\"athletes\",\"ink\",\"cooked\",\"improving\",\"invaded\",\"allah\",\"thermodynamics\",\"mortgage\",\"firsttime\",\"achievements\",\"issued\",\"breath\",\"award\",\"llc\",\"legends\",\"mood\",\"influenced\",\"proteins\",\"holy\",\"performed\",\"pee\",\"blocks\",\"molecule\",\"interests\",\"imei\",\"requires\",\"cisco\",\"moves\",\"marrying\",\"mca\",\"perfectly\",\"iisc\",\"corporation\",\"shiva\",\"viruses\",\"difficulty\",\"50000\",\"volte\",\"shampoo\",\"secular\",\"transplant\",\"ghz\",\"ahead\",\"crew\",\"interact\",\"depend\",\"hawaii\",\"hiv\",\"evening\",\"vegetable\",\"revenge\",\"suppose\",\"busy\",\"label\",\"rogue\",\"rational\",\"hillstation\",\"brains\",\"urdu\",\"imagine\",\"salaries\",\"survey\",\"g4\",\"butt\",\"manufacturers\",\"saas\",\"residency\",\"recommendation\",\"purple\",\"fault\",\"aadhar\",\"aging\",\"bhopal\",\"conducted\",\"loses\",\"infection\",\"forest\",\"impacts\",\"collection\",\"fridge\",\"diamond\",\"mis\",\"recorded\",\"march\",\"conditioner\",\"signature\",\"listed\",\"branches\",\"manchester\",\"wanting\",\"perception\",\"absolutely\",\"servers\",\"soluble\",\"swami\",\"lumia\",\"directors\",\"52\",\"2008\",\"gaining\",\"stereotypes\",\"homes\",\"vegas\",\"jam\",\"behave\",\"relatively\",\"forum\",\"ib\",\"earphones\",\"facilities\",\"april\",\"finally\",\"tail\",\"capacitor\",\"tiger\",\"deaf\",\"deliver\",\"django\",\"expand\",\"skip\",\"nearly\",\"maybe\",\"task\",\"gateway\",\"strangest\",\"abstract\",\"adding\",\"suck\",\"tim\",\"printed\",\"sigma\",\"immigrate\",\"decline\",\"arrested\",\"95\",\"narcissistic\",\"freelancing\",\"patterns\",\"expired\",\"casual\",\"tablets\",\"patients\",\"lean\",\"pieces\",\"laymans\",\"whatever\",\"polish\",\"lemon\",\"abortion\",\"i3\",\"theorem\",\"h\",\"compulsory\",\"helped\",\"sons\",\"feminism\",\"compiler\",\"tested\",\"enhance\",\"adhd\",\"manhattan\",\"iii\",\"nail\",\"eee\",\"deals\",\"excellent\",\"ipo\",\"folder\",\"sand\",\"continuous\",\"capable\",\"libraries\",\"aggregate\",\"64\",\"bsnl\",\"profiles\",\"spirit\",\"pulled\",\"owns\",\"deloitte\",\"therapist\",\"acts\",\"millions\",\"authors\",\"marathi\",\"dvd\",\"coconut\",\"swiss\",\"interaction\",\"ncr\",\"kannada\",\"smallest\",\"advisable\",\"smartest\",\"sorry\",\"normally\",\"ends\",\"rome\",\"spectrum\",\"cousin\",\"75\",\"suzuki\",\"nights\",\"cap\",\"enable\",\"counselling\",\"proxy\",\"margin\",\"shops\",\"hackers\",\"tatkal\",\"opened\",\"cinema\",\"consumption\",\"coal\",\"silent\",\"choosing\",\"introduction\",\"electromagnetic\",\"hcl\",\"complaint\",\"puppies\",\"vc\",\"symbols\",\"lenses\",\"username\",\"arrow\",\"adopted\",\"affects\",\"sudden\",\"pcm\",\"gel\",\"affair\",\"pinterest\",\"statements\",\"supplements\",\"justified\",\"turns\",\"santa\",\"shoe\",\"trek\",\"headphone\",\"girlfriends\",\"verizon\",\"rocket\",\"conference\",\"ego\",\"srm\",\"afghanistan\",\"nucleus\",\"generated\",\"chinas\",\"ww1\",\"consultancy\",\"socially\",\"allen\",\"berkeley\",\"missed\",\"crying\",\"introduced\",\"ps3\",\"flour\",\"brought\",\"elder\",\"minecraft\",\"9th\",\"freelancer\",\"circles\",\"scars\",\"entertainment\",\"turbine\",\"deeply\",\"rom\",\"evolved\",\"nato\",\"strengths\",\"ide\",\"tweets\",\"scholarships\",\"mentor\",\"collect\",\"hdfc\",\"mandarin\",\"solo\",\"terrible\",\"influential\",\"professionals\",\"65\",\"recognition\",\"nvidia\",\"cia\",\"designs\",\"10k\",\"creation\",\"tom\",\"rated\",\"introverts\",\"boiling\",\"communism\",\"treaty\",\"whereas\",\"thanks\",\"cigarette\",\"bengaluru\",\"oneplus\",\"reserve\",\"advertise\",\"nits\",\"helping\",\"bruce\",\"mp3\",\"severe\",\"proposal\",\"cultures\",\"tap\",\"animated\",\"planes\",\"hall\",\"cognitive\",\"supports\",\"keys\",\"gotten\",\"feedback\",\"recording\",\"proceed\",\"membership\",\"console\",\"overseas\",\"hows\",\"william\",\"billionaires\",\"updated\",\"pre\",\"organizations\",\"messi\",\"unexpected\",\"nitrogen\",\"hungry\",\"nigeria\",\"sync\",\"arduino\",\"gross\",\"outer\",\"searching\",\"workers\",\"outlook\",\"europeans\",\"founder\",\"lectures\",\"legitimate\",\"camp\",\"ordinary\",\"investments\",\"bone\",\"raising\",\"quite\",\"ages\",\"joint\",\"johnson\",\"destination\",\"concerned\",\"belief\",\"refrigerator\",\"implications\",\"manga\",\"mandatory\",\"obamas\",\"lawyers\",\"bedroom\",\"icon\",\"qualifications\",\"qa\",\"bikes\",\"boston\",\"holding\",\"session\",\"appointment\",\"weaknesses\",\"iphones\",\"motorcycle\",\"schizophrenia\",\"5th\",\"intellectual\",\"eaten\",\"attending\",\"medals\",\"adsense\",\"nda\",\"6th\",\"kali\",\"georgia\",\"wechat\",\"earlier\",\"drone\",\"truck\",\"horse\",\"merchant\",\"torque\",\"seed\",\"backend\",\"holmes\",\"graduating\",\"400\",\"bones\",\"sufficient\",\"participate\",\"rifle\",\"shock\",\"downloaded\",\"earthquake\",\"breasts\",\"secretary\",\"insert\",\"damaged\",\"massive\",\"standing\",\"remainder\",\"programme\",\"holocaust\",\"totally\",\"belt\",\"affairs\",\"nokia\",\"mechanism\",\"pin\",\"scan\",\"fought\",\"superpower\",\"poetry\",\"signals\",\"educated\",\"scariest\",\"trains\",\"closer\",\"weapon\",\"icici\",\"serial\",\"bicycle\",\"terminal\",\"finished\",\"stolen\",\"inspiring\",\"cuisine\",\"spark\",\"sounds\",\"pricing\",\"click\",\"underwear\",\"kidney\",\"bengal\",\"invention\",\"discount\",\"chase\",\"evaluate\",\"distributed\",\"themes\",\"amd\",\"stem\",\"st\",\"genre\",\"vegetables\",\"council\",\"bihar\",\"thick\",\"mouse\",\"worry\",\"newly\",\"updates\",\"candy\",\"prepaid\",\"wet\",\"rap\",\"motors\",\"implemented\",\"theoretical\",\"fabric\",\"mexican\",\"portfolio\",\"technique\",\"icse\",\"expansion\",\"evolutionary\",\"justify\",\"trick\",\"attached\",\"lightning\",\"pitch\",\"armed\",\"einstein\",\"conversion\",\"iitjee\",\"declared\",\"admit\",\"acquisition\",\"innovation\",\"runs\",\"wwe\",\"trial\",\"memories\",\"refuse\",\"netherlands\",\"committed\",\"fraud\",\"jailbreak\",\"settle\",\"badly\",\"approved\",\"eligibility\",\"trend\",\"increases\",\"comic\",\"quorans\",\"cellular\",\"matches\",\"receiving\",\"bmw\",\"vlsi\",\"signed\",\"lakes\",\"350\",\"communications\",\"pork\",\"joined\",\"anyway\",\"differentiate\",\"actresses\",\"29\",\"ethics\",\"premier\",\"hearing\",\"vehicles\",\"drama\",\"instant\",\"lips\",\"dates\",\"july\",\"holiday\",\"coach\",\"malayalam\",\"superior\",\"soviet\",\"plate\",\"throw\",\"worship\",\"bars\",\"sharma\",\"mothers\",\"integrated\",\"clubs\",\"bug\",\"melbourne\",\"co\",\"bisexual\",\"regions\",\"lesson\",\"heads\",\"reader\",\"snake\",\"qualify\",\"paul\",\"causing\",\"disappear\",\"era\",\"lets\",\"qualified\",\"spiritual\",\"wolf\",\"requirement\",\"journalism\",\"studied\",\"lowest\",\"vader\",\"coursera\",\"stark\",\"configuration\",\"verbal\",\"undergrad\",\"dimensions\",\"transition\",\"efficiently\",\"interstellar\",\"locked\",\"summary\",\"chandigarh\",\"ghosts\",\"included\",\"operate\",\"dimension\",\"mount\",\"noticed\",\"rating\",\"somewhere\",\"martin\",\"bra\",\"bird\",\"zuckerberg\",\"sensor\",\"audience\",\"dirty\",\"starbucks\",\"permission\",\"residential\",\"wholesale\",\"assets\",\"clearly\",\"km\",\"invade\",\"ipcc\",\"fb\",\"shell\",\"shave\",\"loud\",\"tip\",\"seeds\",\"sets\",\"polar\",\"although\",\"june\",\"judaism\",\"anti\",\"instrument\",\"seven\",\"shooting\",\"j\",\"portal\",\"tower\",\"github\",\"linked\",\"admitted\",\"punishment\",\"mid\",\"micro\",\"cured\",\"lifestyle\",\"nor\",\"upset\",\"challenge\",\"soap\",\"standards\",\"integration\",\"lottery\",\"lab\",\"williams\",\"odd\",\"soil\",\"sensitive\",\"route\",\"tattoos\",\"coin\",\"declare\",\"frame\",\"differential\",\"bowl\",\"softwares\",\"notifications\",\"maintenance\",\"inner\",\"apples\",\"converted\",\"recruiter\",\"bombay\",\"command\",\"posting\",\"controlled\",\"balls\",\"personally\",\"poker\",\"extract\",\"hired\",\"bugs\",\"providers\",\"loans\",\"calculator\",\"attractions\",\"torrents\",\"keywords\",\"profession\",\"blogging\",\"transport\",\"sue\",\"anonymously\",\"compounds\",\"robot\",\"buddhism\",\"sweet\",\"defense\",\"nobody\",\"uc\",\"defined\",\"division\",\"bags\",\"epic\",\"unhealthy\",\"craziest\",\"urban\",\"combination\",\"pair\",\"laugh\",\"cv\",\"usd\",\"launched\",\"usps\",\"visited\",\"nexus\",\"regularly\",\"brothers\",\"broker\",\"concentrate\",\"agreement\",\"nervous\",\"frozen\",\"detail\",\"sir\",\"situations\",\"borderline\",\"angularjs\",\"abusive\",\"tourism\",\"relate\",\"august\",\"communist\",\"accountant\",\"dumb\",\"arab\",\"b2b\",\"du\",\"thermal\",\"asians\",\"threat\",\"karma\",\"passive\",\"homosexuality\",\"putting\",\"quantitative\",\"relativity\",\"sanskrit\",\"opinions\",\"verify\",\"bear\",\"roll\",\"expanding\",\"teenage\",\"jeans\",\"providing\",\"shared\",\"extreme\",\"mi\",\"vr\",\"progress\",\"greece\",\"cpu\",\"ips\",\"merge\",\"reputation\",\"loving\",\"salman\",\"iss\",\"warm\",\"dental\",\"extension\",\"attraction\",\"fictional\",\"journal\",\"login\",\"secondary\",\"recognize\",\"southern\",\"ph\",\"lunch\",\"wallet\",\"ronaldo\",\"larger\",\"actions\",\"fathers\",\"adopt\",\"claims\",\"bottom\",\"therapy\",\"patient\",\"described\",\"virginity\",\"functional\",\"ionic\",\"chartered\",\"discover\",\"55\",\"21st\",\"biased\",\"mad\",\"northern\",\"onto\",\"liberals\",\"premium\",\"neutral\",\"detect\",\"diagram\",\"sperm\",\"ga\",\"bleach\",\"spread\",\"contributions\",\"activate\",\"prior\",\"safest\",\"holder\",\"360\",\"aim\",\"rental\",\"families\",\"everybody\",\"shut\",\"payments\",\"150\",\"cube\",\"vegan\",\"newspaper\",\"beef\",\"houses\",\"preferred\",\"simultaneously\",\"marked\",\"reactions\",\"emergency\",\"protection\",\"cab\",\"forex\",\"norway\",\"immigrants\",\"googles\",\"ssb\",\"wing\",\"yrs\",\"ensure\",\"spy\",\"reasoning\",\"strange\",\"forgive\",\"turkish\",\"tag\",\"ranking\",\"platforms\",\"fox\",\"existed\",\"walmart\",\"lazy\",\"ears\",\"clock\",\"beam\",\"rare\",\"bush\",\"2011\",\"stops\",\"batteries\",\"certified\",\"naked\",\"worldwide\",\"staying\",\"lifetime\",\"ted\",\"lake\",\"wealthy\",\"transit\",\"stephen\",\"rural\",\"versa\",\"pets\",\"commonly\",\"adults\",\"ultimate\",\"genius\",\"vinegar\",\"allows\",\"aid\",\"retirement\",\"airtel\",\"sciences\",\"mountain\",\"drinks\",\"tour\",\"wind\",\"seattle\",\"disabled\",\"bodies\",\"lesbian\",\"governments\",\"kinetic\",\"tumblr\",\"absolute\",\"author\",\"toilet\",\"whey\",\"sleepy\",\"molecular\",\"watches\",\"inventions\",\"rain\",\"34\",\"angular\",\"o\",\"dish\",\"however\",\"agents\",\"abs\",\"switzerland\",\"transformer\",\"clearing\",\"consciousness\",\"broadband\",\"uae\",\"automatic\",\"opposed\",\"geography\",\"astronauts\",\"decisions\",\"cement\",\"induction\",\"luxury\",\"upvotes\",\"politicians\",\"posted\",\"toefl\",\"kitchen\",\"noise\",\"radius\",\"dye\",\"miles\",\"risks\",\"scientifically\",\"mnc\",\"propose\",\"prepared\",\"iiit\",\"mention\",\"equipment\",\"darth\",\"january\",\"surname\",\"raised\",\"attitude\",\"gta\",\"david\",\"hike\",\"awkward\",\"proven\",\"productive\",\"lg\",\"filled\",\"atmosphere\",\"lee\",\"irctc\",\"addicted\",\"dynamic\",\"employment\",\"weekend\",\"replacement\",\"singing\",\"owners\",\"bipolar\",\"tomorrow\",\"poems\",\"default\",\"kvpy\",\"sauce\",\"competitors\",\"russians\",\"sample\",\"crimes\",\"hang\",\"inspired\",\"furniture\",\"throughout\",\"presence\",\"efficiency\",\"leg\",\"biological\",\"pilani\",\"conversations\",\"inspirational\",\"bachelor\",\"centers\",\"withdraw\",\"fundamental\",\"comparison\",\"november\",\"fifa\",\"penalty\",\"algebra\",\"joke\",\"htc\",\"pilots\",\"collapse\",\"texts\",\"vocabulary\",\"moved\",\"sc\",\"smile\",\"october\",\"dot\",\"genetic\",\"architect\",\"url\",\"51\",\"sore\",\"uniform\",\"re\",\"rails\",\"smaller\",\"marine\",\"terrorists\",\"nazi\",\"breast\",\"politician\",\"subtitles\",\"chosen\",\"egypt\",\"thin\",\"packages\",\"editor\",\"bands\",\"mythology\",\"reasonable\",\"permit\",\"acceptable\",\"seriously\",\"iraq\",\"fever\",\"visitor\",\"honest\",\"friction\",\"offering\",\"smarter\",\"ahmedabad\",\"replaced\",\"resolution\",\"burning\",\"bridge\",\"catholic\",\"calendar\",\"resident\",\"policies\",\"forced\",\"leading\",\"arm\",\"deserve\",\"context\",\"coolest\",\"arranged\",\"arizona\",\"comics\",\"harm\",\"democrats\",\"jail\",\"breed\",\"anywhere\",\"psu\",\"christ\",\"violence\",\"agriculture\",\"objective\",\"moments\",\"infinity\",\"supporting\",\"critical\",\"trees\",\"beyond\",\"bag\",\"vitamin\",\"assembly\",\"solved\",\"array\",\"perspective\",\"pas\",\"wwii\",\"skinny\",\"contains\",\"lift\",\"cleaning\",\"peter\",\"aap\",\"pimples\",\"initial\",\"lesserknown\",\"sights\",\"principles\",\"realize\",\"millionaire\",\"faux\",\"orbit\",\"desire\",\"hi\",\"prophet\",\"suits\",\"careers\",\"thinks\",\"quantity\",\"spots\",\"wage\",\"asleep\",\"sociology\",\"guard\",\"units\",\"structural\",\"operation\",\"pants\",\"w\",\"bulk\",\"possibly\",\"drunk\",\"fired\",\"accident\",\"inch\",\"bottle\",\"aerospace\",\"narcissist\",\"ux\",\"angeles\",\"wood\",\"index\",\"safely\",\"robotics\",\"edition\",\"metals\",\"practices\",\"scheme\",\"interior\",\"diabetes\",\"nobel\",\"youth\",\"lived\",\"september\",\"chief\",\"proposed\",\"assuming\",\"sin\",\"counter\",\"disable\",\"introduce\",\"restore\",\"swimming\",\"intern\",\"answering\",\"mentioned\",\"crash\",\"laser\",\"teenagers\",\"presentation\",\"quran\",\"classified\",\"demonetisation\",\"communicate\",\"cotton\",\"autism\",\"anger\",\"environmental\",\"stable\",\"7th\",\"bread\",\"invited\",\"wisdom\",\"wrote\",\"widely\",\"minor\",\"formal\",\"dreaming\",\"managers\",\"escape\",\"pollution\",\"taiwan\",\"verification\",\"los\",\"figures\",\"26\",\"illness\",\"sides\",\"compatible\",\"pack\",\"conspiracy\",\"hedge\",\"flights\",\"dropped\",\"former\",\"suffer\",\"aware\",\"designers\",\"mahabharata\",\"evolve\",\"weigh\",\"dies\",\"fruits\",\"cc\",\"butter\",\"sharing\",\"atoms\",\"tongue\",\"transaction\",\"poverty\",\"suffering\",\"presidents\",\"resistance\",\"adam\",\"civilization\",\"mining\",\"toronto\",\"stick\",\"increased\",\"wild\",\"freelance\",\"removal\",\"aws\",\"rio\",\"principle\",\"asus\",\"cute\",\"consumer\",\"pool\",\"variable\",\"tutorials\",\"advance\",\"keeping\",\"visible\",\"cognizant\",\"equations\",\"rooms\",\"krishna\",\"printer\",\"tooth\",\"mentally\",\"realistic\",\"automobile\",\"cake\",\"tie\",\"beach\",\"ghost\",\"comfortable\",\"mysql\",\"oral\",\"closed\",\"helps\",\"maharashtra\",\"admissions\",\"i5\",\"partners\",\"axis\",\"beliefs\",\"neck\",\"clans\",\"hidden\",\"cyber\",\"voting\",\"bacteria\",\"layer\",\"chhattisgarh\",\"5000\",\"sitting\",\"murder\",\"argument\",\"f\",\"privacy\",\"syndrome\",\"2010\",\"bite\",\"vacation\",\"isro\",\"trouble\",\"records\",\"answered\",\"digit\",\"defeat\",\"childhood\",\"5s\",\"gates\",\"f1\",\"town\",\"anal\",\"copper\",\"talks\",\"affiliate\",\"sociopath\",\"installed\",\"static\",\"copyright\",\"animation\",\"donate\",\"stranger\",\"bcom\",\"destroyed\",\"gujarat\",\"foundation\",\"prize\",\"components\",\"foreigner\",\"arms\",\"unlimited\",\"needing\",\"settings\",\"item\",\"eve\",\"competition\",\"landing\",\"beard\",\"patent\",\"ending\",\"2020\",\"incident\",\"petroleum\",\"florida\",\"particularly\",\"ups\",\"generator\",\"leather\",\"heal\",\"experiment\",\"28\",\"passing\",\"talent\",\"remote\",\"300\",\"published\",\"impossible\",\"steam\",\"80\",\"washing\",\"guilty\",\"punjab\",\"70\",\"album\",\"bullet\",\"paris\",\"interface\",\"agencies\",\"mission\",\"digits\",\"modis\",\"recruitment\",\"manipal\",\"telling\",\"meal\",\"orange\",\"stone\",\"links\",\"ab\",\"upper\",\"cameras\",\"p\",\"combat\",\"passion\",\"shower\",\"thailand\",\"beings\",\"grad\",\"27\",\"finger\",\"jump\",\"lights\",\"ui\",\"bba\",\"sweden\",\"arrive\",\"4th\",\"amendment\",\"window\",\"satellite\",\"al\",\"matlab\",\"jokes\",\"muhammad\",\"expression\",\"booking\",\"dinner\",\"skype\",\"lots\",\"2018\",\"teen\",\"finish\",\"dslr\",\"mens\",\"proud\",\"entrepreneurs\",\"ukraine\",\"coins\",\"scenario\",\"transmission\",\"ignore\",\"pride\",\"contribute\",\"grand\",\"curve\",\"false\",\"operations\",\"breakup\",\"eventually\",\"acquire\",\"commission\",\"lies\",\"spoken\",\"pills\",\"masturbating\",\"jackson\",\"airbnb\",\"delivered\",\"disk\",\"radiation\",\"plays\",\"marvel\",\"particle\",\"breakfast\",\"smartphones\",\"relevant\",\"quota\",\"refund\",\"inches\",\"telugu\",\"angel\",\"eastern\",\"inflation\",\"predict\",\"annoying\",\"obc\",\"tough\",\"conduct\",\"originate\",\"notification\",\"backup\",\"harder\",\"richest\",\"pronounce\",\"sri\",\"wheel\",\"wasnt\",\"oldest\",\"sheet\",\"soda\",\"20s\",\"wipro\",\"awesome\",\"facial\",\"z\",\"noida\",\"confident\",\"fbi\",\"corrupt\",\"succeed\",\"reddit\",\"associate\",\"input\",\"guns\",\"rahul\",\"baking\",\"description\",\"musical\",\"apache\",\"nowadays\",\"fluid\",\"capacity\",\"loose\",\"freshman\",\"cfa\",\"optional\",\"theres\",\"ps4\",\"trends\",\"jon\",\"richard\",\"legit\",\"nodejs\",\"document\",\"sexually\",\"particles\",\"singer\",\"printing\",\"captain\",\"valuable\",\"several\",\"aiims\",\"boot\",\"sit\",\"zone\",\"billionaire\",\"floor\",\"gravitational\",\"export\",\"motivation\",\"golden\",\"transgender\",\"healthcare\",\"heaven\",\"81\",\"leaves\",\"listening\",\"overall\",\"press\",\"dishes\",\"railways\",\"warming\",\"enfield\",\"extent\",\"acceleration\",\"afford\",\"bonds\",\"border\",\"registration\",\"cast\",\"hope\",\"shipping\",\"karnataka\",\"specifically\",\"opportunity\",\"arabia\",\"pump\",\"pg\",\"carrier\",\"plot\",\"kingdom\",\"contract\",\"painful\",\"kindle\",\"boring\",\"essential\",\"disney\",\"charger\",\"seconds\",\"measured\",\"honda\",\"ba\",\"makeup\",\"\\u2013\",\"mini\",\"annual\",\"traits\",\"retrieve\",\"willing\",\"swift\",\"consume\",\"hindus\",\"psychopath\",\"tells\",\"solving\",\"conditions\",\"artists\",\"spotify\",\"bomb\",\"integrate\",\"stuck\",\"nikon\",\"gadgets\",\"womens\",\"judge\",\"republicans\",\"vacuum\",\"felt\",\"putin\",\"tennis\",\"concentration\",\"fans\",\"constantly\",\"matrix\",\"secrets\",\"spot\",\"soft\",\"stored\",\"neural\",\"submit\",\"scores\",\"ola\",\"wire\",\"gdp\",\"jaipur\",\"typically\",\"airline\",\"roles\",\"cheaper\",\"machines\",\"shift\",\"impress\",\"basics\",\"32\",\"conservative\",\"birds\",\"tend\",\"duty\",\"setup\",\"rude\",\"pink\",\"church\",\"mine\",\"jack\",\"sending\",\"cooking\",\"versus\",\"expert\",\"olympic\",\"biotechnology\",\"gurgaon\",\"worked\",\"codes\",\"successfully\",\"hardware\",\"faith\",\"pr\",\"television\",\"compound\",\"vit\",\"universal\",\"thank\",\"grammatically\",\"chicago\",\"ivy\",\"worried\",\"enterprise\",\"sodium\",\"railway\",\"remedies\",\"racism\",\"tracking\",\"psychological\",\"apartment\",\"magazine\",\"martial\",\"beauty\",\"waiting\",\"attacks\",\"horror\",\"fantasy\",\"ma\",\"select\",\"increasing\",\"metro\",\"opt\",\"map\",\"watched\",\"gear\",\"icloud\",\"james\",\"comedy\",\"lollipop\",\"ireland\",\"upcoming\",\"italian\",\"oven\",\"emotionally\",\"decided\",\"lakh\",\"grey\",\"kept\",\"produced\",\"mouth\",\"manual\",\"dhoni\",\"fill\",\"throat\",\"shoot\",\"liked\",\"innovative\",\"immediately\",\"lonely\",\"fighting\",\"max\",\"accidentally\",\"schedule\",\"orgasm\",\"rape\",\"ride\",\"muscles\",\"graduates\",\"taller\",\"boost\",\"lakhs\",\"microwave\",\"electrons\",\"upon\",\"attract\",\"ap\",\"abuse\",\"earths\",\"forever\",\"underrated\",\"facing\",\"terrorist\",\"alien\",\"celebrity\",\"frequently\",\"vpn\",\"wales\",\"powder\",\"superman\",\"mixed\",\"caught\",\"goods\",\"beginning\",\"starts\",\"atomic\",\"associated\",\"triangle\",\"parties\",\"banning\",\"k\",\"honey\",\"monitor\",\"graph\",\"leaders\",\"embedded\",\"juice\",\"split\",\"lady\",\"sequence\",\"911\",\"harassment\",\"nepal\",\"pop\",\"habit\",\"setting\",\"edge\",\"ww2\",\"gps\",\"federal\",\"charged\",\"lying\",\"empty\",\"whenever\",\"airplane\",\"jet\",\"destroy\",\"ies\",\"wouldnt\",\"quick\",\"decrease\",\"robert\",\"pradesh\",\"professors\",\"massage\",\"held\",\"spending\",\"markets\",\"objects\",\"chart\",\"mechanics\",\"silver\",\"usage\",\"basketball\",\"gen\",\"periods\",\"identity\",\"individuals\",\"css\",\"soul\",\"ipod\",\"chest\",\"understanding\",\"coast\",\"classic\",\"spain\",\"babies\",\"sd\",\"hostel\",\"shirt\",\"further\",\"logical\",\"franchise\",\"obtain\",\"foreigners\",\"fully\",\"region\",\"designed\",\"cheated\",\"beneficial\",\"shes\",\"accent\",\"couldnt\",\"queen\",\"sick\",\"blowing\",\"properly\",\"stronger\",\"returns\",\"condition\",\"musk\",\"ugly\",\"teams\",\"filter\",\"snow\",\"glasses\",\"employer\",\"solid\",\"followed\",\"embarrassing\",\"auto\",\"meeting\",\"belong\",\"strike\",\"internships\",\"bachelors\",\"administration\",\"temple\",\"wealth\",\"retail\",\"speakers\",\"electoral\",\"headphones\",\"streaming\",\"mirror\",\"diesel\",\"republic\",\"antivirus\",\"customers\",\"atm\",\"vagina\",\"cigarettes\",\"aptitude\",\"lewis\",\"saudi\",\"puppy\",\"recovery\",\"jimmy\",\"obsessed\",\"domestic\",\"pen\",\"batch\",\"de\",\"drawing\",\"ai\",\"medium\",\"simply\",\"photoshop\",\"sms\",\"turning\",\"nadu\",\"appropriate\",\"adobe\",\"substitute\",\"fruit\",\"recipes\",\"fighter\",\"saving\",\"greater\",\"cheat\",\"routine\",\"push\",\"sherlock\",\"arguments\",\"sony\",\"import\",\"soldiers\",\"charges\",\"emotions\",\"ibm\",\"un\",\"innovations\",\"itunes\",\"consultant\",\"iims\",\"relations\",\"psychopaths\",\"existing\",\"angle\",\"clash\",\"bus\",\"australian\",\"crazy\",\"pull\",\"theories\",\"savings\",\"suit\",\"contrast\",\"calculus\",\"pi\",\"credits\",\"bluetooth\",\"himself\",\"traveling\",\"criminal\",\"xiaomi\",\"zealand\",\"seats\",\"electron\",\"script\",\"11th\",\"lessons\",\"programmers\",\"december\",\"flag\",\"singh\",\"arabic\",\"sale\",\"nfl\",\"grammar\",\"killing\",\"virgin\",\"differently\",\"poem\",\"provided\",\"automation\",\"shy\",\"translation\",\"mathematical\",\"45\",\"celebrities\",\"spring\",\"downloading\",\"dr\",\"organization\",\"majority\",\"clients\",\"hd\",\"motivate\",\"thats\",\"thesis\",\"door\",\"weakest\",\"saw\",\"canon\",\"younger\",\"costs\",\"river\",\"rings\",\"factory\",\"decent\",\"clintons\",\"holes\",\"desert\",\"divorce\",\"sold\",\"cheese\",\"atom\",\"taught\",\"minute\",\"ocean\",\"crisis\",\"represent\",\"surgical\",\"parent\",\"brexit\",\"possibility\",\"longest\",\"edit\",\"scholarship\",\"motivated\",\"chocolate\",\"faced\",\"90\",\"parallel\",\"foot\",\"examination\",\"friendly\",\"kinds\",\"wins\",\"islamic\",\"degrees\",\"registered\",\"distribution\",\"junior\",\"gave\",\"sing\",\"articles\",\"hadoop\",\"saved\",\"hero\",\"ear\",\"asks\",\"improved\",\"teenager\",\"forms\",\"wash\",\"provides\",\"washington\",\"strikes\",\"binary\",\"syria\",\"indonesia\",\"powers\",\"highly\",\"heshe\",\"happiness\",\"director\",\"citizenship\",\"knew\",\"humanity\",\"translate\",\"nba\",\"permanently\",\"soccer\",\"todays\",\"challenges\",\"barack\",\"title\",\"latin\",\"fitness\",\"genuine\",\"investor\",\"dislike\",\"scenes\",\"hacker\",\"bangladesh\",\"ebay\",\"earning\",\"dell\",\"paytm\",\"spouse\",\"bored\",\"roman\",\"official\",\"dragon\",\"park\",\"except\",\"habits\",\"quote\",\"astrology\",\"congress\",\"automatically\",\"island\",\"religions\",\"christianity\",\"supreme\",\"owner\",\"hell\",\"wikipedia\",\"cancel\",\"industries\",\"actress\",\"client\",\"visual\",\"michael\",\"remain\",\"ability\",\"concrete\",\"conflict\",\"string\",\"linear\",\"supposed\",\"engines\",\"2012\",\"\\u2018\",\"lesser\",\"traditional\",\"episodes\",\"goals\",\"tata\",\"opening\",\"target\",\"weak\",\"anonymous\",\"bjp\",\"resource\",\"concepts\",\"ruby\",\"friendship\",\"nyc\",\"pretty\",\"implement\",\"painting\",\"ill\",\"agency\",\"reverse\",\"confused\",\"italy\",\"response\",\"yellow\",\"dance\",\"contain\",\"vice\",\"editing\",\"acting\",\"weirdest\",\"feels\",\"govt\",\"accounting\",\"rise\",\"wise\",\"leaving\",\"lens\",\"artist\",\"arvind\",\"pattern\",\"scared\",\"attention\",\"airlines\",\"sky\",\"malaysia\",\"port\",\"attempt\",\"element\",\"classical\",\"shown\",\"safety\",\"including\",\"tablet\",\"la\",\"terrorism\",\"commit\",\"maps\",\"african\",\"viewed\",\"calling\",\"6s\",\"agent\",\"output\",\"justice\",\"don\",\"addiction\",\"lock\",\"vegetarian\",\"britain\",\"percent\",\"meditation\",\"ibps\",\"monthly\",\"writers\",\"forward\",\"stuff\",\"mr\",\"ready\",\"forgot\",\"flying\",\"recommended\",\"fields\",\"blind\",\"l\",\"hinduism\",\"desktop\",\"host\",\"tattoo\",\"maintain\",\"boards\",\"helpful\",\"semester\",\"load\",\"tier\",\"agree\",\"factor\",\"elon\",\"freshers\",\"sql\",\"cases\",\"exact\",\"confidence\",\"behavior\",\"hacked\",\"quotes\",\"hydrogen\",\"pakistani\",\"masturbate\",\"divided\",\"skill\",\"fine\",\"falling\",\"chess\",\"charging\",\"pages\",\"vector\",\"supporters\",\"waste\",\"sanders\",\"affordable\",\"unlock\",\"techniques\",\"wine\",\"keyboard\",\"cm\",\"wireless\",\"lawyer\",\"egg\",\"cope\",\"mindblowing\",\"recipe\",\"corruption\",\"scored\",\"secure\",\"teaching\",\"opposite\",\"educational\",\"bernie\",\"y\",\"library\",\"models\",\"kid\",\"stack\",\"separate\",\"19\",\"extremely\",\"properties\",\"cable\",\"magic\",\"removed\",\"computing\",\"hospital\",\"beer\",\"christians\",\"twice\",\"kg\",\"consulting\",\"whose\",\"serious\",\"petrol\",\"travelling\",\"revolution\",\"custom\",\"structures\",\"guide\",\"celebrate\",\"lenovo\",\"turned\",\"ielts\",\"grades\",\"fuel\",\"relative\",\"oracle\",\"academy\",\"lack\",\"passed\",\"relation\",\"values\",\"movement\",\"strategies\",\"eu\",\"emotional\",\"legs\",\"pokemon\",\"3g\",\"iran\",\"mostly\",\"jewish\",\"offered\",\"log\",\"hasnt\",\"explanation\",\"signal\",\"stores\",\"syllabus\",\"bits\",\"yoga\",\"weapons\",\"gods\",\"10000\",\"delivery\",\"gb\",\"sum\",\"letters\",\"venture\",\"selection\",\"winning\",\"35\",\"comment\",\"consequences\",\"sport\",\"items\",\"seems\",\"ring\",\"jealous\",\"laptops\",\"criteria\",\"fresh\",\"reference\",\"bitcoin\",\"infinite\",\"perform\",\"brazil\",\"density\",\"plans\",\"hosting\",\"clothing\",\"hong\",\"dying\",\"heavy\",\"steve\",\"gone\",\"damage\",\"missing\",\"ethical\",\"republican\",\"contacts\",\"activity\",\"electronic\",\"qualities\",\"piano\",\"hisher\",\"repair\",\"posts\",\"disease\",\"winter\",\"ten\",\"publish\",\"paint\",\"physically\",\"executive\",\"deposit\",\"elements\",\"xbox\",\"ceo\",\"visitors\",\"discovered\",\"tickets\",\"literature\",\"primary\",\"naturally\",\"senior\",\"u\",\"hardest\",\"debate\",\"frequency\",\"vietnam\",\"cry\",\"assistant\",\"gifts\",\"practical\",\"funny\",\"valid\",\"liberal\",\"refer\",\"beat\",\"shape\",\"institutes\",\"msc\",\"internal\",\"located\",\"significant\",\"scientists\",\"g\",\"ship\",\"proper\",\"independence\",\"added\",\"hes\",\"catch\",\"urine\",\"effectively\",\"named\",\"responsible\",\"strength\",\"whos\",\"immigration\",\"vehicle\",\"tesla\",\"kong\",\"meth\",\"england\",\"huge\",\"pizza\",\"rejected\",\"george\",\"fan\",\"salt\",\"browser\",\"sat\",\"loved\",\"fees\",\"walking\",\"symbol\",\"equity\",\"ubuntu\",\"alternatives\",\"theme\",\"virus\",\"manufacturing\",\"cutoff\",\"pure\",\"22\",\"introvert\",\"unable\",\"greek\",\"rice\",\"gst\",\"happening\",\"centre\",\"kiss\",\"prison\",\"bigger\",\"font\",\"construction\",\"exercises\",\"keeps\",\"gmat\",\"offers\",\"cross\",\"nasa\",\"unit\",\"advertising\",\"cup\",\"fixed\",\"limited\",\"billion\",\"subjects\",\"arts\",\"worlds\",\"stupid\",\"breaking\",\"funding\",\"tank\",\"generate\",\"efficient\",\"exists\",\"atheist\",\"entrepreneur\",\"direction\",\"broken\",\"offline\",\"firms\",\"station\",\"magnetic\",\"include\",\"aliens\",\"tinder\",\"logo\",\"photography\",\"worse\",\"besides\",\"path\",\"somebody\",\"interviews\",\"persons\",\"figure\",\"placed\",\"nation\",\"knows\",\"unmarried\",\"hp\",\"profitable\",\"tricks\",\"boss\",\"reply\",\"scam\",\"circle\",\"processor\",\"debt\",\"growing\",\"royal\",\"fiction\",\"department\",\"mistake\",\"weird\",\"graphics\",\"external\",\"article\",\"volume\",\"scratch\",\"chain\",\"protect\",\"storage\",\"texas\",\"liquid\",\"circuit\",\"graphic\",\"tired\",\"weather\",\"oxygen\",\"velocity\",\"dad\",\"band\",\"teachers\",\"drugs\",\"complex\",\"studio\",\"accenture\",\"leader\",\"levels\",\"goal\",\"logic\",\"acne\",\"plastic\",\"motion\",\"button\",\"peoples\",\"vision\",\"gap\",\"dollar\",\"computers\",\"stomach\",\"sources\",\"constant\",\"draw\",\"dress\",\"calculated\",\"sort\",\"3rd\",\"club\",\"channels\",\"creating\",\"candidates\",\"kejriwal\",\"broke\",\"sentences\",\"format\",\"emails\",\"raw\",\"stanford\",\"completed\",\"documents\",\"pan\",\"showing\",\"enter\",\"unknown\",\"bought\",\"router\",\"claim\",\"six\",\"technologies\",\"\\u20b9\",\"flipkart\",\"infosys\",\"mutual\",\"angry\",\"iits\",\"affected\",\"prices\",\"shares\",\"naruto\",\"processing\",\"finding\",\"democratic\",\"evolution\",\"harmful\",\"dual\",\"virtual\",\"member\",\"wave\",\"actual\",\"extra\",\"radio\",\"citizens\",\"e\",\"hr\",\"previous\",\"stopped\",\"walk\",\"redmi\",\"speaker\",\"torrent\",\"smoke\",\"mistakes\",\"flash\",\"iron\",\"entire\",\"individual\",\"express\",\"flow\",\"mode\",\"aircraft\",\"section\",\"planets\",\"10th\",\"respond\",\"easier\",\"evil\",\"percentile\",\"seeing\",\"calories\",\"upgrade\",\"professor\",\"v\",\"launch\",\"staff\",\"till\",\"silicon\",\"entry\",\"constitution\",\"century\",\"notice\",\"ie\",\"atheists\",\"tests\",\"21\",\"became\",\"kerala\",\"truly\",\"count\",\"essay\",\"papers\",\"accurate\",\"colors\",\"respect\",\"ideal\",\"rock\",\"reliance\",\"peace\",\"masturbation\",\"audio\",\"random\",\"independent\",\"colour\",\"hotels\",\"presidency\",\"generation\",\"paypal\",\"shot\",\"central\",\"released\",\"occur\",\"display\",\"industrial\",\"particular\",\"risk\",\"eg\",\"belly\",\"pet\",\"similarities\",\"organic\",\"marijuana\",\"networks\",\"aspects\",\"flat\",\"d\",\"comments\",\"nose\",\"identify\",\"rbi\",\"improvement\",\"directly\",\"framework\",\"suggestions\",\"designing\",\"brands\",\"religious\",\"influence\",\"novels\",\"statistics\",\"historical\",\"ground\",\"commerce\",\"pregnancy\",\"romantic\",\"failure\",\"wearing\",\"john\",\"apart\",\"bay\",\"symptoms\",\"200\",\"couple\",\"60\",\"canadian\",\"lie\",\"print\",\"carry\",\"gender\",\"experienced\",\"pounds\",\"reservation\",\"either\",\"stage\",\"artificial\",\"fit\",\"blogs\",\"developing\",\"environment\",\"learned\",\"copy\",\"phase\",\"bond\",\"democracy\",\"cgpa\",\"operating\",\"surface\",\"officers\",\"h1b\",\"ip\",\"workout\",\"fee\",\"elected\",\"hands\",\"largest\",\"sad\",\"shouldnt\",\"seat\",\"sister\",\"developers\",\"despite\",\"scene\",\"po\",\"diploma\",\"request\",\"empire\",\"ratio\",\"considering\",\"academic\",\"tree\",\"register\",\"advantage\",\"eligible\",\"nit\",\"shop\",\"intel\",\"funniest\",\"alternative\",\"fail\",\"ads\",\"nature\",\"miss\",\"involved\",\"overrated\",\"attend\",\"freedom\",\"dna\",\"beginners\",\"raise\",\"dry\",\"failed\",\"legally\",\"batman\",\"upload\",\"carbon\",\"regret\",\"applied\",\"points\",\"investors\",\"pick\",\"equivalent\",\"connected\",\"christmas\",\"lyrics\",\"nations\",\"caused\",\"bsc\",\"1st\",\"action\",\"activities\",\"biology\",\"hide\",\"asia\",\"takes\",\"require\",\"alive\",\"mom\",\"cycle\",\"generally\",\"campaign\",\"fair\",\"wake\",\"bit\",\"rules\",\"olympics\",\"racist\",\"areas\",\"eggs\",\"feature\",\"sap\",\"taxes\",\"ad\",\"shall\",\"theyre\",\"species\",\"pilot\",\"firm\",\"fish\",\"define\",\"doctors\",\"piece\",\"itself\",\"bang\",\"solutions\",\"iim\",\"2013\",\"wanted\",\"length\",\"burn\",\"waves\",\"bar\",\"gives\",\"forces\",\"christian\",\"anybody\",\"relationships\",\"nice\",\"wedding\",\"various\",\"brother\",\"films\",\"cream\",\"suddenly\",\"philippines\",\"fashion\",\"truth\",\"gpa\",\"cgl\",\"tall\",\"goa\",\"hacking\",\"statement\",\"reset\",\"materials\",\"played\",\"match\",\"usb\",\"novel\",\"unusual\",\"knowing\",\"selected\",\"valley\",\"chrome\",\"couples\",\"becomes\",\"died\",\"cheating\",\"community\",\"groups\",\"category\",\"pursuing\",\"writer\",\"mexico\",\"anymore\",\"sugar\",\"climate\",\"brown\",\"players\",\"ii\",\"reviews\",\"took\",\"led\",\"connection\",\"begin\",\"html\",\"changing\",\"received\",\"plants\",\"debit\",\"record\",\"revenue\",\"mars\",\"strongest\",\"members\",\"formed\",\"union\",\"thought\",\"existence\",\"kashmir\",\"gandhi\",\"pdf\",\"banned\",\"0\",\"plane\",\"treated\",\"electricity\",\"scale\",\"basis\",\"moral\",\"images\",\"methods\",\"certification\",\"voltage\",\"style\",\"base\",\"excel\",\"amazing\",\"regarding\",\"result\",\"rates\",\"hold\",\"indias\",\"airport\",\"businesses\",\"feet\",\"built\",\"linkedin\",\"signs\",\"above\",\"networking\",\"r\",\"shopping\",\"looks\",\"went\",\"placements\",\"bed\",\"experiences\",\"daughter\",\"tourist\",\"employee\",\"caste\",\"wait\",\"direct\",\"especially\",\"feed\",\"continue\",\"expected\",\"algorithm\",\"depressed\",\"shoes\",\"soon\",\"supply\",\"stress\",\"24\",\"inr\",\"foods\",\"rent\",\"architecture\",\"ban\",\"entrance\",\"actors\",\"messenger\",\"unique\",\"kolkata\",\"funds\",\"rupee\",\"promote\",\"rupees\",\"jews\",\"23\",\"cook\",\"cultural\",\"accepted\",\"hear\",\"glass\",\"road\",\"joining\",\"measure\",\"havent\",\"metal\",\"resume\",\"afraid\",\"turkey\",\"meat\",\"goes\",\"installation\",\"netflix\",\"benefit\",\"demand\",\"release\",\"produce\",\"report\",\"cover\",\"changes\",\"double\",\"2nd\",\"reaction\",\"killed\",\"steel\",\"requirements\",\"france\",\"exchange\",\"ac\",\"quantum\",\"reliable\",\"box\",\"results\",\"lives\",\"treatment\",\"4g\",\"ece\",\"probability\",\"sleeping\",\"philosophy\",\"handle\",\"forget\",\"driver\",\"demonetization\",\"algorithms\",\"trade\",\"rule\",\"muscle\",\"calls\",\"tried\",\"mental\",\"sure\",\"quit\",\"navy\",\"achieve\",\"francisco\",\"location\",\"until\",\"sense\",\"anxiety\",\"wordpress\",\"focus\",\"fact\",\"production\",\"conversation\",\"motor\",\"five\",\"attracted\",\"hit\",\"analyst\",\"moto\",\"isis\",\"chicken\",\"sector\",\"permanent\",\"along\",\"king\",\"slow\",\"candidate\",\"minutes\",\"purchase\",\"gun\",\"selling\",\"usually\",\"\\u2026\",\"fly\",\"round\",\"panel\",\"error\",\"stocks\",\"api\",\"remember\",\"africa\",\"paying\",\"hitler\",\"3d\",\"regular\",\"losing\",\"mail\",\"yahoo\",\"cheapest\",\"older\",\"concept\",\"characters\",\"definition\",\"lines\",\"pm\",\"cloud\",\"cats\",\"russian\",\"ipad\",\"korean\",\"proof\",\"battle\",\"stars\",\"stream\",\"recent\",\"typical\",\"performance\",\"harvard\",\"restaurant\",\"origin\",\"listen\",\"smell\",\"decide\",\"serve\",\"undergraduate\",\"profit\",\"situation\",\"surgery\",\"asking\",\"plant\",\"link\",\"square\",\"completing\",\"four\",\"trust\",\"payment\",\"gym\",\"andor\",\"worklife\",\"guitar\",\"elections\",\"half\",\"investing\",\"scientist\",\"street\",\"needs\",\"native\",\"thoughts\",\"reality\",\"40\",\"medicine\",\"race\",\"choice\",\"longer\",\"came\",\"applying\",\"hiring\",\"west\",\"weed\",\"hacks\",\"step\",\"sea\",\"crime\",\"devices\",\"event\",\"citizen\",\"14\",\"17\",\"ticket\",\"fund\",\"equation\",\"suicide\",\"whom\",\"met\",\"almost\",\"designer\",\"local\",\"departments\",\"khan\",\"customer\",\"banking\",\"javascript\",\"trip\",\"issue\",\"react\",\"cannot\",\"dubai\",\"wall\",\"touch\",\"parts\",\"loves\",\"clothes\",\"straight\",\"sexual\",\"active\",\"inpatient\",\"dreams\",\"protein\",\"table\",\"exercise\",\"lord\",\"mtech\",\"creative\",\"ball\",\"speaking\",\"son\",\"receive\",\"dollars\",\"domain\",\"prospects\",\"hour\",\"graduation\",\"commercial\",\"themselves\",\"factors\",\"jesus\",\"programmer\",\"recommend\",\"replace\",\"chat\",\"placement\",\"episode\",\"fastest\",\"restaurants\",\"object\",\"drivers\",\"gaming\",\"mark\",\"taste\",\"seem\",\"perfect\",\"potential\",\"trumps\",\"appear\",\"rights\",\"equal\",\"rest\",\"package\",\"meant\",\"drop\",\"cool\",\"material\",\"potter\",\"events\",\"convince\",\"completely\",\"n\",\"zero\",\"significance\",\"lower\",\"feelings\",\"followers\",\"evidence\",\"certain\",\"later\",\"original\",\"bible\",\"disorder\",\"testing\",\"via\",\"stand\",\"actor\",\"characteristics\",\"cities\",\"reach\",\"ago\",\"mbbs\",\"speech\",\"electric\",\"approach\",\"scientific\",\"root\",\"analytics\",\"below\",\"grade\",\"mains\",\"topic\",\"fun\",\"ancient\",\"adult\",\"standard\",\"ice\",\"everyday\",\"population\",\"invented\",\"european\",\"intelligent\",\"11\",\"subject\",\"rehab\",\"background\",\"giving\",\"platform\",\"flight\",\"thrones\",\"maths\",\"dc\",\"teeth\",\"mit\",\"weeks\",\"east\",\"means\",\"programs\",\"beginner\",\"heat\",\"third\",\"tea\",\"range\",\"london\",\"maximum\",\"enjoy\",\"2000\",\"cells\",\"quickly\",\"here\",\"expensive\",\"phrase\",\"partner\",\"league\",\"anime\",\"latest\",\"specific\",\"whether\",\"functions\",\"os\",\"fire\",\"saying\",\"secret\",\"13\",\"planet\",\"hole\",\"super\",\"teacher\",\"strong\",\"accounts\",\"minister\",\"database\",\"economic\",\"channel\",\"estate\",\"ram\",\"switch\",\"asian\",\"smoking\",\"branch\",\"israel\",\"18\",\"features\",\"success\",\"lead\",\"total\",\"key\",\"master\",\"ok\",\"favourite\",\"psychology\",\"pok\\u00e9mon\",\"nothing\",\"clean\",\"25\",\"politics\",\"drinking\",\"sometimes\",\"recently\",\"korea\",\"sent\",\"poor\",\"hindu\",\"hollywood\",\"survive\",\"cure\",\"property\",\"return\",\"narendra\",\"budget\",\"sports\",\"limit\",\"arent\",\"boys\",\"driving\",\"whole\",\"cash\",\"smartphone\",\"php\",\"developed\",\"ssc\",\"hot\",\"attractive\",\"tool\",\"physical\",\"ecommerce\",\"sbi\",\"morning\",\"animal\",\"multiple\",\"loan\",\"acid\",\"fresher\",\"spanish\",\"moving\",\"decision\",\"county\",\"determined\",\"becoming\",\"seo\",\"summer\",\"manage\",\"server\",\"competitive\",\"milk\",\"importance\",\"banks\",\"cheap\",\"powerful\",\"issues\",\"penis\",\"according\",\"analysis\",\"bike\",\"position\",\"western\",\"advanced\",\"campus\",\"highest\",\"front\",\"court\",\"status\",\"gravity\",\"positions\",\"comes\",\"steps\",\"complete\",\"electronics\",\"won\",\"hurt\",\"certificate\",\"temperature\",\"player\",\"someones\",\"communication\",\"million\",\"talking\",\"preparing\",\"finance\",\"cancer\",\"9\",\"harry\",\"accept\",\"2014\",\"plus\",\"born\",\"tcs\",\"license\",\"bring\",\"teach\",\"practice\",\"trading\",\"m\",\"might\",\"opportunities\",\"global\",\"wish\",\"outside\",\"attack\",\"procedure\",\"needed\",\"update\",\"coffee\",\"provider\",\"rather\",\"16\",\"allow\",\"tamil\",\"mix\",\"connect\",\"room\",\"watching\",\"deep\",\"york\",\"image\",\"birth\",\"sign\",\"birthday\",\"playing\",\"wars\",\"grads\",\"hire\",\"phones\",\"cbse\",\"details\",\"clear\",\"cricket\",\"dangerous\",\"track\",\"corporate\",\"voice\",\"upsc\",\"content\",\"okay\",\"san\",\"heart\",\"far\",\"heard\",\"prove\",\"positive\",\"moment\",\"sales\",\"opinion\",\"engineers\",\"block\",\"diet\",\"coding\",\"core\",\"baby\",\"father\",\"little\",\"large\",\"blocked\",\"distance\",\"land\",\"simple\",\"husband\",\"told\",\"traffic\",\"prevent\",\"pictures\",\"planning\",\"fear\",\"classes\",\"towards\",\"technical\",\"building\",\"trying\",\"photo\",\"early\",\"uses\",\"sydney\",\"startups\",\"act\",\"id\",\"describe\",\"12th\",\"may\",\"formula\",\"gets\",\"present\",\"wont\",\"cut\",\"treat\",\"mathematics\",\"visiting\",\"eye\",\"policy\",\"close\",\"cse\",\"suitable\",\"version\",\"tools\",\"head\",\"minimum\",\"chennai\",\"easily\",\"method\",\"intelligence\",\"gre\",\"mother\",\"doctor\",\"macbook\",\"deleted\",\"gas\",\"suggest\",\"cards\",\"files\",\"loss\",\"art\",\"easiest\",\"late\",\"among\",\"together\",\"depression\",\"higher\",\"alone\",\"economics\",\"dead\",\"growth\",\"insurance\",\"gold\",\"necessary\",\"neet\",\"blog\",\"example\",\"memory\",\"crack\",\"consider\",\"works\",\"currency\",\"recruit\",\"pursue\",\"strategy\",\"young\",\"cs\",\"projects\",\"50\",\"manager\",\"abroad\",\"schools\",\"illegal\",\"inside\",\"stories\",\"hand\",\"t\",\"greatest\",\"personality\",\"galaxy\",\"device\",\"views\",\"user\",\"chemistry\",\"cars\",\"iq\",\"prefer\",\"picture\",\"nuclear\",\"middle\",\"applications\",\"gmail\",\"laws\",\"final\",\"capital\",\"kids\",\"society\",\"fake\",\"bill\",\"save\",\"though\",\"likely\",\"determine\",\"shows\",\"character\",\"snapchat\",\"youre\",\"eyes\",\"islam\",\"marry\",\"brand\",\"yet\",\"impact\",\"speak\",\"within\",\"rich\",\"resources\",\"net\",\"non\",\"pressure\",\"changed\",\"allowed\",\"obama\",\"cold\",\"running\",\"feeling\",\"jio\",\"football\",\"gift\",\"written\",\"buying\",\"mac\",\"spend\",\"prime\",\"blue\",\"train\",\"studies\",\"negative\",\"thinking\",\"solution\",\"sun\",\"least\",\"following\",\"install\",\"else\",\"muslims\",\"camera\",\"vote\",\"linux\",\"expect\",\"german\",\"recover\",\"starting\",\"crush\",\"coming\",\"muslim\",\"modern\",\"battery\",\"provide\",\"access\",\"presidential\",\"interest\",\"dating\",\"pro\",\"likes\",\"french\",\"singapore\",\"useful\",\"already\",\"professional\",\"percentage\",\"drink\",\"created\",\"board\",\"passport\",\"structure\",\"case\",\"height\",\"microsoft\",\"break\",\"screen\",\"names\",\"chance\",\"special\",\"30\",\"skin\",\"natural\",\"color\",\"interested\",\"amount\",\"pain\",\"healthy\",\"hack\",\"messages\",\"ias\",\"gay\",\"disadvantages\",\"pass\",\"moon\",\"systems\",\"hindi\",\"financial\",\"taken\",\"yes\",\"sim\",\"pregnant\",\"faster\",\"animals\",\"internship\",\"let\",\"photos\",\"balance\",\"sound\",\"due\",\"knowledge\",\"charge\",\"message\",\"officer\",\"solar\",\"military\",\"meet\",\"option\",\"reading\",\"across\",\"overcome\",\"everyone\",\"everything\",\"wife\",\"reduce\",\"chances\",\"samsung\",\"income\",\"bollywood\",\"season\",\"europe\",\"boy\",\"currently\",\"ex\",\"smart\",\"california\",\"engine\",\"paid\",\"army\",\"contact\",\"address\",\"wants\",\"ones\",\"gain\",\"reasons\",\"avoid\",\"please\",\"note\",\"known\",\"pune\",\"film\",\"national\",\"once\",\"users\",\"porn\",\"scope\",\"twitter\",\"drug\",\"rank\",\"japan\",\"fight\",\"transfer\",\"political\",\"green\",\"news\",\"self\",\"uber\",\"basic\",\"british\",\"religion\",\"hyderabad\",\"topics\",\"explain\",\"phd\",\"eating\",\"letter\",\"calculate\",\"ive\",\"tech\",\"personal\",\"japanese\",\"check\",\"hotel\",\"wifi\",\"beautiful\",\"difficult\",\"paper\",\"languages\",\"investment\",\"develop\",\"north\",\"electrical\",\"ios\",\"alcohol\",\"exactly\",\"profile\",\"past\",\"exams\",\"ca\",\"convert\",\"vs\",\"understand\",\"care\",\"dream\",\"try\",\"americans\",\"lost\",\"chemical\",\"source\",\"b\",\"admission\",\"easy\",\"must\",\"three\",\"effect\",\"view\",\"options\",\"page\",\"away\",\"red\",\"said\",\"line\",\"short\",\"happy\",\"security\",\"dark\",\"preparation\",\"second\",\"fat\",\"matter\",\"few\",\"since\",\"role\",\"pc\",\"office\",\"team\",\"delete\",\"cell\",\"election\",\"economy\",\"term\",\"dogs\",\"text\",\"female\",\"effective\",\"brain\",\"share\",\"digital\",\"btech\",\"russia\",\"\\u201c\",\"party\",\"numbers\",\"20\",\"store\",\"male\",\"mass\",\"turn\",\"left\",\"married\",\"rs\",\"taking\",\"those\",\"password\",\"follow\",\"advice\",\"isnt\",\"15\",\"types\",\"network\",\"\\u201d\",\"week\",\"purpose\",\"related\",\"fix\",\"started\",\"courses\",\"masters\",\"grow\",\"8\",\"fast\",\"leave\",\"100\",\"often\",\"found\",\"pros\",\"marriage\",\"cons\",\"quality\",\"words\",\"kill\",\"price\",\"near\",\"modi\",\"enough\",\"search\",\"python\",\"x\",\"blood\",\"math\",\"yourself\",\"drive\",\"size\",\"star\",\"graduate\",\"majors\",\"500\",\"model\",\"studying\",\"general\",\"oil\",\"colleges\",\"area\",\"developer\",\"germany\",\"industry\",\"full\",\"training\",\"says\",\"period\",\"videos\",\"universe\",\"fall\",\"daily\",\"information\",\"foreign\",\"credit\",\"force\",\"12\",\"youve\",\"south\",\"offer\",\"set\",\"add\",\"send\",\"australia\",\"center\",\"1000\",\"famous\",\"2015\",\"lot\",\"function\",\"tax\",\"correct\",\"solve\",\"advantages\",\"coaching\",\"institute\",\"effects\",\"guys\",\"again\",\"group\",\"hours\",\"side\",\"sentence\",\"low\",\"similar\",\"plan\",\"children\",\"answers\",\"talk\",\"marks\",\"ideas\",\"theory\",\"death\",\"compared\",\"night\",\"remove\",\"dog\",\"anything\",\"single\",\"successful\",\"gate\",\"indians\",\"put\",\"problems\",\"move\",\"writing\",\"point\",\"invest\",\"asked\",\"biggest\",\"others\",\"stock\",\"notes\",\"story\",\"machine\",\"private\",\"sell\",\"seen\",\"required\",\"field\",\"file\",\"rate\",\"humans\",\"application\",\"face\",\"sites\",\"mind\",\"facts\",\"mumbai\",\"post\",\"stay\",\"child\",\"terms\",\"products\",\"control\",\"legal\",\"police\",\"didnt\",\"level\",\"worst\",\"hate\",\"visit\",\"called\",\"amazon\",\"causes\",\"health\",\"form\",\"physics\",\"iit\",\"skills\",\"times\",\"medical\",\"based\",\"list\",\"websites\",\"die\",\"part\",\"less\",\"benefits\",\"apple\",\"instead\",\"these\",\"boyfriend\",\"sleep\",\"canada\",\"reason\",\"education\",\"cause\",\"jee\",\"value\",\"today\",\"media\",\"public\",\"happened\",\"product\",\"research\",\"main\",\"behind\",\"international\",\"project\",\"uk\",\"differ\",\"7\",\"places\",\"wear\",\"order\",\"date\",\"etc\",\"small\",\"songs\",\"apps\",\"email\",\"given\",\"wrong\",\"site\",\"normal\",\"culture\",\"also\",\"civil\",\"city\",\"available\",\"house\",\"exist\",\"startup\",\"services\",\"ms\",\"both\",\"down\",\"2017\",\"run\",\"cat\",\"well\",\"space\",\"join\",\"deal\",\"games\",\"visa\",\"rid\",\"air\",\"speed\",\"popular\",\"problem\",\"support\",\"current\",\"pakistan\",\"choose\",\"build\",\"idea\",\"america\",\"whatsapp\",\"affect\",\"law\",\"technology\",\"call\",\"6\",\"universities\",\"family\",\"marketing\",\"major\",\"actually\",\"favorite\",\"light\",\"bangalore\",\"woman\",\"because\",\"type\",\"program\",\"looking\",\"living\",\"open\",\"believe\",\"month\",\"able\",\"management\",\"travel\",\"degree\",\"show\",\"interesting\",\"score\",\"months\",\"series\",\"chinese\",\"development\",\"end\",\"code\",\"design\",\"per\",\"employees\",\"review\",\"clinton\",\"common\",\"kind\",\"internet\",\"song\",\"download\",\"course\",\"parents\",\"jobs\",\"such\",\"increase\",\"java\",\"god\",\"another\",\"united\",\"girlfriend\",\"mechanical\",\"always\",\"next\",\"never\",\"around\",\"tips\",\"mba\",\"myself\",\"hillary\",\"apply\",\"answer\",\"something\",\"considered\",\"making\",\"differences\",\"market\",\"compare\",\"great\",\"keep\",\"test\",\"s\",\"win\",\"against\",\"states\",\"earn\",\"youtube\",\"worth\",\"delhi\",\"energy\",\"laptop\",\"american\",\"lose\",\"each\",\"hard\",\"makes\",\"age\",\"ask\",\"safe\",\"body\",\"power\",\"salary\",\"4\",\"watch\",\"white\",\"windows\",\"instagram\",\"history\",\"pay\",\"every\",\"last\",\"create\",\"relationship\",\"music\",\"too\",\"meaning\",\"state\",\"average\",\"earth\",\"got\",\"process\",\"class\",\"tv\",\"eat\",\"done\",\"happens\",\"days\",\"big\",\"off\",\"improve\",\"future\",\"place\",\"man\",\"human\",\"government\",\"play\",\"countries\",\"food\",\"service\",\"students\",\"weight\",\"game\",\"engineer\",\"write\",\"very\",\"interview\",\"web\",\"tell\",\"social\",\"girls\",\"video\",\"look\",\"having\",\"guy\",\"home\",\"hair\",\"usa\",\"doesnt\",\"word\",\"bank\",\"friend\",\"true\",\"experience\",\"career\",\"president\",\"question\",\"own\",\"china\",\"come\",\"under\",\"working\",\"him\",\"doing\",\"donald\",\"friends\",\"right\",\"5\",\"cost\",\"mobile\",\"even\",\"movies\",\"then\",\"c\",\"\\u2019\",\"exam\",\"men\",\"learning\",\"card\",\"war\",\"read\",\"programming\",\"black\",\"anyone\",\"high\",\"10\",\"companies\",\"car\",\"getting\",\"give\",\"important\",\"questions\",\"cant\",\"iphone\",\"website\",\"top\",\"water\",\"prepare\",\"during\",\"real\",\"say\",\"system\",\"name\",\"through\",\"two\",\"1\",\"our\",\"study\",\"3\",\"university\",\"made\",\"back\",\"happen\",\"stop\",\"student\",\"sex\",\"bad\",\"language\",\"going\",\"same\",\"before\",\"software\",\"school\",\"live\",\"country\",\"android\",\"science\",\"help\",\"she\",\"see\",\"thing\",\"women\",\"over\",\"data\",\"examples\",\"computer\",\"had\",\"ways\",\"change\",\"while\",\"book\",\"english\",\"account\",\"still\",\"movie\",\"books\",\"2016\",\"facebook\",\"free\",\"number\",\"college\",\"app\",\"2\",\"just\",\"now\",\"no\",\"trump\",\"company\",\"only\",\"old\",\"been\",\"google\",\"phone\",\"long\",\"different\",\"girl\",\"his\",\"her\",\"years\",\"really\",\"them\",\"using\",\"business\",\"need\",\"being\",\"buy\",\"day\",\"person\",\"things\",\"possible\",\"could\",\"were\",\"its\",\"love\",\"engineering\",\"im\",\"used\",\"online\",\"go\",\"year\",\"he\",\"into\",\"feel\",\"dont\",\"first\",\"up\"]]]}}},\"view\":{\"type\":\"object\",\"name\":\"CDSView\",\"id\":\"p1147\",\"attributes\":{\"filter\":{\"type\":\"object\",\"name\":\"AllIndices\",\"id\":\"p1148\"}}},\"glyph\":{\"type\":\"object\",\"name\":\"Scatter\",\"id\":\"p1143\",\"attributes\":{\"x\":{\"type\":\"field\",\"field\":\"x\"},\"y\":{\"type\":\"field\",\"field\":\"y\"},\"size\":{\"type\":\"value\",\"value\":10},\"line_color\":{\"type\":\"field\",\"field\":\"color\"},\"line_alpha\":{\"type\":\"value\",\"value\":0.25},\"fill_color\":{\"type\":\"field\",\"field\":\"color\"},\"fill_alpha\":{\"type\":\"value\",\"value\":0.25},\"hatch_color\":{\"type\":\"field\",\"field\":\"color\"},\"hatch_alpha\":{\"type\":\"value\",\"value\":0.25}}},\"nonselection_glyph\":{\"type\":\"object\",\"name\":\"Scatter\",\"id\":\"p1144\",\"attributes\":{\"x\":{\"type\":\"field\",\"field\":\"x\"},\"y\":{\"type\":\"field\",\"field\":\"y\"},\"size\":{\"type\":\"value\",\"value\":10},\"line_color\":{\"type\":\"field\",\"field\":\"color\"},\"line_alpha\":{\"type\":\"value\",\"value\":0.1},\"fill_color\":{\"type\":\"field\",\"field\":\"color\"},\"fill_alpha\":{\"type\":\"value\",\"value\":0.1},\"hatch_color\":{\"type\":\"field\",\"field\":\"color\"},\"hatch_alpha\":{\"type\":\"value\",\"value\":0.1}}},\"muted_glyph\":{\"type\":\"object\",\"name\":\"Scatter\",\"id\":\"p1145\",\"attributes\":{\"x\":{\"type\":\"field\",\"field\":\"x\"},\"y\":{\"type\":\"field\",\"field\":\"y\"},\"size\":{\"type\":\"value\",\"value\":10},\"line_color\":{\"type\":\"field\",\"field\":\"color\"},\"line_alpha\":{\"type\":\"value\",\"value\":0.2},\"fill_color\":{\"type\":\"field\",\"field\":\"color\"},\"fill_alpha\":{\"type\":\"value\",\"value\":0.2},\"hatch_color\":{\"type\":\"field\",\"field\":\"color\"},\"hatch_alpha\":{\"type\":\"value\",\"value\":0.2}}}}}],\"toolbar\":{\"type\":\"object\",\"name\":\"Toolbar\",\"id\":\"p1114\",\"attributes\":{\"tools\":[{\"type\":\"object\",\"name\":\"PanTool\",\"id\":\"p1127\"},{\"type\":\"object\",\"name\":\"WheelZoomTool\",\"id\":\"p1128\",\"attributes\":{\"renderers\":\"auto\"}},{\"type\":\"object\",\"name\":\"BoxZoomTool\",\"id\":\"p1129\",\"attributes\":{\"overlay\":{\"type\":\"object\",\"name\":\"BoxAnnotation\",\"id\":\"p1130\",\"attributes\":{\"syncable\":false,\"line_color\":\"black\",\"line_alpha\":1.0,\"line_width\":2,\"line_dash\":[4,4],\"fill_color\":\"lightgrey\",\"fill_alpha\":0.5,\"level\":\"overlay\",\"visible\":false,\"left\":{\"type\":\"number\",\"value\":\"nan\"},\"right\":{\"type\":\"number\",\"value\":\"nan\"},\"top\":{\"type\":\"number\",\"value\":\"nan\"},\"bottom\":{\"type\":\"number\",\"value\":\"nan\"},\"left_units\":\"canvas\",\"right_units\":\"canvas\",\"top_units\":\"canvas\",\"bottom_units\":\"canvas\",\"handles\":{\"type\":\"object\",\"name\":\"BoxInteractionHandles\",\"id\":\"p1136\",\"attributes\":{\"all\":{\"type\":\"object\",\"name\":\"AreaVisuals\",\"id\":\"p1135\",\"attributes\":{\"fill_color\":\"white\",\"hover_fill_color\":\"lightgray\"}}}}}}}},{\"type\":\"object\",\"name\":\"SaveTool\",\"id\":\"p1137\"},{\"type\":\"object\",\"name\":\"ResetTool\",\"id\":\"p1138\"},{\"type\":\"object\",\"name\":\"HelpTool\",\"id\":\"p1139\"},{\"type\":\"object\",\"name\":\"HoverTool\",\"id\":\"p1149\",\"attributes\":{\"renderers\":\"auto\",\"tooltips\":[[\"token\",\"@token\"]]}}],\"active_scroll\":{\"id\":\"p1128\"}}},\"left\":[{\"type\":\"object\",\"name\":\"LinearAxis\",\"id\":\"p1122\",\"attributes\":{\"ticker\":{\"type\":\"object\",\"name\":\"BasicTicker\",\"id\":\"p1123\",\"attributes\":{\"mantissas\":[1,2,5]}},\"formatter\":{\"type\":\"object\",\"name\":\"BasicTickFormatter\",\"id\":\"p1124\"},\"major_label_policy\":{\"type\":\"object\",\"name\":\"AllLabels\",\"id\":\"p1125\"}}}],\"below\":[{\"type\":\"object\",\"name\":\"LinearAxis\",\"id\":\"p1117\",\"attributes\":{\"ticker\":{\"type\":\"object\",\"name\":\"BasicTicker\",\"id\":\"p1118\",\"attributes\":{\"mantissas\":[1,2,5]}},\"formatter\":{\"type\":\"object\",\"name\":\"BasicTickFormatter\",\"id\":\"p1119\"},\"major_label_policy\":{\"type\":\"object\",\"name\":\"AllLabels\",\"id\":\"p1120\"}}}],\"center\":[{\"type\":\"object\",\"name\":\"Grid\",\"id\":\"p1121\",\"attributes\":{\"axis\":{\"id\":\"p1117\"}}},{\"type\":\"object\",\"name\":\"Grid\",\"id\":\"p1126\",\"attributes\":{\"dimension\":1,\"axis\":{\"id\":\"p1122\"}}}]}}]}};\n",
              "  const render_items = [{\"docid\":\"41d0a75c-ec6b-409f-9740-e9bf504dd61a\",\"roots\":{\"p1106\":\"d3e5d073-56d0-4512-88dd-710d0ee0e6b9\"},\"root_ids\":[\"p1106\"]}];\n",
              "  void root.Bokeh.embed.embed_items_notebook(docs_json, render_items);\n",
              "  }\n",
              "  if (root.Bokeh !== undefined) {\n",
              "    embed_document(root);\n",
              "  } else {\n",
              "    let attempts = 0;\n",
              "    const timer = setInterval(function(root) {\n",
              "      if (root.Bokeh !== undefined) {\n",
              "        clearInterval(timer);\n",
              "        embed_document(root);\n",
              "      } else {\n",
              "        attempts++;\n",
              "        if (attempts > 100) {\n",
              "          clearInterval(timer);\n",
              "          console.log(\"Bokeh: ERROR: Unable to run BokehJS code because BokehJS library is missing\");\n",
              "        }\n",
              "      }\n",
              "    }, 10, root)\n",
              "  }\n",
              "})(window);"
            ],
            "application/vnd.bokehjs_exec.v0+json": ""
          },
          "metadata": {
            "application/vnd.bokehjs_exec.v0+json": {
              "id": "p1106"
            }
          }
        },
        {
          "output_type": "execute_result",
          "data": {
            "text/plain": [
              "figure(id='p1106', ...)"
            ],
            "text/html": [
              "<div style=\"display: table;\"><div style=\"display: table-row;\"><div style=\"display: table-cell;\"><b title=\"bokeh.plotting._figure.figure\">figure</b>(</div><div style=\"display: table-cell;\">id&nbsp;=&nbsp;'p1106', <span id=\"p1153\" style=\"cursor: pointer;\">&hellip;)</span></div></div><div class=\"p1152\" style=\"display: none;\"><div style=\"display: table-cell;\"></div><div style=\"display: table-cell;\">above&nbsp;=&nbsp;[],</div></div><div class=\"p1152\" style=\"display: none;\"><div style=\"display: table-cell;\"></div><div style=\"display: table-cell;\">align&nbsp;=&nbsp;'auto',</div></div><div class=\"p1152\" style=\"display: none;\"><div style=\"display: table-cell;\"></div><div style=\"display: table-cell;\">aspect_ratio&nbsp;=&nbsp;None,</div></div><div class=\"p1152\" style=\"display: none;\"><div style=\"display: table-cell;\"></div><div style=\"display: table-cell;\">aspect_scale&nbsp;=&nbsp;1,</div></div><div class=\"p1152\" style=\"display: none;\"><div style=\"display: table-cell;\"></div><div style=\"display: table-cell;\">attribution&nbsp;=&nbsp;[],</div></div><div class=\"p1152\" style=\"display: none;\"><div style=\"display: table-cell;\"></div><div style=\"display: table-cell;\">background_fill_alpha&nbsp;=&nbsp;1.0,</div></div><div class=\"p1152\" style=\"display: none;\"><div style=\"display: table-cell;\"></div><div style=\"display: table-cell;\">background_fill_color&nbsp;=&nbsp;'#ffffff',</div></div><div class=\"p1152\" style=\"display: none;\"><div style=\"display: table-cell;\"></div><div style=\"display: table-cell;\">below&nbsp;=&nbsp;[LinearAxis(id='p1117', ...)],</div></div><div class=\"p1152\" style=\"display: none;\"><div style=\"display: table-cell;\"></div><div style=\"display: table-cell;\">border_fill_alpha&nbsp;=&nbsp;1.0,</div></div><div class=\"p1152\" style=\"display: none;\"><div style=\"display: table-cell;\"></div><div style=\"display: table-cell;\">border_fill_color&nbsp;=&nbsp;'#ffffff',</div></div><div class=\"p1152\" style=\"display: none;\"><div style=\"display: table-cell;\"></div><div style=\"display: table-cell;\">center&nbsp;=&nbsp;[Grid(id='p1121', ...), Grid(id='p1126', ...)],</div></div><div class=\"p1152\" style=\"display: none;\"><div style=\"display: table-cell;\"></div><div style=\"display: table-cell;\">context_menu&nbsp;=&nbsp;None,</div></div><div class=\"p1152\" style=\"display: none;\"><div style=\"display: table-cell;\"></div><div style=\"display: table-cell;\">css_classes&nbsp;=&nbsp;[],</div></div><div class=\"p1152\" style=\"display: none;\"><div style=\"display: table-cell;\"></div><div style=\"display: table-cell;\">css_variables&nbsp;=&nbsp;{},</div></div><div class=\"p1152\" style=\"display: none;\"><div style=\"display: table-cell;\"></div><div style=\"display: table-cell;\">disabled&nbsp;=&nbsp;False,</div></div><div class=\"p1152\" style=\"display: none;\"><div style=\"display: table-cell;\"></div><div style=\"display: table-cell;\">elements&nbsp;=&nbsp;[],</div></div><div class=\"p1152\" style=\"display: none;\"><div style=\"display: table-cell;\"></div><div style=\"display: table-cell;\">extra_x_ranges&nbsp;=&nbsp;{},</div></div><div class=\"p1152\" style=\"display: none;\"><div style=\"display: table-cell;\"></div><div style=\"display: table-cell;\">extra_x_scales&nbsp;=&nbsp;{},</div></div><div class=\"p1152\" style=\"display: none;\"><div style=\"display: table-cell;\"></div><div style=\"display: table-cell;\">extra_y_ranges&nbsp;=&nbsp;{},</div></div><div class=\"p1152\" style=\"display: none;\"><div style=\"display: table-cell;\"></div><div style=\"display: table-cell;\">extra_y_scales&nbsp;=&nbsp;{},</div></div><div class=\"p1152\" style=\"display: none;\"><div style=\"display: table-cell;\"></div><div style=\"display: table-cell;\">flow_mode&nbsp;=&nbsp;'block',</div></div><div class=\"p1152\" style=\"display: none;\"><div style=\"display: table-cell;\"></div><div style=\"display: table-cell;\">frame_align&nbsp;=&nbsp;True,</div></div><div class=\"p1152\" style=\"display: none;\"><div style=\"display: table-cell;\"></div><div style=\"display: table-cell;\">frame_height&nbsp;=&nbsp;None,</div></div><div class=\"p1152\" style=\"display: none;\"><div style=\"display: table-cell;\"></div><div style=\"display: table-cell;\">frame_width&nbsp;=&nbsp;None,</div></div><div class=\"p1152\" style=\"display: none;\"><div style=\"display: table-cell;\"></div><div style=\"display: table-cell;\">height&nbsp;=&nbsp;400,</div></div><div class=\"p1152\" style=\"display: none;\"><div style=\"display: table-cell;\"></div><div style=\"display: table-cell;\">height_policy&nbsp;=&nbsp;'auto',</div></div><div class=\"p1152\" style=\"display: none;\"><div style=\"display: table-cell;\"></div><div style=\"display: table-cell;\">hidpi&nbsp;=&nbsp;True,</div></div><div class=\"p1152\" style=\"display: none;\"><div style=\"display: table-cell;\"></div><div style=\"display: table-cell;\">hold_render&nbsp;=&nbsp;False,</div></div><div class=\"p1152\" style=\"display: none;\"><div style=\"display: table-cell;\"></div><div style=\"display: table-cell;\">js_event_callbacks&nbsp;=&nbsp;{},</div></div><div class=\"p1152\" style=\"display: none;\"><div style=\"display: table-cell;\"></div><div style=\"display: table-cell;\">js_property_callbacks&nbsp;=&nbsp;{},</div></div><div class=\"p1152\" style=\"display: none;\"><div style=\"display: table-cell;\"></div><div style=\"display: table-cell;\">left&nbsp;=&nbsp;[LinearAxis(id='p1122', ...)],</div></div><div class=\"p1152\" style=\"display: none;\"><div style=\"display: table-cell;\"></div><div style=\"display: table-cell;\">lod_factor&nbsp;=&nbsp;10,</div></div><div class=\"p1152\" style=\"display: none;\"><div style=\"display: table-cell;\"></div><div style=\"display: table-cell;\">lod_interval&nbsp;=&nbsp;300,</div></div><div class=\"p1152\" style=\"display: none;\"><div style=\"display: table-cell;\"></div><div style=\"display: table-cell;\">lod_threshold&nbsp;=&nbsp;2000,</div></div><div class=\"p1152\" style=\"display: none;\"><div style=\"display: table-cell;\"></div><div style=\"display: table-cell;\">lod_timeout&nbsp;=&nbsp;500,</div></div><div class=\"p1152\" style=\"display: none;\"><div style=\"display: table-cell;\"></div><div style=\"display: table-cell;\">margin&nbsp;=&nbsp;None,</div></div><div class=\"p1152\" style=\"display: none;\"><div style=\"display: table-cell;\"></div><div style=\"display: table-cell;\">match_aspect&nbsp;=&nbsp;False,</div></div><div class=\"p1152\" style=\"display: none;\"><div style=\"display: table-cell;\"></div><div style=\"display: table-cell;\">max_height&nbsp;=&nbsp;None,</div></div><div class=\"p1152\" style=\"display: none;\"><div style=\"display: table-cell;\"></div><div style=\"display: table-cell;\">max_width&nbsp;=&nbsp;None,</div></div><div class=\"p1152\" style=\"display: none;\"><div style=\"display: table-cell;\"></div><div style=\"display: table-cell;\">min_border&nbsp;=&nbsp;5,</div></div><div class=\"p1152\" style=\"display: none;\"><div style=\"display: table-cell;\"></div><div style=\"display: table-cell;\">min_border_bottom&nbsp;=&nbsp;None,</div></div><div class=\"p1152\" style=\"display: none;\"><div style=\"display: table-cell;\"></div><div style=\"display: table-cell;\">min_border_left&nbsp;=&nbsp;None,</div></div><div class=\"p1152\" style=\"display: none;\"><div style=\"display: table-cell;\"></div><div style=\"display: table-cell;\">min_border_right&nbsp;=&nbsp;None,</div></div><div class=\"p1152\" style=\"display: none;\"><div style=\"display: table-cell;\"></div><div style=\"display: table-cell;\">min_border_top&nbsp;=&nbsp;None,</div></div><div class=\"p1152\" style=\"display: none;\"><div style=\"display: table-cell;\"></div><div style=\"display: table-cell;\">min_height&nbsp;=&nbsp;None,</div></div><div class=\"p1152\" style=\"display: none;\"><div style=\"display: table-cell;\"></div><div style=\"display: table-cell;\">min_width&nbsp;=&nbsp;None,</div></div><div class=\"p1152\" style=\"display: none;\"><div style=\"display: table-cell;\"></div><div style=\"display: table-cell;\">name&nbsp;=&nbsp;None,</div></div><div class=\"p1152\" style=\"display: none;\"><div style=\"display: table-cell;\"></div><div style=\"display: table-cell;\">outline_line_alpha&nbsp;=&nbsp;1.0,</div></div><div class=\"p1152\" style=\"display: none;\"><div style=\"display: table-cell;\"></div><div style=\"display: table-cell;\">outline_line_cap&nbsp;=&nbsp;'butt',</div></div><div class=\"p1152\" style=\"display: none;\"><div style=\"display: table-cell;\"></div><div style=\"display: table-cell;\">outline_line_color&nbsp;=&nbsp;'#e5e5e5',</div></div><div class=\"p1152\" style=\"display: none;\"><div style=\"display: table-cell;\"></div><div style=\"display: table-cell;\">outline_line_dash&nbsp;=&nbsp;[],</div></div><div class=\"p1152\" style=\"display: none;\"><div style=\"display: table-cell;\"></div><div style=\"display: table-cell;\">outline_line_dash_offset&nbsp;=&nbsp;0,</div></div><div class=\"p1152\" style=\"display: none;\"><div style=\"display: table-cell;\"></div><div style=\"display: table-cell;\">outline_line_join&nbsp;=&nbsp;'bevel',</div></div><div class=\"p1152\" style=\"display: none;\"><div style=\"display: table-cell;\"></div><div style=\"display: table-cell;\">outline_line_width&nbsp;=&nbsp;1,</div></div><div class=\"p1152\" style=\"display: none;\"><div style=\"display: table-cell;\"></div><div style=\"display: table-cell;\">output_backend&nbsp;=&nbsp;'canvas',</div></div><div class=\"p1152\" style=\"display: none;\"><div style=\"display: table-cell;\"></div><div style=\"display: table-cell;\">renderers&nbsp;=&nbsp;[GlyphRenderer(id='p1146', ...)],</div></div><div class=\"p1152\" style=\"display: none;\"><div style=\"display: table-cell;\"></div><div style=\"display: table-cell;\">reset_policy&nbsp;=&nbsp;'standard',</div></div><div class=\"p1152\" style=\"display: none;\"><div style=\"display: table-cell;\"></div><div style=\"display: table-cell;\">resizable&nbsp;=&nbsp;False,</div></div><div class=\"p1152\" style=\"display: none;\"><div style=\"display: table-cell;\"></div><div style=\"display: table-cell;\">right&nbsp;=&nbsp;[],</div></div><div class=\"p1152\" style=\"display: none;\"><div style=\"display: table-cell;\"></div><div style=\"display: table-cell;\">sizing_mode&nbsp;=&nbsp;None,</div></div><div class=\"p1152\" style=\"display: none;\"><div style=\"display: table-cell;\"></div><div style=\"display: table-cell;\">styles&nbsp;=&nbsp;{},</div></div><div class=\"p1152\" style=\"display: none;\"><div style=\"display: table-cell;\"></div><div style=\"display: table-cell;\">stylesheets&nbsp;=&nbsp;[],</div></div><div class=\"p1152\" style=\"display: none;\"><div style=\"display: table-cell;\"></div><div style=\"display: table-cell;\">subscribed_events&nbsp;=&nbsp;PropertyValueSet(),</div></div><div class=\"p1152\" style=\"display: none;\"><div style=\"display: table-cell;\"></div><div style=\"display: table-cell;\">syncable&nbsp;=&nbsp;True,</div></div><div class=\"p1152\" style=\"display: none;\"><div style=\"display: table-cell;\"></div><div style=\"display: table-cell;\">tags&nbsp;=&nbsp;[],</div></div><div class=\"p1152\" style=\"display: none;\"><div style=\"display: table-cell;\"></div><div style=\"display: table-cell;\">title&nbsp;=&nbsp;Title(id='p1113', ...),</div></div><div class=\"p1152\" style=\"display: none;\"><div style=\"display: table-cell;\"></div><div style=\"display: table-cell;\">title_location&nbsp;=&nbsp;'above',</div></div><div class=\"p1152\" style=\"display: none;\"><div style=\"display: table-cell;\"></div><div style=\"display: table-cell;\">toolbar&nbsp;=&nbsp;Toolbar(id='p1114', ...),</div></div><div class=\"p1152\" style=\"display: none;\"><div style=\"display: table-cell;\"></div><div style=\"display: table-cell;\">toolbar_inner&nbsp;=&nbsp;False,</div></div><div class=\"p1152\" style=\"display: none;\"><div style=\"display: table-cell;\"></div><div style=\"display: table-cell;\">toolbar_location&nbsp;=&nbsp;'right',</div></div><div class=\"p1152\" style=\"display: none;\"><div style=\"display: table-cell;\"></div><div style=\"display: table-cell;\">toolbar_sticky&nbsp;=&nbsp;True,</div></div><div class=\"p1152\" style=\"display: none;\"><div style=\"display: table-cell;\"></div><div style=\"display: table-cell;\">visible&nbsp;=&nbsp;True,</div></div><div class=\"p1152\" style=\"display: none;\"><div style=\"display: table-cell;\"></div><div style=\"display: table-cell;\">width&nbsp;=&nbsp;600,</div></div><div class=\"p1152\" style=\"display: none;\"><div style=\"display: table-cell;\"></div><div style=\"display: table-cell;\">width_policy&nbsp;=&nbsp;'auto',</div></div><div class=\"p1152\" style=\"display: none;\"><div style=\"display: table-cell;\"></div><div style=\"display: table-cell;\">x_range&nbsp;=&nbsp;DataRange1d(id='p1107', ...),</div></div><div class=\"p1152\" style=\"display: none;\"><div style=\"display: table-cell;\"></div><div style=\"display: table-cell;\">x_scale&nbsp;=&nbsp;LinearScale(id='p1115', ...),</div></div><div class=\"p1152\" style=\"display: none;\"><div style=\"display: table-cell;\"></div><div style=\"display: table-cell;\">y_range&nbsp;=&nbsp;DataRange1d(id='p1108', ...),</div></div><div class=\"p1152\" style=\"display: none;\"><div style=\"display: table-cell;\"></div><div style=\"display: table-cell;\">y_scale&nbsp;=&nbsp;LinearScale(id='p1116', ...))</div></div></div>\n",
              "<script>\n",
              "(function() {\n",
              "  let expanded = false;\n",
              "  const ellipsis = document.getElementById(\"p1153\");\n",
              "  ellipsis.addEventListener(\"click\", function() {\n",
              "    const rows = document.getElementsByClassName(\"p1152\");\n",
              "    for (let i = 0; i < rows.length; i++) {\n",
              "      const el = rows[i];\n",
              "      el.style.display = expanded ? \"none\" : \"table-row\";\n",
              "    }\n",
              "    ellipsis.innerHTML = expanded ? \"&hellip;)\" : \"&lsaquo;&lsaquo;&lsaquo;\";\n",
              "    expanded = !expanded;\n",
              "  });\n",
              "})();\n",
              "</script>\n"
            ]
          },
          "metadata": {},
          "execution_count": 119
        }
      ],
      "source": [
        "draw_vectors(embedding[:, 0], embedding[:, 1], token=top_words)"
      ]
    }
  ],
  "metadata": {
    "colab": {
      "provenance": []
    },
    "kernelspec": {
      "display_name": "py3_research",
      "language": "python",
      "name": "python3"
    },
    "language_info": {
      "codemirror_mode": {
        "name": "ipython",
        "version": 3
      },
      "file_extension": ".py",
      "mimetype": "text/x-python",
      "name": "python",
      "nbconvert_exporter": "python",
      "pygments_lexer": "ipython3",
      "version": "3.11.2"
    },
    "widgets": {
      "application/vnd.jupyter.widget-state+json": {
        "64d0f6002a18445d80506930241a1a59": {
          "model_module": "@jupyter-widgets/controls",
          "model_name": "HBoxModel",
          "model_module_version": "1.5.0",
          "state": {
            "_dom_classes": [],
            "_model_module": "@jupyter-widgets/controls",
            "_model_module_version": "1.5.0",
            "_model_name": "HBoxModel",
            "_view_count": null,
            "_view_module": "@jupyter-widgets/controls",
            "_view_module_version": "1.5.0",
            "_view_name": "HBoxView",
            "box_style": "",
            "children": [
              "IPY_MODEL_1465561f261746748c29d02b89414ac9",
              "IPY_MODEL_1af895dbbf8e4c2884084ab2b04e1eb8",
              "IPY_MODEL_4e93907128d44cf19bd9746ee970fed7"
            ],
            "layout": "IPY_MODEL_950c6b6175904c3584d829045edaf225"
          }
        },
        "1465561f261746748c29d02b89414ac9": {
          "model_module": "@jupyter-widgets/controls",
          "model_name": "HTMLModel",
          "model_module_version": "1.5.0",
          "state": {
            "_dom_classes": [],
            "_model_module": "@jupyter-widgets/controls",
            "_model_module_version": "1.5.0",
            "_model_name": "HTMLModel",
            "_view_count": null,
            "_view_module": "@jupyter-widgets/controls",
            "_view_module_version": "1.5.0",
            "_view_name": "HTMLView",
            "description": "",
            "description_tooltip": null,
            "layout": "IPY_MODEL_fc6e2198bc5841689c95bc78c3f9321d",
            "placeholder": "​",
            "style": "IPY_MODEL_a868a7d95e71479f8b749b99ba0459c3",
            "value": " 55%"
          }
        },
        "1af895dbbf8e4c2884084ab2b04e1eb8": {
          "model_module": "@jupyter-widgets/controls",
          "model_name": "FloatProgressModel",
          "model_module_version": "1.5.0",
          "state": {
            "_dom_classes": [],
            "_model_module": "@jupyter-widgets/controls",
            "_model_module_version": "1.5.0",
            "_model_name": "FloatProgressModel",
            "_view_count": null,
            "_view_module": "@jupyter-widgets/controls",
            "_view_module_version": "1.5.0",
            "_view_name": "ProgressView",
            "bar_style": "danger",
            "description": "",
            "description_tooltip": null,
            "layout": "IPY_MODEL_c7684f95d3784034a44635e57a49f6f5",
            "max": 1100,
            "min": 0,
            "orientation": "horizontal",
            "style": "IPY_MODEL_bba10b679f3a4bfbb086d493ce869bf1",
            "value": 607
          }
        },
        "4e93907128d44cf19bd9746ee970fed7": {
          "model_module": "@jupyter-widgets/controls",
          "model_name": "HTMLModel",
          "model_module_version": "1.5.0",
          "state": {
            "_dom_classes": [],
            "_model_module": "@jupyter-widgets/controls",
            "_model_module_version": "1.5.0",
            "_model_name": "HTMLModel",
            "_view_count": null,
            "_view_module": "@jupyter-widgets/controls",
            "_view_module_version": "1.5.0",
            "_view_name": "HTMLView",
            "description": "",
            "description_tooltip": null,
            "layout": "IPY_MODEL_fce22e3ecdf54ef099518873d2e8b6ef",
            "placeholder": "​",
            "style": "IPY_MODEL_de38044d5915426083d3165444a20e86",
            "value": " 607/1100 [14:41&lt;12:52,  1.57s/it]"
          }
        },
        "950c6b6175904c3584d829045edaf225": {
          "model_module": "@jupyter-widgets/base",
          "model_name": "LayoutModel",
          "model_module_version": "1.2.0",
          "state": {
            "_model_module": "@jupyter-widgets/base",
            "_model_module_version": "1.2.0",
            "_model_name": "LayoutModel",
            "_view_count": null,
            "_view_module": "@jupyter-widgets/base",
            "_view_module_version": "1.2.0",
            "_view_name": "LayoutView",
            "align_content": null,
            "align_items": null,
            "align_self": null,
            "border": null,
            "bottom": null,
            "display": null,
            "flex": null,
            "flex_flow": null,
            "grid_area": null,
            "grid_auto_columns": null,
            "grid_auto_flow": null,
            "grid_auto_rows": null,
            "grid_column": null,
            "grid_gap": null,
            "grid_row": null,
            "grid_template_areas": null,
            "grid_template_columns": null,
            "grid_template_rows": null,
            "height": null,
            "justify_content": null,
            "justify_items": null,
            "left": null,
            "margin": null,
            "max_height": null,
            "max_width": null,
            "min_height": null,
            "min_width": null,
            "object_fit": null,
            "object_position": null,
            "order": null,
            "overflow": null,
            "overflow_x": null,
            "overflow_y": null,
            "padding": null,
            "right": null,
            "top": null,
            "visibility": null,
            "width": null
          }
        },
        "fc6e2198bc5841689c95bc78c3f9321d": {
          "model_module": "@jupyter-widgets/base",
          "model_name": "LayoutModel",
          "model_module_version": "1.2.0",
          "state": {
            "_model_module": "@jupyter-widgets/base",
            "_model_module_version": "1.2.0",
            "_model_name": "LayoutModel",
            "_view_count": null,
            "_view_module": "@jupyter-widgets/base",
            "_view_module_version": "1.2.0",
            "_view_name": "LayoutView",
            "align_content": null,
            "align_items": null,
            "align_self": null,
            "border": null,
            "bottom": null,
            "display": null,
            "flex": null,
            "flex_flow": null,
            "grid_area": null,
            "grid_auto_columns": null,
            "grid_auto_flow": null,
            "grid_auto_rows": null,
            "grid_column": null,
            "grid_gap": null,
            "grid_row": null,
            "grid_template_areas": null,
            "grid_template_columns": null,
            "grid_template_rows": null,
            "height": null,
            "justify_content": null,
            "justify_items": null,
            "left": null,
            "margin": null,
            "max_height": null,
            "max_width": null,
            "min_height": null,
            "min_width": null,
            "object_fit": null,
            "object_position": null,
            "order": null,
            "overflow": null,
            "overflow_x": null,
            "overflow_y": null,
            "padding": null,
            "right": null,
            "top": null,
            "visibility": null,
            "width": null
          }
        },
        "a868a7d95e71479f8b749b99ba0459c3": {
          "model_module": "@jupyter-widgets/controls",
          "model_name": "DescriptionStyleModel",
          "model_module_version": "1.5.0",
          "state": {
            "_model_module": "@jupyter-widgets/controls",
            "_model_module_version": "1.5.0",
            "_model_name": "DescriptionStyleModel",
            "_view_count": null,
            "_view_module": "@jupyter-widgets/base",
            "_view_module_version": "1.2.0",
            "_view_name": "StyleView",
            "description_width": ""
          }
        },
        "c7684f95d3784034a44635e57a49f6f5": {
          "model_module": "@jupyter-widgets/base",
          "model_name": "LayoutModel",
          "model_module_version": "1.2.0",
          "state": {
            "_model_module": "@jupyter-widgets/base",
            "_model_module_version": "1.2.0",
            "_model_name": "LayoutModel",
            "_view_count": null,
            "_view_module": "@jupyter-widgets/base",
            "_view_module_version": "1.2.0",
            "_view_name": "LayoutView",
            "align_content": null,
            "align_items": null,
            "align_self": null,
            "border": null,
            "bottom": null,
            "display": null,
            "flex": null,
            "flex_flow": null,
            "grid_area": null,
            "grid_auto_columns": null,
            "grid_auto_flow": null,
            "grid_auto_rows": null,
            "grid_column": null,
            "grid_gap": null,
            "grid_row": null,
            "grid_template_areas": null,
            "grid_template_columns": null,
            "grid_template_rows": null,
            "height": null,
            "justify_content": null,
            "justify_items": null,
            "left": null,
            "margin": null,
            "max_height": null,
            "max_width": null,
            "min_height": null,
            "min_width": null,
            "object_fit": null,
            "object_position": null,
            "order": null,
            "overflow": null,
            "overflow_x": null,
            "overflow_y": null,
            "padding": null,
            "right": null,
            "top": null,
            "visibility": null,
            "width": null
          }
        },
        "bba10b679f3a4bfbb086d493ce869bf1": {
          "model_module": "@jupyter-widgets/controls",
          "model_name": "ProgressStyleModel",
          "model_module_version": "1.5.0",
          "state": {
            "_model_module": "@jupyter-widgets/controls",
            "_model_module_version": "1.5.0",
            "_model_name": "ProgressStyleModel",
            "_view_count": null,
            "_view_module": "@jupyter-widgets/base",
            "_view_module_version": "1.2.0",
            "_view_name": "StyleView",
            "bar_color": null,
            "description_width": ""
          }
        },
        "fce22e3ecdf54ef099518873d2e8b6ef": {
          "model_module": "@jupyter-widgets/base",
          "model_name": "LayoutModel",
          "model_module_version": "1.2.0",
          "state": {
            "_model_module": "@jupyter-widgets/base",
            "_model_module_version": "1.2.0",
            "_model_name": "LayoutModel",
            "_view_count": null,
            "_view_module": "@jupyter-widgets/base",
            "_view_module_version": "1.2.0",
            "_view_name": "LayoutView",
            "align_content": null,
            "align_items": null,
            "align_self": null,
            "border": null,
            "bottom": null,
            "display": null,
            "flex": null,
            "flex_flow": null,
            "grid_area": null,
            "grid_auto_columns": null,
            "grid_auto_flow": null,
            "grid_auto_rows": null,
            "grid_column": null,
            "grid_gap": null,
            "grid_row": null,
            "grid_template_areas": null,
            "grid_template_columns": null,
            "grid_template_rows": null,
            "height": null,
            "justify_content": null,
            "justify_items": null,
            "left": null,
            "margin": null,
            "max_height": null,
            "max_width": null,
            "min_height": null,
            "min_width": null,
            "object_fit": null,
            "object_position": null,
            "order": null,
            "overflow": null,
            "overflow_x": null,
            "overflow_y": null,
            "padding": null,
            "right": null,
            "top": null,
            "visibility": null,
            "width": null
          }
        },
        "de38044d5915426083d3165444a20e86": {
          "model_module": "@jupyter-widgets/controls",
          "model_name": "DescriptionStyleModel",
          "model_module_version": "1.5.0",
          "state": {
            "_model_module": "@jupyter-widgets/controls",
            "_model_module_version": "1.5.0",
            "_model_name": "DescriptionStyleModel",
            "_view_count": null,
            "_view_module": "@jupyter-widgets/base",
            "_view_module_version": "1.2.0",
            "_view_name": "StyleView",
            "description_width": ""
          }
        }
      }
    }
  },
  "nbformat": 4,
  "nbformat_minor": 0
}